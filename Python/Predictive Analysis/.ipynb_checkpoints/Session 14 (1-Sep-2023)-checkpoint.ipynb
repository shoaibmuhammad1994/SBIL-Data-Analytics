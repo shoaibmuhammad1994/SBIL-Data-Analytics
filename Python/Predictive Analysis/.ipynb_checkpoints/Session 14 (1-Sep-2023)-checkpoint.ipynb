{
 "cells": [
  {
   "cell_type": "markdown",
   "id": "2707b3c6",
   "metadata": {},
   "source": [
    "# Group By"
   ]
  },
  {
   "cell_type": "code",
   "execution_count": 1,
   "id": "e1b73f3c",
   "metadata": {},
   "outputs": [],
   "source": [
    "import pandas as pd"
   ]
  },
  {
   "cell_type": "code",
   "execution_count": 2,
   "id": "c425eb3f",
   "metadata": {},
   "outputs": [],
   "source": [
    "import matplotlib.pyplot as plt"
   ]
  },
  {
   "cell_type": "code",
   "execution_count": 3,
   "id": "cf395a15",
   "metadata": {},
   "outputs": [],
   "source": [
    "data = pd.read_excel('data/SaleData.xlsx')\n",
    "data.head(10)\n",
    "data.set_index('OrderDate', inplace=True)"
   ]
  },
  {
   "cell_type": "code",
   "execution_count": 4,
   "id": "3a6e49f3",
   "metadata": {},
   "outputs": [
    {
     "name": "stdout",
     "output_type": "stream",
     "text": [
      "<class 'pandas.core.frame.DataFrame'>\n",
      "DatetimeIndex: 45 entries, 2018-01-06 to NaT\n",
      "Data columns (total 7 columns):\n",
      " #   Column      Non-Null Count  Dtype  \n",
      "---  ------      --------------  -----  \n",
      " 0   Region      43 non-null     object \n",
      " 1   Manager     43 non-null     object \n",
      " 2   SalesMan    43 non-null     object \n",
      " 3   Item        43 non-null     object \n",
      " 4   Units       45 non-null     float64\n",
      " 5   Unit_price  45 non-null     float64\n",
      " 6   Sale_amt    45 non-null     float64\n",
      "dtypes: float64(3), object(4)\n",
      "memory usage: 2.8+ KB\n"
     ]
    }
   ],
   "source": [
    "data.info()\n",
    "# data.OrderDate.dt.month_name()"
   ]
  },
  {
   "cell_type": "code",
   "execution_count": 5,
   "id": "55f470e3",
   "metadata": {},
   "outputs": [
    {
     "data": {
      "text/html": [
       "<div>\n",
       "<style scoped>\n",
       "    .dataframe tbody tr th:only-of-type {\n",
       "        vertical-align: middle;\n",
       "    }\n",
       "\n",
       "    .dataframe tbody tr th {\n",
       "        vertical-align: top;\n",
       "    }\n",
       "\n",
       "    .dataframe thead th {\n",
       "        text-align: right;\n",
       "    }\n",
       "</style>\n",
       "<table border=\"1\" class=\"dataframe\">\n",
       "  <thead>\n",
       "    <tr style=\"text-align: right;\">\n",
       "      <th></th>\n",
       "      <th>Region</th>\n",
       "      <th>Manager</th>\n",
       "      <th>SalesMan</th>\n",
       "      <th>Item</th>\n",
       "      <th>Units</th>\n",
       "      <th>Unit_price</th>\n",
       "      <th>Sale_amt</th>\n",
       "    </tr>\n",
       "    <tr>\n",
       "      <th>OrderDate</th>\n",
       "      <th></th>\n",
       "      <th></th>\n",
       "      <th></th>\n",
       "      <th></th>\n",
       "      <th></th>\n",
       "      <th></th>\n",
       "      <th></th>\n",
       "    </tr>\n",
       "  </thead>\n",
       "  <tbody>\n",
       "    <tr>\n",
       "      <th>2018-01-06</th>\n",
       "      <td>East</td>\n",
       "      <td>Martha</td>\n",
       "      <td>Alexander</td>\n",
       "      <td>Television</td>\n",
       "      <td>95.0</td>\n",
       "      <td>1198.0</td>\n",
       "      <td>113810.0</td>\n",
       "    </tr>\n",
       "    <tr>\n",
       "      <th>2018-01-23</th>\n",
       "      <td>Central</td>\n",
       "      <td>Hermann</td>\n",
       "      <td>Shelli</td>\n",
       "      <td>Home Theater</td>\n",
       "      <td>50.0</td>\n",
       "      <td>500.0</td>\n",
       "      <td>25000.0</td>\n",
       "    </tr>\n",
       "    <tr>\n",
       "      <th>2018-02-09</th>\n",
       "      <td>Central</td>\n",
       "      <td>Hermann</td>\n",
       "      <td>Luis</td>\n",
       "      <td>Television</td>\n",
       "      <td>36.0</td>\n",
       "      <td>1198.0</td>\n",
       "      <td>43128.0</td>\n",
       "    </tr>\n",
       "  </tbody>\n",
       "</table>\n",
       "</div>"
      ],
      "text/plain": [
       "             Region  Manager   SalesMan          Item  Units  Unit_price  \\\n",
       "OrderDate                                                                  \n",
       "2018-01-06     East   Martha  Alexander    Television   95.0      1198.0   \n",
       "2018-01-23  Central  Hermann     Shelli  Home Theater   50.0       500.0   \n",
       "2018-02-09  Central  Hermann       Luis    Television   36.0      1198.0   \n",
       "\n",
       "            Sale_amt  \n",
       "OrderDate             \n",
       "2018-01-06  113810.0  \n",
       "2018-01-23   25000.0  \n",
       "2018-02-09   43128.0  "
      ]
     },
     "execution_count": 5,
     "metadata": {},
     "output_type": "execute_result"
    }
   ],
   "source": [
    "data.head(3)"
   ]
  },
  {
   "cell_type": "code",
   "execution_count": 6,
   "id": "7f10277e",
   "metadata": {},
   "outputs": [
    {
     "data": {
      "text/plain": [
       "array(['East', 'Central', 'West', nan], dtype=object)"
      ]
     },
     "execution_count": 6,
     "metadata": {},
     "output_type": "execute_result"
    }
   ],
   "source": [
    "data.Region.unique()"
   ]
  },
  {
   "cell_type": "code",
   "execution_count": 7,
   "id": "25a88a7c",
   "metadata": {},
   "outputs": [],
   "source": [
    "data.dropna(inplace=True)"
   ]
  },
  {
   "cell_type": "code",
   "execution_count": 8,
   "id": "c12d5044",
   "metadata": {},
   "outputs": [
    {
     "data": {
      "text/plain": [
       "array(['East', 'Central', 'West'], dtype=object)"
      ]
     },
     "execution_count": 8,
     "metadata": {},
     "output_type": "execute_result"
    }
   ],
   "source": [
    "data.Region.unique()"
   ]
  },
  {
   "cell_type": "code",
   "execution_count": 9,
   "id": "39655b1d",
   "metadata": {},
   "outputs": [
    {
     "data": {
      "text/plain": [
       "array(['Martha', 'Hermann', 'Timothy', 'Douglas'], dtype=object)"
      ]
     },
     "execution_count": 9,
     "metadata": {},
     "output_type": "execute_result"
    }
   ],
   "source": [
    "data.Manager.unique()"
   ]
  },
  {
   "cell_type": "code",
   "execution_count": 10,
   "id": "bfbc3d01",
   "metadata": {},
   "outputs": [
    {
     "data": {
      "text/plain": [
       "array(['Alexander', 'Shelli', 'Luis', 'David', 'Stephen', 'Steven',\n",
       "       'Michael', 'Sigal', 'Diana', 'Karen', 'John'], dtype=object)"
      ]
     },
     "execution_count": 10,
     "metadata": {},
     "output_type": "execute_result"
    }
   ],
   "source": [
    "data.SalesMan.unique()"
   ]
  },
  {
   "cell_type": "code",
   "execution_count": 11,
   "id": "8fde1264",
   "metadata": {},
   "outputs": [
    {
     "data": {
      "text/plain": [
       "array(['Television', 'Home Theater', 'Cell Phone', 'Desk', 'Video Games'],\n",
       "      dtype=object)"
      ]
     },
     "execution_count": 11,
     "metadata": {},
     "output_type": "execute_result"
    }
   ],
   "source": [
    "data.Item.unique()"
   ]
  },
  {
   "cell_type": "code",
   "execution_count": 12,
   "id": "ad86da5b",
   "metadata": {},
   "outputs": [],
   "source": [
    "region_gp = data.groupby('Region')"
   ]
  },
  {
   "cell_type": "code",
   "execution_count": 13,
   "id": "00661ab9",
   "metadata": {},
   "outputs": [
    {
     "data": {
      "text/plain": [
       "{'Central': [2018-01-23 00:00:00, 2018-02-09 00:00:00, 2018-02-26 00:00:00, 2018-04-18 00:00:00, 2018-05-05 00:00:00, 2018-06-25 00:00:00, 2018-09-01 00:00:00, 2018-10-05 00:00:00, 2018-11-25 00:00:00, 2018-12-12 00:00:00, 2019-01-15 00:00:00, 2019-02-01 00:00:00, 2019-03-24 00:00:00, 2019-04-10 00:00:00, 2019-05-14 00:00:00, 2019-05-31 00:00:00, 2019-06-17 00:00:00, 2019-07-21 00:00:00, 2019-08-07 00:00:00, 2019-09-10 00:00:00, 2019-10-31 00:00:00, 2019-11-17 00:00:00, 2019-12-04 00:00:00, 2019-12-21 00:00:00], 'East': [2018-01-06 00:00:00, 2018-04-01 00:00:00, 2018-06-08 00:00:00, 2018-07-12 00:00:00, 2018-07-29 00:00:00, 2018-08-15 00:00:00, 2018-09-18 00:00:00, 2018-10-22 00:00:00, 2018-11-08 00:00:00, 2018-12-29 00:00:00, 2019-02-18 00:00:00, 2019-04-27 00:00:00, 2019-07-04 00:00:00], 'West': [2018-03-15 00:00:00, 2018-05-22 00:00:00, 2019-03-07 00:00:00, 2019-08-24 00:00:00, 2019-09-27 00:00:00, 2019-10-14 00:00:00]}"
      ]
     },
     "execution_count": 13,
     "metadata": {},
     "output_type": "execute_result"
    }
   ],
   "source": [
    "region_gp.groups"
   ]
  },
  {
   "cell_type": "code",
   "execution_count": 14,
   "id": "ba9a6cac",
   "metadata": {},
   "outputs": [
    {
     "data": {
      "text/plain": [
       "829769.5"
      ]
     },
     "execution_count": 14,
     "metadata": {},
     "output_type": "execute_result"
    }
   ],
   "source": [
    "region_central = region_gp.get_group('Central')\n",
    "region_central['Sale_amt'].sum()"
   ]
  },
  {
   "cell_type": "code",
   "execution_count": 16,
   "id": "99956c7c",
   "metadata": {},
   "outputs": [
    {
     "data": {
      "text/html": [
       "<div>\n",
       "<style scoped>\n",
       "    .dataframe tbody tr th:only-of-type {\n",
       "        vertical-align: middle;\n",
       "    }\n",
       "\n",
       "    .dataframe tbody tr th {\n",
       "        vertical-align: top;\n",
       "    }\n",
       "\n",
       "    .dataframe thead th {\n",
       "        text-align: right;\n",
       "    }\n",
       "</style>\n",
       "<table border=\"1\" class=\"dataframe\">\n",
       "  <thead>\n",
       "    <tr style=\"text-align: right;\">\n",
       "      <th></th>\n",
       "      <th>Region</th>\n",
       "      <th>Manager</th>\n",
       "      <th>SalesMan</th>\n",
       "      <th>Item</th>\n",
       "      <th>Units</th>\n",
       "      <th>Unit_price</th>\n",
       "      <th>Sale_amt</th>\n",
       "    </tr>\n",
       "    <tr>\n",
       "      <th>OrderDate</th>\n",
       "      <th></th>\n",
       "      <th></th>\n",
       "      <th></th>\n",
       "      <th></th>\n",
       "      <th></th>\n",
       "      <th></th>\n",
       "      <th></th>\n",
       "    </tr>\n",
       "  </thead>\n",
       "  <tbody>\n",
       "    <tr>\n",
       "      <th>2018-01-23</th>\n",
       "      <td>Central</td>\n",
       "      <td>Hermann</td>\n",
       "      <td>Shelli</td>\n",
       "      <td>Home Theater</td>\n",
       "      <td>50.0</td>\n",
       "      <td>500.0</td>\n",
       "      <td>25000.0</td>\n",
       "    </tr>\n",
       "    <tr>\n",
       "      <th>2018-02-09</th>\n",
       "      <td>Central</td>\n",
       "      <td>Hermann</td>\n",
       "      <td>Luis</td>\n",
       "      <td>Television</td>\n",
       "      <td>36.0</td>\n",
       "      <td>1198.0</td>\n",
       "      <td>43128.0</td>\n",
       "    </tr>\n",
       "    <tr>\n",
       "      <th>2018-02-26</th>\n",
       "      <td>Central</td>\n",
       "      <td>Timothy</td>\n",
       "      <td>David</td>\n",
       "      <td>Cell Phone</td>\n",
       "      <td>27.0</td>\n",
       "      <td>225.0</td>\n",
       "      <td>6075.0</td>\n",
       "    </tr>\n",
       "    <tr>\n",
       "      <th>2018-04-18</th>\n",
       "      <td>Central</td>\n",
       "      <td>Martha</td>\n",
       "      <td>Steven</td>\n",
       "      <td>Television</td>\n",
       "      <td>75.0</td>\n",
       "      <td>1198.0</td>\n",
       "      <td>89850.0</td>\n",
       "    </tr>\n",
       "    <tr>\n",
       "      <th>2018-05-05</th>\n",
       "      <td>Central</td>\n",
       "      <td>Hermann</td>\n",
       "      <td>Luis</td>\n",
       "      <td>Television</td>\n",
       "      <td>90.0</td>\n",
       "      <td>1198.0</td>\n",
       "      <td>107820.0</td>\n",
       "    </tr>\n",
       "    <tr>\n",
       "      <th>2018-06-25</th>\n",
       "      <td>Central</td>\n",
       "      <td>Hermann</td>\n",
       "      <td>Sigal</td>\n",
       "      <td>Television</td>\n",
       "      <td>90.0</td>\n",
       "      <td>1198.0</td>\n",
       "      <td>107820.0</td>\n",
       "    </tr>\n",
       "    <tr>\n",
       "      <th>2018-09-01</th>\n",
       "      <td>Central</td>\n",
       "      <td>Douglas</td>\n",
       "      <td>John</td>\n",
       "      <td>Desk</td>\n",
       "      <td>2.0</td>\n",
       "      <td>125.0</td>\n",
       "      <td>250.0</td>\n",
       "    </tr>\n",
       "    <tr>\n",
       "      <th>2018-10-05</th>\n",
       "      <td>Central</td>\n",
       "      <td>Hermann</td>\n",
       "      <td>Sigal</td>\n",
       "      <td>Home Theater</td>\n",
       "      <td>28.0</td>\n",
       "      <td>500.0</td>\n",
       "      <td>14000.0</td>\n",
       "    </tr>\n",
       "    <tr>\n",
       "      <th>2018-11-25</th>\n",
       "      <td>Central</td>\n",
       "      <td>Hermann</td>\n",
       "      <td>Shelli</td>\n",
       "      <td>Video Games</td>\n",
       "      <td>96.0</td>\n",
       "      <td>58.5</td>\n",
       "      <td>5616.0</td>\n",
       "    </tr>\n",
       "    <tr>\n",
       "      <th>2018-12-12</th>\n",
       "      <td>Central</td>\n",
       "      <td>Douglas</td>\n",
       "      <td>John</td>\n",
       "      <td>Television</td>\n",
       "      <td>67.0</td>\n",
       "      <td>1198.0</td>\n",
       "      <td>80266.0</td>\n",
       "    </tr>\n",
       "    <tr>\n",
       "      <th>2019-01-15</th>\n",
       "      <td>Central</td>\n",
       "      <td>Timothy</td>\n",
       "      <td>David</td>\n",
       "      <td>Home Theater</td>\n",
       "      <td>46.0</td>\n",
       "      <td>500.0</td>\n",
       "      <td>23000.0</td>\n",
       "    </tr>\n",
       "    <tr>\n",
       "      <th>2019-02-01</th>\n",
       "      <td>Central</td>\n",
       "      <td>Douglas</td>\n",
       "      <td>John</td>\n",
       "      <td>Home Theater</td>\n",
       "      <td>87.0</td>\n",
       "      <td>500.0</td>\n",
       "      <td>43500.0</td>\n",
       "    </tr>\n",
       "    <tr>\n",
       "      <th>2019-03-24</th>\n",
       "      <td>Central</td>\n",
       "      <td>Hermann</td>\n",
       "      <td>Luis</td>\n",
       "      <td>Video Games</td>\n",
       "      <td>50.0</td>\n",
       "      <td>58.5</td>\n",
       "      <td>2925.0</td>\n",
       "    </tr>\n",
       "    <tr>\n",
       "      <th>2019-04-10</th>\n",
       "      <td>Central</td>\n",
       "      <td>Martha</td>\n",
       "      <td>Steven</td>\n",
       "      <td>Television</td>\n",
       "      <td>66.0</td>\n",
       "      <td>1198.0</td>\n",
       "      <td>79068.0</td>\n",
       "    </tr>\n",
       "    <tr>\n",
       "      <th>2019-05-14</th>\n",
       "      <td>Central</td>\n",
       "      <td>Timothy</td>\n",
       "      <td>David</td>\n",
       "      <td>Television</td>\n",
       "      <td>53.0</td>\n",
       "      <td>1198.0</td>\n",
       "      <td>63494.0</td>\n",
       "    </tr>\n",
       "    <tr>\n",
       "      <th>2019-05-31</th>\n",
       "      <td>Central</td>\n",
       "      <td>Timothy</td>\n",
       "      <td>David</td>\n",
       "      <td>Home Theater</td>\n",
       "      <td>80.0</td>\n",
       "      <td>500.0</td>\n",
       "      <td>40000.0</td>\n",
       "    </tr>\n",
       "    <tr>\n",
       "      <th>2019-06-17</th>\n",
       "      <td>Central</td>\n",
       "      <td>Hermann</td>\n",
       "      <td>Shelli</td>\n",
       "      <td>Desk</td>\n",
       "      <td>5.0</td>\n",
       "      <td>125.0</td>\n",
       "      <td>625.0</td>\n",
       "    </tr>\n",
       "    <tr>\n",
       "      <th>2019-07-21</th>\n",
       "      <td>Central</td>\n",
       "      <td>Hermann</td>\n",
       "      <td>Sigal</td>\n",
       "      <td>Video Games</td>\n",
       "      <td>55.0</td>\n",
       "      <td>58.5</td>\n",
       "      <td>3217.5</td>\n",
       "    </tr>\n",
       "    <tr>\n",
       "      <th>2019-08-07</th>\n",
       "      <td>Central</td>\n",
       "      <td>Hermann</td>\n",
       "      <td>Shelli</td>\n",
       "      <td>Video Games</td>\n",
       "      <td>42.0</td>\n",
       "      <td>58.5</td>\n",
       "      <td>2457.0</td>\n",
       "    </tr>\n",
       "    <tr>\n",
       "      <th>2019-09-10</th>\n",
       "      <td>Central</td>\n",
       "      <td>Timothy</td>\n",
       "      <td>David</td>\n",
       "      <td>Television</td>\n",
       "      <td>7.0</td>\n",
       "      <td>1198.0</td>\n",
       "      <td>8386.0</td>\n",
       "    </tr>\n",
       "    <tr>\n",
       "      <th>2019-10-31</th>\n",
       "      <td>Central</td>\n",
       "      <td>Martha</td>\n",
       "      <td>Steven</td>\n",
       "      <td>Television</td>\n",
       "      <td>14.0</td>\n",
       "      <td>1198.0</td>\n",
       "      <td>16772.0</td>\n",
       "    </tr>\n",
       "    <tr>\n",
       "      <th>2019-11-17</th>\n",
       "      <td>Central</td>\n",
       "      <td>Hermann</td>\n",
       "      <td>Luis</td>\n",
       "      <td>Home Theater</td>\n",
       "      <td>11.0</td>\n",
       "      <td>500.0</td>\n",
       "      <td>5500.0</td>\n",
       "    </tr>\n",
       "    <tr>\n",
       "      <th>2019-12-04</th>\n",
       "      <td>Central</td>\n",
       "      <td>Hermann</td>\n",
       "      <td>Luis</td>\n",
       "      <td>Home Theater</td>\n",
       "      <td>94.0</td>\n",
       "      <td>500.0</td>\n",
       "      <td>47000.0</td>\n",
       "    </tr>\n",
       "    <tr>\n",
       "      <th>2019-12-21</th>\n",
       "      <td>Central</td>\n",
       "      <td>Martha</td>\n",
       "      <td>Steven</td>\n",
       "      <td>Home Theater</td>\n",
       "      <td>28.0</td>\n",
       "      <td>500.0</td>\n",
       "      <td>14000.0</td>\n",
       "    </tr>\n",
       "  </tbody>\n",
       "</table>\n",
       "</div>"
      ],
      "text/plain": [
       "             Region  Manager SalesMan          Item  Units  Unit_price  \\\n",
       "OrderDate                                                                \n",
       "2018-01-23  Central  Hermann   Shelli  Home Theater   50.0       500.0   \n",
       "2018-02-09  Central  Hermann     Luis    Television   36.0      1198.0   \n",
       "2018-02-26  Central  Timothy    David    Cell Phone   27.0       225.0   \n",
       "2018-04-18  Central   Martha   Steven    Television   75.0      1198.0   \n",
       "2018-05-05  Central  Hermann     Luis    Television   90.0      1198.0   \n",
       "2018-06-25  Central  Hermann    Sigal    Television   90.0      1198.0   \n",
       "2018-09-01  Central  Douglas     John          Desk    2.0       125.0   \n",
       "2018-10-05  Central  Hermann    Sigal  Home Theater   28.0       500.0   \n",
       "2018-11-25  Central  Hermann   Shelli   Video Games   96.0        58.5   \n",
       "2018-12-12  Central  Douglas     John    Television   67.0      1198.0   \n",
       "2019-01-15  Central  Timothy    David  Home Theater   46.0       500.0   \n",
       "2019-02-01  Central  Douglas     John  Home Theater   87.0       500.0   \n",
       "2019-03-24  Central  Hermann     Luis   Video Games   50.0        58.5   \n",
       "2019-04-10  Central   Martha   Steven    Television   66.0      1198.0   \n",
       "2019-05-14  Central  Timothy    David    Television   53.0      1198.0   \n",
       "2019-05-31  Central  Timothy    David  Home Theater   80.0       500.0   \n",
       "2019-06-17  Central  Hermann   Shelli          Desk    5.0       125.0   \n",
       "2019-07-21  Central  Hermann    Sigal   Video Games   55.0        58.5   \n",
       "2019-08-07  Central  Hermann   Shelli   Video Games   42.0        58.5   \n",
       "2019-09-10  Central  Timothy    David    Television    7.0      1198.0   \n",
       "2019-10-31  Central   Martha   Steven    Television   14.0      1198.0   \n",
       "2019-11-17  Central  Hermann     Luis  Home Theater   11.0       500.0   \n",
       "2019-12-04  Central  Hermann     Luis  Home Theater   94.0       500.0   \n",
       "2019-12-21  Central   Martha   Steven  Home Theater   28.0       500.0   \n",
       "\n",
       "            Sale_amt  \n",
       "OrderDate             \n",
       "2018-01-23   25000.0  \n",
       "2018-02-09   43128.0  \n",
       "2018-02-26    6075.0  \n",
       "2018-04-18   89850.0  \n",
       "2018-05-05  107820.0  \n",
       "2018-06-25  107820.0  \n",
       "2018-09-01     250.0  \n",
       "2018-10-05   14000.0  \n",
       "2018-11-25    5616.0  \n",
       "2018-12-12   80266.0  \n",
       "2019-01-15   23000.0  \n",
       "2019-02-01   43500.0  \n",
       "2019-03-24    2925.0  \n",
       "2019-04-10   79068.0  \n",
       "2019-05-14   63494.0  \n",
       "2019-05-31   40000.0  \n",
       "2019-06-17     625.0  \n",
       "2019-07-21    3217.5  \n",
       "2019-08-07    2457.0  \n",
       "2019-09-10    8386.0  \n",
       "2019-10-31   16772.0  \n",
       "2019-11-17    5500.0  \n",
       "2019-12-04   47000.0  \n",
       "2019-12-21   14000.0  "
      ]
     },
     "execution_count": 16,
     "metadata": {},
     "output_type": "execute_result"
    }
   ],
   "source": [
    "data[data.Region =='Central']"
   ]
  },
  {
   "cell_type": "code",
   "execution_count": 17,
   "id": "f584c9dd",
   "metadata": {},
   "outputs": [
    {
     "data": {
      "text/plain": [
       "Region\n",
       "Central    829769.5\n",
       "East       321007.0\n",
       "West       154899.0\n",
       "Name: Sale_amt, dtype: float64"
      ]
     },
     "execution_count": 17,
     "metadata": {},
     "output_type": "execute_result"
    }
   ],
   "source": [
    "sums = data.groupby('Region')['Sale_amt'].sum()\n",
    "sums"
   ]
  },
  {
   "cell_type": "code",
   "execution_count": 18,
   "id": "bae18a5f",
   "metadata": {},
   "outputs": [
    {
     "data": {
      "text/plain": [
       "<BarContainer object of 3 artists>"
      ]
     },
     "execution_count": 18,
     "metadata": {},
     "output_type": "execute_result"
    },
    {
     "data": {
      "image/png": "[encoded data removed]",
      "text/plain": [
       "<Figure size 640x480 with 1 Axes>"
      ]
     },
     "metadata": {},
     "output_type": "display_data"
    }
   ],
   "source": [
    "plt.bar(sums.index,sums.values )"
   ]
  },
  {
   "cell_type": "code",
   "execution_count": 19,
   "id": "9a69857b",
   "metadata": {},
   "outputs": [
    {
     "data": {
      "text/plain": [
       "Region\n",
       "Central    34573.729167\n",
       "East       24692.846154\n",
       "West       25816.500000\n",
       "Name: Sale_amt, dtype: float64"
      ]
     },
     "execution_count": 19,
     "metadata": {},
     "output_type": "execute_result"
    }
   ],
   "source": [
    "avg_sales = data.groupby('Region')['Sale_amt'].mean()\n",
    "avg_sales"
   ]
  },
  {
   "cell_type": "code",
   "execution_count": 20,
   "id": "7b1f4deb",
   "metadata": {},
   "outputs": [
    {
     "data": {
      "text/plain": [
       "<BarContainer object of 3 artists>"
      ]
     },
     "execution_count": 20,
     "metadata": {},
     "output_type": "execute_result"
    },
    {
     "data": {
      "image/png": "[encoded data removed]",
      "text/plain": [
       "<Figure size 640x480 with 1 Axes>"
      ]
     },
     "metadata": {},
     "output_type": "display_data"
    }
   ],
   "source": [
    "plt.bar(avg_sales.index,avg_sales.values )"
   ]
  },
  {
   "cell_type": "code",
   "execution_count": 21,
   "id": "81c28e09",
   "metadata": {},
   "outputs": [
    {
     "data": {
      "text/html": [
       "<div>\n",
       "<style scoped>\n",
       "    .dataframe tbody tr th:only-of-type {\n",
       "        vertical-align: middle;\n",
       "    }\n",
       "\n",
       "    .dataframe tbody tr th {\n",
       "        vertical-align: top;\n",
       "    }\n",
       "\n",
       "    .dataframe thead th {\n",
       "        text-align: right;\n",
       "    }\n",
       "</style>\n",
       "<table border=\"1\" class=\"dataframe\">\n",
       "  <thead>\n",
       "    <tr style=\"text-align: right;\">\n",
       "      <th></th>\n",
       "      <th>count</th>\n",
       "      <th>max</th>\n",
       "      <th>min</th>\n",
       "      <th>mean</th>\n",
       "      <th>sum</th>\n",
       "    </tr>\n",
       "    <tr>\n",
       "      <th>Region</th>\n",
       "      <th></th>\n",
       "      <th></th>\n",
       "      <th></th>\n",
       "      <th></th>\n",
       "      <th></th>\n",
       "    </tr>\n",
       "  </thead>\n",
       "  <tbody>\n",
       "    <tr>\n",
       "      <th>Central</th>\n",
       "      <td>24</td>\n",
       "      <td>107820.0</td>\n",
       "      <td>250.0</td>\n",
       "      <td>34573.729167</td>\n",
       "      <td>829769.5</td>\n",
       "    </tr>\n",
       "    <tr>\n",
       "      <th>East</th>\n",
       "      <td>13</td>\n",
       "      <td>113810.0</td>\n",
       "      <td>936.0</td>\n",
       "      <td>24692.846154</td>\n",
       "      <td>321007.0</td>\n",
       "    </tr>\n",
       "    <tr>\n",
       "      <th>West</th>\n",
       "      <td>6</td>\n",
       "      <td>67088.0</td>\n",
       "      <td>375.0</td>\n",
       "      <td>25816.500000</td>\n",
       "      <td>154899.0</td>\n",
       "    </tr>\n",
       "  </tbody>\n",
       "</table>\n",
       "</div>"
      ],
      "text/plain": [
       "         count       max    min          mean       sum\n",
       "Region                                                 \n",
       "Central     24  107820.0  250.0  34573.729167  829769.5\n",
       "East        13  113810.0  936.0  24692.846154  321007.0\n",
       "West         6   67088.0  375.0  25816.500000  154899.0"
      ]
     },
     "execution_count": 21,
     "metadata": {},
     "output_type": "execute_result"
    }
   ],
   "source": [
    "sums = data.groupby('Region')['Sale_amt'].aggregate(['count','max','min','mean','sum'])\n",
    "sums"
   ]
  },
  {
   "cell_type": "code",
   "execution_count": 22,
   "id": "91a76a5f",
   "metadata": {},
   "outputs": [],
   "source": [
    "# Top manager on sales amount\n",
    "\n",
    "top_managers= data.groupby('Manager')['Sale_amt'].sum().sort_values(ascending=False)"
   ]
  },
  {
   "cell_type": "code",
   "execution_count": 23,
   "id": "e15eade9",
   "metadata": {},
   "outputs": [
    {
     "data": {
      "text/plain": [
       "<BarContainer object of 4 artists>"
      ]
     },
     "execution_count": 23,
     "metadata": {},
     "output_type": "execute_result"
    },
    {
     "data": {
      "image/png": "[encoded data removed]",
      "text/plain": [
       "<Figure size 640x480 with 1 Axes>"
      ]
     },
     "metadata": {},
     "output_type": "display_data"
    }
   ],
   "source": [
    "plt.bar(top_managers.index,top_managers.values)"
   ]
  },
  {
   "cell_type": "code",
   "execution_count": 24,
   "id": "a8bdec4d",
   "metadata": {},
   "outputs": [],
   "source": [
    "top_items_sales_amt = data.groupby('Item')['Sale_amt'].sum().sort_values(ascending=False)"
   ]
  },
  {
   "cell_type": "code",
   "execution_count": 25,
   "id": "ff342d85",
   "metadata": {},
   "outputs": [
    {
     "data": {
      "text/plain": [
       "<BarContainer object of 5 artists>"
      ]
     },
     "execution_count": 25,
     "metadata": {},
     "output_type": "execute_result"
    },
    {
     "data": {
      "image/png": "[encoded data removed]",
      "text/plain": [
       "<Figure size 640x480 with 1 Axes>"
      ]
     },
     "metadata": {},
     "output_type": "display_data"
    }
   ],
   "source": [
    "plt.bar(top_items_sales_amt.index,top_items_sales_amt.values)"
   ]
  },
  {
   "cell_type": "code",
   "execution_count": 26,
   "id": "fcf18280",
   "metadata": {},
   "outputs": [
    {
     "data": {
      "text/html": [
       "<div>\n",
       "<style scoped>\n",
       "    .dataframe tbody tr th:only-of-type {\n",
       "        vertical-align: middle;\n",
       "    }\n",
       "\n",
       "    .dataframe tbody tr th {\n",
       "        vertical-align: top;\n",
       "    }\n",
       "\n",
       "    .dataframe thead th {\n",
       "        text-align: right;\n",
       "    }\n",
       "</style>\n",
       "<table border=\"1\" class=\"dataframe\">\n",
       "  <thead>\n",
       "    <tr style=\"text-align: right;\">\n",
       "      <th></th>\n",
       "      <th>Region</th>\n",
       "      <th>Manager</th>\n",
       "      <th>SalesMan</th>\n",
       "      <th>Item</th>\n",
       "      <th>Units</th>\n",
       "      <th>Unit_price</th>\n",
       "      <th>Sale_amt</th>\n",
       "    </tr>\n",
       "    <tr>\n",
       "      <th>OrderDate</th>\n",
       "      <th></th>\n",
       "      <th></th>\n",
       "      <th></th>\n",
       "      <th></th>\n",
       "      <th></th>\n",
       "      <th></th>\n",
       "      <th></th>\n",
       "    </tr>\n",
       "  </thead>\n",
       "  <tbody>\n",
       "    <tr>\n",
       "      <th>2018-01-06</th>\n",
       "      <td>East</td>\n",
       "      <td>Martha</td>\n",
       "      <td>Alexander</td>\n",
       "      <td>Television</td>\n",
       "      <td>95.0</td>\n",
       "      <td>1198.0</td>\n",
       "      <td>113810.0</td>\n",
       "    </tr>\n",
       "  </tbody>\n",
       "</table>\n",
       "</div>"
      ],
      "text/plain": [
       "           Region Manager   SalesMan        Item  Units  Unit_price  Sale_amt\n",
       "OrderDate                                                                    \n",
       "2018-01-06   East  Martha  Alexander  Television   95.0      1198.0  113810.0"
      ]
     },
     "execution_count": 26,
     "metadata": {},
     "output_type": "execute_result"
    }
   ],
   "source": [
    "data.head(1)"
   ]
  },
  {
   "cell_type": "code",
   "execution_count": 27,
   "id": "473014ef",
   "metadata": {},
   "outputs": [
    {
     "data": {
      "text/plain": [
       "Region   Item        \n",
       "Central  Cell Phone      1\n",
       "         Desk            2\n",
       "         Home Theater    8\n",
       "         Television      9\n",
       "         Video Games     4\n",
       "East     Cell Phone      3\n",
       "         Home Theater    5\n",
       "         Television      2\n",
       "         Video Games     3\n",
       "West     Cell Phone      1\n",
       "         Desk            1\n",
       "         Home Theater    2\n",
       "         Television      2\n",
       "Name: Item, dtype: int64"
      ]
     },
     "execution_count": 27,
     "metadata": {},
     "output_type": "execute_result"
    }
   ],
   "source": [
    "# Region wise item sale count\n",
    "# data.groupby('Region')['Item'].count()\n",
    "data.groupby(['Region','Item'])['Item'].count()"
   ]
  },
  {
   "cell_type": "markdown",
   "id": "5428585c",
   "metadata": {},
   "source": [
    "# Time Series  Data"
   ]
  },
  {
   "cell_type": "raw",
   "id": "c8264c92",
   "metadata": {},
   "source": [
    "Creating time series with specific frequencies\n",
    "• Date offsets\n",
    "• Representation of differences in time with timedelta\n",
    "• Durations of time with Period objects\n",
    "• Calendars\n",
    "• Time zones\n",
    "• Shifting and lagging\n",
    "• Up and down sampling\n",
    "• Time series moving-window operations"
   ]
  },
  {
   "cell_type": "code",
   "execution_count": 28,
   "id": "4bcfabd3",
   "metadata": {},
   "outputs": [],
   "source": [
    "import datetime\n",
    "from datetime import datetime"
   ]
  },
  {
   "cell_type": "code",
   "execution_count": 29,
   "id": "8ca6052d",
   "metadata": {},
   "outputs": [],
   "source": [
    "date = datetime(2014, 12, 15)"
   ]
  },
  {
   "cell_type": "code",
   "execution_count": 30,
   "id": "2c24756d",
   "metadata": {},
   "outputs": [
    {
     "data": {
      "text/plain": [
       "datetime.datetime(2014, 12, 15, 0, 0)"
      ]
     },
     "execution_count": 30,
     "metadata": {},
     "output_type": "execute_result"
    }
   ],
   "source": [
    "date"
   ]
  },
  {
   "cell_type": "code",
   "execution_count": 31,
   "id": "6a27f73c",
   "metadata": {},
   "outputs": [
    {
     "data": {
      "text/plain": [
       "2014"
      ]
     },
     "execution_count": 31,
     "metadata": {},
     "output_type": "execute_result"
    }
   ],
   "source": [
    "date.year"
   ]
  },
  {
   "cell_type": "code",
   "execution_count": 32,
   "id": "56dafac2",
   "metadata": {},
   "outputs": [
    {
     "data": {
      "text/plain": [
       "12"
      ]
     },
     "execution_count": 32,
     "metadata": {},
     "output_type": "execute_result"
    }
   ],
   "source": [
    "date.month"
   ]
  },
  {
   "cell_type": "code",
   "execution_count": 33,
   "id": "6bc84197",
   "metadata": {},
   "outputs": [
    {
     "data": {
      "text/plain": [
       "15"
      ]
     },
     "execution_count": 33,
     "metadata": {},
     "output_type": "execute_result"
    }
   ],
   "source": [
    "date.day"
   ]
  },
  {
   "cell_type": "code",
   "execution_count": 34,
   "id": "79e10e4d",
   "metadata": {},
   "outputs": [],
   "source": [
    "new_date = datetime(2014, 12, 15, 17, 30)"
   ]
  },
  {
   "cell_type": "code",
   "execution_count": 35,
   "id": "6fda2b3f",
   "metadata": {},
   "outputs": [
    {
     "data": {
      "text/plain": [
       "datetime.datetime(2014, 12, 15, 17, 30)"
      ]
     },
     "execution_count": 35,
     "metadata": {},
     "output_type": "execute_result"
    }
   ],
   "source": [
    "new_date"
   ]
  },
  {
   "cell_type": "code",
   "execution_count": 36,
   "id": "eed1d0f6",
   "metadata": {},
   "outputs": [
    {
     "data": {
      "text/plain": [
       "17"
      ]
     },
     "execution_count": 36,
     "metadata": {},
     "output_type": "execute_result"
    }
   ],
   "source": [
    "new_date.hour"
   ]
  },
  {
   "cell_type": "code",
   "execution_count": 37,
   "id": "d6c11f1f",
   "metadata": {},
   "outputs": [
    {
     "data": {
      "text/plain": [
       "30"
      ]
     },
     "execution_count": 37,
     "metadata": {},
     "output_type": "execute_result"
    }
   ],
   "source": [
    "new_date.minute"
   ]
  },
  {
   "cell_type": "code",
   "execution_count": 38,
   "id": "ef3e21f0",
   "metadata": {},
   "outputs": [],
   "source": [
    "today = datetime.now()"
   ]
  },
  {
   "cell_type": "code",
   "execution_count": 39,
   "id": "710f53f7",
   "metadata": {},
   "outputs": [
    {
     "data": {
      "text/plain": [
       "datetime.datetime(2023, 10, 9, 14, 22, 12, 694267)"
      ]
     },
     "execution_count": 39,
     "metadata": {},
     "output_type": "execute_result"
    }
   ],
   "source": [
    "today"
   ]
  },
  {
   "cell_type": "code",
   "execution_count": 40,
   "id": "21213a15",
   "metadata": {},
   "outputs": [
    {
     "data": {
      "text/plain": [
       "datetime.date(2023, 10, 9)"
      ]
     },
     "execution_count": 40,
     "metadata": {},
     "output_type": "execute_result"
    }
   ],
   "source": [
    "today.date()"
   ]
  },
  {
   "cell_type": "code",
   "execution_count": 41,
   "id": "60a265fd",
   "metadata": {},
   "outputs": [
    {
     "data": {
      "text/plain": [
       "datetime.time(14, 22, 12, 694267)"
      ]
     },
     "execution_count": 41,
     "metadata": {},
     "output_type": "execute_result"
    }
   ],
   "source": [
    "today.time()"
   ]
  },
  {
   "cell_type": "markdown",
   "id": "a3aaebc6",
   "metadata": {},
   "source": [
    "# Timestamp objects"
   ]
  },
  {
   "cell_type": "code",
   "execution_count": 42,
   "id": "a6dbfda4",
   "metadata": {},
   "outputs": [
    {
     "data": {
      "text/plain": [
       "Timestamp('2014-11-30 00:00:00')"
      ]
     },
     "execution_count": 42,
     "metadata": {},
     "output_type": "execute_result"
    }
   ],
   "source": [
    "pd.Timestamp('2014-11-30')"
   ]
  },
  {
   "cell_type": "code",
   "execution_count": 43,
   "id": "cfdfae81",
   "metadata": {},
   "outputs": [
    {
     "data": {
      "text/plain": [
       "Timestamp('2014-12-15 17:30:00')"
      ]
     },
     "execution_count": 43,
     "metadata": {},
     "output_type": "execute_result"
    }
   ],
   "source": [
    "pd.Timestamp('2014-12-15 17:30')"
   ]
  },
  {
   "cell_type": "code",
   "execution_count": 44,
   "id": "6f873343",
   "metadata": {},
   "outputs": [
    {
     "data": {
      "text/plain": [
       "Timestamp('2023-10-09 17:30:00')"
      ]
     },
     "execution_count": 44,
     "metadata": {},
     "output_type": "execute_result"
    }
   ],
   "source": [
    "pd.Timestamp('17:30')"
   ]
  },
  {
   "cell_type": "code",
   "execution_count": 45,
   "id": "9d8f893a",
   "metadata": {},
   "outputs": [
    {
     "data": {
      "text/plain": [
       "Timestamp('2023-10-09 14:22:15.257202')"
      ]
     },
     "execution_count": 45,
     "metadata": {},
     "output_type": "execute_result"
    }
   ],
   "source": [
    "pd.Timestamp(\"now\")"
   ]
  },
  {
   "cell_type": "markdown",
   "id": "4e781d5d",
   "metadata": {},
   "source": [
    "# Timedelta\n",
    "- A difference between two pandas Timestamp objects is represented by a timedelta\n",
    "  object, which is a representation of an exact difference in time. \n",
    "- These are common as results of determining the duration between two dates or to calculate the date at a\n",
    "  specific interval of time from another date and/or time."
   ]
  },
  {
   "cell_type": "code",
   "execution_count": 46,
   "id": "d17b3090",
   "metadata": {},
   "outputs": [
    {
     "data": {
      "text/plain": [
       "datetime.datetime(2023, 9, 1, 0, 0)"
      ]
     },
     "execution_count": 46,
     "metadata": {},
     "output_type": "execute_result"
    }
   ],
   "source": [
    "today = datetime(2023, 9, 1)\n",
    "today"
   ]
  },
  {
   "cell_type": "code",
   "execution_count": 47,
   "id": "aa45c5c6",
   "metadata": {},
   "outputs": [
    {
     "data": {
      "text/plain": [
       "datetime.datetime(2023, 9, 2, 0, 0)"
      ]
     },
     "execution_count": 47,
     "metadata": {},
     "output_type": "execute_result"
    }
   ],
   "source": [
    "tomorrow = today + pd.Timedelta(days=1)\n",
    "tomorrow"
   ]
  },
  {
   "cell_type": "code",
   "execution_count": 48,
   "id": "f5b69c79",
   "metadata": {},
   "outputs": [
    {
     "data": {
      "text/plain": [
       "datetime.datetime(2023, 9, 11, 0, 0)"
      ]
     },
     "execution_count": 48,
     "metadata": {},
     "output_type": "execute_result"
    }
   ],
   "source": [
    "nextmonth_today = today + pd.Timedelta(days=10)\n",
    "nextmonth_today"
   ]
  },
  {
   "cell_type": "code",
   "execution_count": 49,
   "id": "a7d5dbd4",
   "metadata": {},
   "outputs": [
    {
     "data": {
      "text/plain": [
       "datetime.timedelta(days=24)"
      ]
     },
     "execution_count": 49,
     "metadata": {},
     "output_type": "execute_result"
    }
   ],
   "source": [
    "date1 = datetime(2023, 9, 1)\n",
    "date2 = datetime(2023, 9, 25)\n",
    "\n",
    "date1 - date2\n",
    "date2-date1"
   ]
  },
  {
   "cell_type": "markdown",
   "id": "ebf0697f",
   "metadata": {},
   "source": [
    "# Introducing time-series data"
   ]
  },
  {
   "cell_type": "markdown",
   "id": "ad830875",
   "metadata": {},
   "source": [
    "## DatetimeIndex"
   ]
  },
  {
   "cell_type": "code",
   "execution_count": 50,
   "id": "4e6bc397",
   "metadata": {},
   "outputs": [],
   "source": [
    "import numpy as np"
   ]
  },
  {
   "cell_type": "code",
   "execution_count": 51,
   "id": "3b031741",
   "metadata": {},
   "outputs": [
    {
     "data": {
      "text/plain": [
       "Apple    1\n",
       "Bat      2\n",
       "Cat      3\n",
       "Dog      4\n",
       "dtype: int64"
      ]
     },
     "execution_count": 51,
     "metadata": {},
     "output_type": "execute_result"
    }
   ],
   "source": [
    "series = pd.Series([1,2,3,4], index=[\"Apple\",\"Bat\",\"Cat\",\"Dog\"])\n",
    "series"
   ]
  },
  {
   "cell_type": "code",
   "execution_count": 52,
   "id": "34f999dd",
   "metadata": {},
   "outputs": [
    {
     "data": {
      "text/plain": [
       "[datetime.datetime(2023, 9, 1, 0, 0), datetime.datetime(2023, 9, 2, 0, 0)]"
      ]
     },
     "execution_count": 52,
     "metadata": {},
     "output_type": "execute_result"
    }
   ],
   "source": [
    "dates = [datetime(2023, 9, 1), datetime(2023, 9, 2)]\n",
    "dates"
   ]
  },
  {
   "cell_type": "code",
   "execution_count": 53,
   "id": "1aff0fb7",
   "metadata": {},
   "outputs": [
    {
     "data": {
      "text/plain": [
       "2023-09-01    10000\n",
       "2023-09-02    25000\n",
       "dtype: int64"
      ]
     },
     "execution_count": 53,
     "metadata": {},
     "output_type": "execute_result"
    }
   ],
   "source": [
    "ts = pd.Series([10000, 25000], dates)\n",
    "ts"
   ]
  },
  {
   "cell_type": "code",
   "execution_count": 54,
   "id": "78487dc3",
   "metadata": {},
   "outputs": [
    {
     "data": {
      "text/html": [
       "<div>\n",
       "<style scoped>\n",
       "    .dataframe tbody tr th:only-of-type {\n",
       "        vertical-align: middle;\n",
       "    }\n",
       "\n",
       "    .dataframe tbody tr th {\n",
       "        vertical-align: top;\n",
       "    }\n",
       "\n",
       "    .dataframe thead th {\n",
       "        text-align: right;\n",
       "    }\n",
       "</style>\n",
       "<table border=\"1\" class=\"dataframe\">\n",
       "  <thead>\n",
       "    <tr style=\"text-align: right;\">\n",
       "      <th></th>\n",
       "      <th>Region</th>\n",
       "      <th>Manager</th>\n",
       "      <th>SalesMan</th>\n",
       "      <th>Item</th>\n",
       "      <th>Units</th>\n",
       "      <th>Unit_price</th>\n",
       "      <th>Sale_amt</th>\n",
       "    </tr>\n",
       "    <tr>\n",
       "      <th>OrderDate</th>\n",
       "      <th></th>\n",
       "      <th></th>\n",
       "      <th></th>\n",
       "      <th></th>\n",
       "      <th></th>\n",
       "      <th></th>\n",
       "      <th></th>\n",
       "    </tr>\n",
       "  </thead>\n",
       "  <tbody>\n",
       "    <tr>\n",
       "      <th>2018-01-06</th>\n",
       "      <td>East</td>\n",
       "      <td>Martha</td>\n",
       "      <td>Alexander</td>\n",
       "      <td>Television</td>\n",
       "      <td>95.0</td>\n",
       "      <td>1198.0</td>\n",
       "      <td>113810.0</td>\n",
       "    </tr>\n",
       "    <tr>\n",
       "      <th>2018-01-23</th>\n",
       "      <td>Central</td>\n",
       "      <td>Hermann</td>\n",
       "      <td>Shelli</td>\n",
       "      <td>Home Theater</td>\n",
       "      <td>50.0</td>\n",
       "      <td>500.0</td>\n",
       "      <td>25000.0</td>\n",
       "    </tr>\n",
       "    <tr>\n",
       "      <th>2018-02-09</th>\n",
       "      <td>Central</td>\n",
       "      <td>Hermann</td>\n",
       "      <td>Luis</td>\n",
       "      <td>Television</td>\n",
       "      <td>36.0</td>\n",
       "      <td>1198.0</td>\n",
       "      <td>43128.0</td>\n",
       "    </tr>\n",
       "    <tr>\n",
       "      <th>2018-02-26</th>\n",
       "      <td>Central</td>\n",
       "      <td>Timothy</td>\n",
       "      <td>David</td>\n",
       "      <td>Cell Phone</td>\n",
       "      <td>27.0</td>\n",
       "      <td>225.0</td>\n",
       "      <td>6075.0</td>\n",
       "    </tr>\n",
       "    <tr>\n",
       "      <th>2018-03-15</th>\n",
       "      <td>West</td>\n",
       "      <td>Timothy</td>\n",
       "      <td>Stephen</td>\n",
       "      <td>Television</td>\n",
       "      <td>56.0</td>\n",
       "      <td>1198.0</td>\n",
       "      <td>67088.0</td>\n",
       "    </tr>\n",
       "    <tr>\n",
       "      <th>2018-04-01</th>\n",
       "      <td>East</td>\n",
       "      <td>Martha</td>\n",
       "      <td>Alexander</td>\n",
       "      <td>Home Theater</td>\n",
       "      <td>60.0</td>\n",
       "      <td>500.0</td>\n",
       "      <td>30000.0</td>\n",
       "    </tr>\n",
       "    <tr>\n",
       "      <th>2018-04-18</th>\n",
       "      <td>Central</td>\n",
       "      <td>Martha</td>\n",
       "      <td>Steven</td>\n",
       "      <td>Television</td>\n",
       "      <td>75.0</td>\n",
       "      <td>1198.0</td>\n",
       "      <td>89850.0</td>\n",
       "    </tr>\n",
       "    <tr>\n",
       "      <th>2018-05-05</th>\n",
       "      <td>Central</td>\n",
       "      <td>Hermann</td>\n",
       "      <td>Luis</td>\n",
       "      <td>Television</td>\n",
       "      <td>90.0</td>\n",
       "      <td>1198.0</td>\n",
       "      <td>107820.0</td>\n",
       "    </tr>\n",
       "    <tr>\n",
       "      <th>2018-05-22</th>\n",
       "      <td>West</td>\n",
       "      <td>Douglas</td>\n",
       "      <td>Michael</td>\n",
       "      <td>Television</td>\n",
       "      <td>32.0</td>\n",
       "      <td>1198.0</td>\n",
       "      <td>38336.0</td>\n",
       "    </tr>\n",
       "    <tr>\n",
       "      <th>2018-06-08</th>\n",
       "      <td>East</td>\n",
       "      <td>Martha</td>\n",
       "      <td>Alexander</td>\n",
       "      <td>Home Theater</td>\n",
       "      <td>60.0</td>\n",
       "      <td>500.0</td>\n",
       "      <td>30000.0</td>\n",
       "    </tr>\n",
       "    <tr>\n",
       "      <th>2018-06-25</th>\n",
       "      <td>Central</td>\n",
       "      <td>Hermann</td>\n",
       "      <td>Sigal</td>\n",
       "      <td>Television</td>\n",
       "      <td>90.0</td>\n",
       "      <td>1198.0</td>\n",
       "      <td>107820.0</td>\n",
       "    </tr>\n",
       "    <tr>\n",
       "      <th>2018-07-12</th>\n",
       "      <td>East</td>\n",
       "      <td>Martha</td>\n",
       "      <td>Diana</td>\n",
       "      <td>Home Theater</td>\n",
       "      <td>29.0</td>\n",
       "      <td>500.0</td>\n",
       "      <td>14500.0</td>\n",
       "    </tr>\n",
       "    <tr>\n",
       "      <th>2018-07-29</th>\n",
       "      <td>East</td>\n",
       "      <td>Douglas</td>\n",
       "      <td>Karen</td>\n",
       "      <td>Home Theater</td>\n",
       "      <td>81.0</td>\n",
       "      <td>500.0</td>\n",
       "      <td>40500.0</td>\n",
       "    </tr>\n",
       "    <tr>\n",
       "      <th>2018-08-15</th>\n",
       "      <td>East</td>\n",
       "      <td>Martha</td>\n",
       "      <td>Alexander</td>\n",
       "      <td>Television</td>\n",
       "      <td>35.0</td>\n",
       "      <td>1198.0</td>\n",
       "      <td>41930.0</td>\n",
       "    </tr>\n",
       "    <tr>\n",
       "      <th>2018-09-01</th>\n",
       "      <td>Central</td>\n",
       "      <td>Douglas</td>\n",
       "      <td>John</td>\n",
       "      <td>Desk</td>\n",
       "      <td>2.0</td>\n",
       "      <td>125.0</td>\n",
       "      <td>250.0</td>\n",
       "    </tr>\n",
       "    <tr>\n",
       "      <th>2018-09-18</th>\n",
       "      <td>East</td>\n",
       "      <td>Martha</td>\n",
       "      <td>Alexander</td>\n",
       "      <td>Video Games</td>\n",
       "      <td>16.0</td>\n",
       "      <td>58.5</td>\n",
       "      <td>936.0</td>\n",
       "    </tr>\n",
       "    <tr>\n",
       "      <th>2018-10-05</th>\n",
       "      <td>Central</td>\n",
       "      <td>Hermann</td>\n",
       "      <td>Sigal</td>\n",
       "      <td>Home Theater</td>\n",
       "      <td>28.0</td>\n",
       "      <td>500.0</td>\n",
       "      <td>14000.0</td>\n",
       "    </tr>\n",
       "    <tr>\n",
       "      <th>2018-10-22</th>\n",
       "      <td>East</td>\n",
       "      <td>Martha</td>\n",
       "      <td>Alexander</td>\n",
       "      <td>Cell Phone</td>\n",
       "      <td>64.0</td>\n",
       "      <td>225.0</td>\n",
       "      <td>14400.0</td>\n",
       "    </tr>\n",
       "    <tr>\n",
       "      <th>2018-11-08</th>\n",
       "      <td>East</td>\n",
       "      <td>Douglas</td>\n",
       "      <td>Karen</td>\n",
       "      <td>Cell Phone</td>\n",
       "      <td>15.0</td>\n",
       "      <td>225.0</td>\n",
       "      <td>3375.0</td>\n",
       "    </tr>\n",
       "    <tr>\n",
       "      <th>2018-11-25</th>\n",
       "      <td>Central</td>\n",
       "      <td>Hermann</td>\n",
       "      <td>Shelli</td>\n",
       "      <td>Video Games</td>\n",
       "      <td>96.0</td>\n",
       "      <td>58.5</td>\n",
       "      <td>5616.0</td>\n",
       "    </tr>\n",
       "    <tr>\n",
       "      <th>2018-12-12</th>\n",
       "      <td>Central</td>\n",
       "      <td>Douglas</td>\n",
       "      <td>John</td>\n",
       "      <td>Television</td>\n",
       "      <td>67.0</td>\n",
       "      <td>1198.0</td>\n",
       "      <td>80266.0</td>\n",
       "    </tr>\n",
       "    <tr>\n",
       "      <th>2018-12-29</th>\n",
       "      <td>East</td>\n",
       "      <td>Douglas</td>\n",
       "      <td>Karen</td>\n",
       "      <td>Video Games</td>\n",
       "      <td>74.0</td>\n",
       "      <td>58.5</td>\n",
       "      <td>4329.0</td>\n",
       "    </tr>\n",
       "    <tr>\n",
       "      <th>2019-01-15</th>\n",
       "      <td>Central</td>\n",
       "      <td>Timothy</td>\n",
       "      <td>David</td>\n",
       "      <td>Home Theater</td>\n",
       "      <td>46.0</td>\n",
       "      <td>500.0</td>\n",
       "      <td>23000.0</td>\n",
       "    </tr>\n",
       "    <tr>\n",
       "      <th>2019-02-01</th>\n",
       "      <td>Central</td>\n",
       "      <td>Douglas</td>\n",
       "      <td>John</td>\n",
       "      <td>Home Theater</td>\n",
       "      <td>87.0</td>\n",
       "      <td>500.0</td>\n",
       "      <td>43500.0</td>\n",
       "    </tr>\n",
       "    <tr>\n",
       "      <th>2019-02-18</th>\n",
       "      <td>East</td>\n",
       "      <td>Martha</td>\n",
       "      <td>Alexander</td>\n",
       "      <td>Home Theater</td>\n",
       "      <td>4.0</td>\n",
       "      <td>500.0</td>\n",
       "      <td>2000.0</td>\n",
       "    </tr>\n",
       "    <tr>\n",
       "      <th>2019-03-07</th>\n",
       "      <td>West</td>\n",
       "      <td>Timothy</td>\n",
       "      <td>Stephen</td>\n",
       "      <td>Home Theater</td>\n",
       "      <td>7.0</td>\n",
       "      <td>500.0</td>\n",
       "      <td>3500.0</td>\n",
       "    </tr>\n",
       "    <tr>\n",
       "      <th>2019-03-24</th>\n",
       "      <td>Central</td>\n",
       "      <td>Hermann</td>\n",
       "      <td>Luis</td>\n",
       "      <td>Video Games</td>\n",
       "      <td>50.0</td>\n",
       "      <td>58.5</td>\n",
       "      <td>2925.0</td>\n",
       "    </tr>\n",
       "    <tr>\n",
       "      <th>2019-04-10</th>\n",
       "      <td>Central</td>\n",
       "      <td>Martha</td>\n",
       "      <td>Steven</td>\n",
       "      <td>Television</td>\n",
       "      <td>66.0</td>\n",
       "      <td>1198.0</td>\n",
       "      <td>79068.0</td>\n",
       "    </tr>\n",
       "    <tr>\n",
       "      <th>2019-04-27</th>\n",
       "      <td>East</td>\n",
       "      <td>Martha</td>\n",
       "      <td>Diana</td>\n",
       "      <td>Cell Phone</td>\n",
       "      <td>96.0</td>\n",
       "      <td>225.0</td>\n",
       "      <td>21600.0</td>\n",
       "    </tr>\n",
       "    <tr>\n",
       "      <th>2019-05-14</th>\n",
       "      <td>Central</td>\n",
       "      <td>Timothy</td>\n",
       "      <td>David</td>\n",
       "      <td>Television</td>\n",
       "      <td>53.0</td>\n",
       "      <td>1198.0</td>\n",
       "      <td>63494.0</td>\n",
       "    </tr>\n",
       "    <tr>\n",
       "      <th>2019-05-31</th>\n",
       "      <td>Central</td>\n",
       "      <td>Timothy</td>\n",
       "      <td>David</td>\n",
       "      <td>Home Theater</td>\n",
       "      <td>80.0</td>\n",
       "      <td>500.0</td>\n",
       "      <td>40000.0</td>\n",
       "    </tr>\n",
       "    <tr>\n",
       "      <th>2019-06-17</th>\n",
       "      <td>Central</td>\n",
       "      <td>Hermann</td>\n",
       "      <td>Shelli</td>\n",
       "      <td>Desk</td>\n",
       "      <td>5.0</td>\n",
       "      <td>125.0</td>\n",
       "      <td>625.0</td>\n",
       "    </tr>\n",
       "    <tr>\n",
       "      <th>2019-07-04</th>\n",
       "      <td>East</td>\n",
       "      <td>Martha</td>\n",
       "      <td>Alexander</td>\n",
       "      <td>Video Games</td>\n",
       "      <td>62.0</td>\n",
       "      <td>58.5</td>\n",
       "      <td>3627.0</td>\n",
       "    </tr>\n",
       "    <tr>\n",
       "      <th>2019-07-21</th>\n",
       "      <td>Central</td>\n",
       "      <td>Hermann</td>\n",
       "      <td>Sigal</td>\n",
       "      <td>Video Games</td>\n",
       "      <td>55.0</td>\n",
       "      <td>58.5</td>\n",
       "      <td>3217.5</td>\n",
       "    </tr>\n",
       "    <tr>\n",
       "      <th>2019-08-07</th>\n",
       "      <td>Central</td>\n",
       "      <td>Hermann</td>\n",
       "      <td>Shelli</td>\n",
       "      <td>Video Games</td>\n",
       "      <td>42.0</td>\n",
       "      <td>58.5</td>\n",
       "      <td>2457.0</td>\n",
       "    </tr>\n",
       "    <tr>\n",
       "      <th>2019-08-24</th>\n",
       "      <td>West</td>\n",
       "      <td>Timothy</td>\n",
       "      <td>Stephen</td>\n",
       "      <td>Desk</td>\n",
       "      <td>3.0</td>\n",
       "      <td>125.0</td>\n",
       "      <td>375.0</td>\n",
       "    </tr>\n",
       "    <tr>\n",
       "      <th>2019-09-10</th>\n",
       "      <td>Central</td>\n",
       "      <td>Timothy</td>\n",
       "      <td>David</td>\n",
       "      <td>Television</td>\n",
       "      <td>7.0</td>\n",
       "      <td>1198.0</td>\n",
       "      <td>8386.0</td>\n",
       "    </tr>\n",
       "    <tr>\n",
       "      <th>2019-09-27</th>\n",
       "      <td>West</td>\n",
       "      <td>Timothy</td>\n",
       "      <td>Stephen</td>\n",
       "      <td>Cell Phone</td>\n",
       "      <td>76.0</td>\n",
       "      <td>225.0</td>\n",
       "      <td>17100.0</td>\n",
       "    </tr>\n",
       "    <tr>\n",
       "      <th>2019-10-14</th>\n",
       "      <td>West</td>\n",
       "      <td>Douglas</td>\n",
       "      <td>Michael</td>\n",
       "      <td>Home Theater</td>\n",
       "      <td>57.0</td>\n",
       "      <td>500.0</td>\n",
       "      <td>28500.0</td>\n",
       "    </tr>\n",
       "    <tr>\n",
       "      <th>2019-10-31</th>\n",
       "      <td>Central</td>\n",
       "      <td>Martha</td>\n",
       "      <td>Steven</td>\n",
       "      <td>Television</td>\n",
       "      <td>14.0</td>\n",
       "      <td>1198.0</td>\n",
       "      <td>16772.0</td>\n",
       "    </tr>\n",
       "    <tr>\n",
       "      <th>2019-11-17</th>\n",
       "      <td>Central</td>\n",
       "      <td>Hermann</td>\n",
       "      <td>Luis</td>\n",
       "      <td>Home Theater</td>\n",
       "      <td>11.0</td>\n",
       "      <td>500.0</td>\n",
       "      <td>5500.0</td>\n",
       "    </tr>\n",
       "    <tr>\n",
       "      <th>2019-12-04</th>\n",
       "      <td>Central</td>\n",
       "      <td>Hermann</td>\n",
       "      <td>Luis</td>\n",
       "      <td>Home Theater</td>\n",
       "      <td>94.0</td>\n",
       "      <td>500.0</td>\n",
       "      <td>47000.0</td>\n",
       "    </tr>\n",
       "    <tr>\n",
       "      <th>2019-12-21</th>\n",
       "      <td>Central</td>\n",
       "      <td>Martha</td>\n",
       "      <td>Steven</td>\n",
       "      <td>Home Theater</td>\n",
       "      <td>28.0</td>\n",
       "      <td>500.0</td>\n",
       "      <td>14000.0</td>\n",
       "    </tr>\n",
       "  </tbody>\n",
       "</table>\n",
       "</div>"
      ],
      "text/plain": [
       "             Region  Manager   SalesMan          Item  Units  Unit_price  \\\n",
       "OrderDate                                                                  \n",
       "2018-01-06     East   Martha  Alexander    Television   95.0      1198.0   \n",
       "2018-01-23  Central  Hermann     Shelli  Home Theater   50.0       500.0   \n",
       "2018-02-09  Central  Hermann       Luis    Television   36.0      1198.0   \n",
       "2018-02-26  Central  Timothy      David    Cell Phone   27.0       225.0   \n",
       "2018-03-15     West  Timothy    Stephen    Television   56.0      1198.0   \n",
       "2018-04-01     East   Martha  Alexander  Home Theater   60.0       500.0   \n",
       "2018-04-18  Central   Martha     Steven    Television   75.0      1198.0   \n",
       "2018-05-05  Central  Hermann       Luis    Television   90.0      1198.0   \n",
       "2018-05-22     West  Douglas    Michael    Television   32.0      1198.0   \n",
       "2018-06-08     East   Martha  Alexander  Home Theater   60.0       500.0   \n",
       "2018-06-25  Central  Hermann      Sigal    Television   90.0      1198.0   \n",
       "2018-07-12     East   Martha      Diana  Home Theater   29.0       500.0   \n",
       "2018-07-29     East  Douglas      Karen  Home Theater   81.0       500.0   \n",
       "2018-08-15     East   Martha  Alexander    Television   35.0      1198.0   \n",
       "2018-09-01  Central  Douglas       John          Desk    2.0       125.0   \n",
       "2018-09-18     East   Martha  Alexander   Video Games   16.0        58.5   \n",
       "2018-10-05  Central  Hermann      Sigal  Home Theater   28.0       500.0   \n",
       "2018-10-22     East   Martha  Alexander    Cell Phone   64.0       225.0   \n",
       "2018-11-08     East  Douglas      Karen    Cell Phone   15.0       225.0   \n",
       "2018-11-25  Central  Hermann     Shelli   Video Games   96.0        58.5   \n",
       "2018-12-12  Central  Douglas       John    Television   67.0      1198.0   \n",
       "2018-12-29     East  Douglas      Karen   Video Games   74.0        58.5   \n",
       "2019-01-15  Central  Timothy      David  Home Theater   46.0       500.0   \n",
       "2019-02-01  Central  Douglas       John  Home Theater   87.0       500.0   \n",
       "2019-02-18     East   Martha  Alexander  Home Theater    4.0       500.0   \n",
       "2019-03-07     West  Timothy    Stephen  Home Theater    7.0       500.0   \n",
       "2019-03-24  Central  Hermann       Luis   Video Games   50.0        58.5   \n",
       "2019-04-10  Central   Martha     Steven    Television   66.0      1198.0   \n",
       "2019-04-27     East   Martha      Diana    Cell Phone   96.0       225.0   \n",
       "2019-05-14  Central  Timothy      David    Television   53.0      1198.0   \n",
       "2019-05-31  Central  Timothy      David  Home Theater   80.0       500.0   \n",
       "2019-06-17  Central  Hermann     Shelli          Desk    5.0       125.0   \n",
       "2019-07-04     East   Martha  Alexander   Video Games   62.0        58.5   \n",
       "2019-07-21  Central  Hermann      Sigal   Video Games   55.0        58.5   \n",
       "2019-08-07  Central  Hermann     Shelli   Video Games   42.0        58.5   \n",
       "2019-08-24     West  Timothy    Stephen          Desk    3.0       125.0   \n",
       "2019-09-10  Central  Timothy      David    Television    7.0      1198.0   \n",
       "2019-09-27     West  Timothy    Stephen    Cell Phone   76.0       225.0   \n",
       "2019-10-14     West  Douglas    Michael  Home Theater   57.0       500.0   \n",
       "2019-10-31  Central   Martha     Steven    Television   14.0      1198.0   \n",
       "2019-11-17  Central  Hermann       Luis  Home Theater   11.0       500.0   \n",
       "2019-12-04  Central  Hermann       Luis  Home Theater   94.0       500.0   \n",
       "2019-12-21  Central   Martha     Steven  Home Theater   28.0       500.0   \n",
       "\n",
       "            Sale_amt  \n",
       "OrderDate             \n",
       "2018-01-06  113810.0  \n",
       "2018-01-23   25000.0  \n",
       "2018-02-09   43128.0  \n",
       "2018-02-26    6075.0  \n",
       "2018-03-15   67088.0  \n",
       "2018-04-01   30000.0  \n",
       "2018-04-18   89850.0  \n",
       "2018-05-05  107820.0  \n",
       "2018-05-22   38336.0  \n",
       "2018-06-08   30000.0  \n",
       "2018-06-25  107820.0  \n",
       "2018-07-12   14500.0  \n",
       "2018-07-29   40500.0  \n",
       "2018-08-15   41930.0  \n",
       "2018-09-01     250.0  \n",
       "2018-09-18     936.0  \n",
       "2018-10-05   14000.0  \n",
       "2018-10-22   14400.0  \n",
       "2018-11-08    3375.0  \n",
       "2018-11-25    5616.0  \n",
       "2018-12-12   80266.0  \n",
       "2018-12-29    4329.0  \n",
       "2019-01-15   23000.0  \n",
       "2019-02-01   43500.0  \n",
       "2019-02-18    2000.0  \n",
       "2019-03-07    3500.0  \n",
       "2019-03-24    2925.0  \n",
       "2019-04-10   79068.0  \n",
       "2019-04-27   21600.0  \n",
       "2019-05-14   63494.0  \n",
       "2019-05-31   40000.0  \n",
       "2019-06-17     625.0  \n",
       "2019-07-04    3627.0  \n",
       "2019-07-21    3217.5  \n",
       "2019-08-07    2457.0  \n",
       "2019-08-24     375.0  \n",
       "2019-09-10    8386.0  \n",
       "2019-09-27   17100.0  \n",
       "2019-10-14   28500.0  \n",
       "2019-10-31   16772.0  \n",
       "2019-11-17    5500.0  \n",
       "2019-12-04   47000.0  \n",
       "2019-12-21   14000.0  "
      ]
     },
     "execution_count": 54,
     "metadata": {},
     "output_type": "execute_result"
    }
   ],
   "source": [
    "data"
   ]
  },
  {
   "cell_type": "code",
   "execution_count": 55,
   "id": "082bef14",
   "metadata": {},
   "outputs": [
    {
     "data": {
      "text/plain": [
       "DatetimeIndex(['2023-09-01', '2023-09-02'], dtype='datetime64[ns]', freq=None)"
      ]
     },
     "execution_count": 55,
     "metadata": {},
     "output_type": "execute_result"
    }
   ],
   "source": [
    "ts.index"
   ]
  },
  {
   "cell_type": "code",
   "execution_count": 56,
   "id": "cf34d1dc",
   "metadata": {},
   "outputs": [
    {
     "data": {
      "text/plain": [
       "array([10000, 25000], dtype=int64)"
      ]
     },
     "execution_count": 56,
     "metadata": {},
     "output_type": "execute_result"
    }
   ],
   "source": [
    "ts.values"
   ]
  },
  {
   "cell_type": "code",
   "execution_count": 57,
   "id": "81153768",
   "metadata": {},
   "outputs": [
    {
     "data": {
      "text/plain": [
       "Index(['Apple', 'Bat', 'Cat', 'Dog'], dtype='object')"
      ]
     },
     "execution_count": 57,
     "metadata": {},
     "output_type": "execute_result"
    }
   ],
   "source": [
    "series.index"
   ]
  },
  {
   "cell_type": "code",
   "execution_count": 58,
   "id": "fee241e7",
   "metadata": {},
   "outputs": [
    {
     "data": {
      "text/plain": [
       "array([1, 2, 3, 4], dtype=int64)"
      ]
     },
     "execution_count": 58,
     "metadata": {},
     "output_type": "execute_result"
    }
   ],
   "source": [
    "series.values"
   ]
  },
  {
   "cell_type": "code",
   "execution_count": 59,
   "id": "de05ae48",
   "metadata": {},
   "outputs": [
    {
     "data": {
      "text/plain": [
       "DatetimeIndex(['2018-01-06', '2018-01-23', '2018-02-09', '2018-02-26',\n",
       "               '2018-03-15', '2018-04-01', '2018-04-18', '2018-05-05',\n",
       "               '2018-05-22', '2018-06-08', '2018-06-25', '2018-07-12',\n",
       "               '2018-07-29', '2018-08-15', '2018-09-01', '2018-09-18',\n",
       "               '2018-10-05', '2018-10-22', '2018-11-08', '2018-11-25',\n",
       "               '2018-12-12', '2018-12-29', '2019-01-15', '2019-02-01',\n",
       "               '2019-02-18', '2019-03-07', '2019-03-24', '2019-04-10',\n",
       "               '2019-04-27', '2019-05-14', '2019-05-31', '2019-06-17',\n",
       "               '2019-07-04', '2019-07-21', '2019-08-07', '2019-08-24',\n",
       "               '2019-09-10', '2019-09-27', '2019-10-14', '2019-10-31',\n",
       "               '2019-11-17', '2019-12-04', '2019-12-21'],\n",
       "              dtype='datetime64[ns]', name='OrderDate', freq=None)"
      ]
     },
     "execution_count": 59,
     "metadata": {},
     "output_type": "execute_result"
    }
   ],
   "source": [
    "data.index"
   ]
  },
  {
   "cell_type": "code",
   "execution_count": 60,
   "id": "e445fb33",
   "metadata": {},
   "outputs": [
    {
     "data": {
      "text/plain": [
       "array([['East', 'Martha', 'Alexander', 'Television', 95.0, 1198.0,\n",
       "        113810.0],\n",
       "       ['Central', 'Hermann', 'Shelli', 'Home Theater', 50.0, 500.0,\n",
       "        25000.0],\n",
       "       ['Central', 'Hermann', 'Luis', 'Television', 36.0, 1198.0,\n",
       "        43128.0],\n",
       "       ['Central', 'Timothy', 'David', 'Cell Phone', 27.0, 225.0, 6075.0],\n",
       "       ['West', 'Timothy', 'Stephen', 'Television', 56.0, 1198.0,\n",
       "        67088.0],\n",
       "       ['East', 'Martha', 'Alexander', 'Home Theater', 60.0, 500.0,\n",
       "        30000.0],\n",
       "       ['Central', 'Martha', 'Steven', 'Television', 75.0, 1198.0,\n",
       "        89850.0],\n",
       "       ['Central', 'Hermann', 'Luis', 'Television', 90.0, 1198.0,\n",
       "        107820.0],\n",
       "       ['West', 'Douglas', 'Michael', 'Television', 32.0, 1198.0,\n",
       "        38336.0],\n",
       "       ['East', 'Martha', 'Alexander', 'Home Theater', 60.0, 500.0,\n",
       "        30000.0],\n",
       "       ['Central', 'Hermann', 'Sigal', 'Television', 90.0, 1198.0,\n",
       "        107820.0],\n",
       "       ['East', 'Martha', 'Diana', 'Home Theater', 29.0, 500.0, 14500.0],\n",
       "       ['East', 'Douglas', 'Karen', 'Home Theater', 81.0, 500.0, 40500.0],\n",
       "       ['East', 'Martha', 'Alexander', 'Television', 35.0, 1198.0,\n",
       "        41930.0],\n",
       "       ['Central', 'Douglas', 'John', 'Desk', 2.0, 125.0, 250.0],\n",
       "       ['East', 'Martha', 'Alexander', 'Video Games', 16.0, 58.5, 936.0],\n",
       "       ['Central', 'Hermann', 'Sigal', 'Home Theater', 28.0, 500.0,\n",
       "        14000.0],\n",
       "       ['East', 'Martha', 'Alexander', 'Cell Phone', 64.0, 225.0,\n",
       "        14400.0],\n",
       "       ['East', 'Douglas', 'Karen', 'Cell Phone', 15.0, 225.0, 3375.0],\n",
       "       ['Central', 'Hermann', 'Shelli', 'Video Games', 96.0, 58.5,\n",
       "        5616.0],\n",
       "       ['Central', 'Douglas', 'John', 'Television', 67.0, 1198.0,\n",
       "        80266.0],\n",
       "       ['East', 'Douglas', 'Karen', 'Video Games', 74.0, 58.5, 4329.0],\n",
       "       ['Central', 'Timothy', 'David', 'Home Theater', 46.0, 500.0,\n",
       "        23000.0],\n",
       "       ['Central', 'Douglas', 'John', 'Home Theater', 87.0, 500.0,\n",
       "        43500.0],\n",
       "       ['East', 'Martha', 'Alexander', 'Home Theater', 4.0, 500.0,\n",
       "        2000.0],\n",
       "       ['West', 'Timothy', 'Stephen', 'Home Theater', 7.0, 500.0, 3500.0],\n",
       "       ['Central', 'Hermann', 'Luis', 'Video Games', 50.0, 58.5, 2925.0],\n",
       "       ['Central', 'Martha', 'Steven', 'Television', 66.0, 1198.0,\n",
       "        79068.0],\n",
       "       ['East', 'Martha', 'Diana', 'Cell Phone', 96.0, 225.0, 21600.0],\n",
       "       ['Central', 'Timothy', 'David', 'Television', 53.0, 1198.0,\n",
       "        63494.0],\n",
       "       ['Central', 'Timothy', 'David', 'Home Theater', 80.0, 500.0,\n",
       "        40000.0],\n",
       "       ['Central', 'Hermann', 'Shelli', 'Desk', 5.0, 125.0, 625.0],\n",
       "       ['East', 'Martha', 'Alexander', 'Video Games', 62.0, 58.5, 3627.0],\n",
       "       ['Central', 'Hermann', 'Sigal', 'Video Games', 55.0, 58.5, 3217.5],\n",
       "       ['Central', 'Hermann', 'Shelli', 'Video Games', 42.0, 58.5,\n",
       "        2457.0],\n",
       "       ['West', 'Timothy', 'Stephen', 'Desk', 3.0, 125.0, 375.0],\n",
       "       ['Central', 'Timothy', 'David', 'Television', 7.0, 1198.0, 8386.0],\n",
       "       ['West', 'Timothy', 'Stephen', 'Cell Phone', 76.0, 225.0, 17100.0],\n",
       "       ['West', 'Douglas', 'Michael', 'Home Theater', 57.0, 500.0,\n",
       "        28500.0],\n",
       "       ['Central', 'Martha', 'Steven', 'Television', 14.0, 1198.0,\n",
       "        16772.0],\n",
       "       ['Central', 'Hermann', 'Luis', 'Home Theater', 11.0, 500.0,\n",
       "        5500.0],\n",
       "       ['Central', 'Hermann', 'Luis', 'Home Theater', 94.0, 500.0,\n",
       "        47000.0],\n",
       "       ['Central', 'Martha', 'Steven', 'Home Theater', 28.0, 500.0,\n",
       "        14000.0]], dtype=object)"
      ]
     },
     "execution_count": 60,
     "metadata": {},
     "output_type": "execute_result"
    }
   ],
   "source": [
    "data.values"
   ]
  },
  {
   "cell_type": "code",
   "execution_count": 61,
   "id": "e08d64ee",
   "metadata": {},
   "outputs": [
    {
     "data": {
      "text/plain": [
       "Region              East\n",
       "Manager           Martha\n",
       "SalesMan       Alexander\n",
       "Item          Television\n",
       "Units               95.0\n",
       "Unit_price        1198.0\n",
       "Sale_amt        113810.0\n",
       "Name: 2018-01-06 00:00:00, dtype: object"
      ]
     },
     "execution_count": 61,
     "metadata": {},
     "output_type": "execute_result"
    }
   ],
   "source": [
    "data.loc['2018-01-06']"
   ]
  },
  {
   "cell_type": "code",
   "execution_count": 62,
   "id": "0359649c",
   "metadata": {},
   "outputs": [
    {
     "data": {
      "text/html": [
       "<div>\n",
       "<style scoped>\n",
       "    .dataframe tbody tr th:only-of-type {\n",
       "        vertical-align: middle;\n",
       "    }\n",
       "\n",
       "    .dataframe tbody tr th {\n",
       "        vertical-align: top;\n",
       "    }\n",
       "\n",
       "    .dataframe thead th {\n",
       "        text-align: right;\n",
       "    }\n",
       "</style>\n",
       "<table border=\"1\" class=\"dataframe\">\n",
       "  <thead>\n",
       "    <tr style=\"text-align: right;\">\n",
       "      <th></th>\n",
       "      <th>Region</th>\n",
       "      <th>Manager</th>\n",
       "      <th>SalesMan</th>\n",
       "      <th>Item</th>\n",
       "      <th>Units</th>\n",
       "      <th>Unit_price</th>\n",
       "      <th>Sale_amt</th>\n",
       "    </tr>\n",
       "    <tr>\n",
       "      <th>OrderDate</th>\n",
       "      <th></th>\n",
       "      <th></th>\n",
       "      <th></th>\n",
       "      <th></th>\n",
       "      <th></th>\n",
       "      <th></th>\n",
       "      <th></th>\n",
       "    </tr>\n",
       "  </thead>\n",
       "  <tbody>\n",
       "    <tr>\n",
       "      <th>2018-01-06</th>\n",
       "      <td>East</td>\n",
       "      <td>Martha</td>\n",
       "      <td>Alexander</td>\n",
       "      <td>Television</td>\n",
       "      <td>95.0</td>\n",
       "      <td>1198.0</td>\n",
       "      <td>113810.0</td>\n",
       "    </tr>\n",
       "    <tr>\n",
       "      <th>2018-01-23</th>\n",
       "      <td>Central</td>\n",
       "      <td>Hermann</td>\n",
       "      <td>Shelli</td>\n",
       "      <td>Home Theater</td>\n",
       "      <td>50.0</td>\n",
       "      <td>500.0</td>\n",
       "      <td>25000.0</td>\n",
       "    </tr>\n",
       "    <tr>\n",
       "      <th>2018-02-09</th>\n",
       "      <td>Central</td>\n",
       "      <td>Hermann</td>\n",
       "      <td>Luis</td>\n",
       "      <td>Television</td>\n",
       "      <td>36.0</td>\n",
       "      <td>1198.0</td>\n",
       "      <td>43128.0</td>\n",
       "    </tr>\n",
       "    <tr>\n",
       "      <th>2018-02-26</th>\n",
       "      <td>Central</td>\n",
       "      <td>Timothy</td>\n",
       "      <td>David</td>\n",
       "      <td>Cell Phone</td>\n",
       "      <td>27.0</td>\n",
       "      <td>225.0</td>\n",
       "      <td>6075.0</td>\n",
       "    </tr>\n",
       "    <tr>\n",
       "      <th>2018-03-15</th>\n",
       "      <td>West</td>\n",
       "      <td>Timothy</td>\n",
       "      <td>Stephen</td>\n",
       "      <td>Television</td>\n",
       "      <td>56.0</td>\n",
       "      <td>1198.0</td>\n",
       "      <td>67088.0</td>\n",
       "    </tr>\n",
       "    <tr>\n",
       "      <th>2018-04-01</th>\n",
       "      <td>East</td>\n",
       "      <td>Martha</td>\n",
       "      <td>Alexander</td>\n",
       "      <td>Home Theater</td>\n",
       "      <td>60.0</td>\n",
       "      <td>500.0</td>\n",
       "      <td>30000.0</td>\n",
       "    </tr>\n",
       "    <tr>\n",
       "      <th>2018-04-18</th>\n",
       "      <td>Central</td>\n",
       "      <td>Martha</td>\n",
       "      <td>Steven</td>\n",
       "      <td>Television</td>\n",
       "      <td>75.0</td>\n",
       "      <td>1198.0</td>\n",
       "      <td>89850.0</td>\n",
       "    </tr>\n",
       "    <tr>\n",
       "      <th>2018-05-05</th>\n",
       "      <td>Central</td>\n",
       "      <td>Hermann</td>\n",
       "      <td>Luis</td>\n",
       "      <td>Television</td>\n",
       "      <td>90.0</td>\n",
       "      <td>1198.0</td>\n",
       "      <td>107820.0</td>\n",
       "    </tr>\n",
       "    <tr>\n",
       "      <th>2018-05-22</th>\n",
       "      <td>West</td>\n",
       "      <td>Douglas</td>\n",
       "      <td>Michael</td>\n",
       "      <td>Television</td>\n",
       "      <td>32.0</td>\n",
       "      <td>1198.0</td>\n",
       "      <td>38336.0</td>\n",
       "    </tr>\n",
       "    <tr>\n",
       "      <th>2018-06-08</th>\n",
       "      <td>East</td>\n",
       "      <td>Martha</td>\n",
       "      <td>Alexander</td>\n",
       "      <td>Home Theater</td>\n",
       "      <td>60.0</td>\n",
       "      <td>500.0</td>\n",
       "      <td>30000.0</td>\n",
       "    </tr>\n",
       "    <tr>\n",
       "      <th>2018-06-25</th>\n",
       "      <td>Central</td>\n",
       "      <td>Hermann</td>\n",
       "      <td>Sigal</td>\n",
       "      <td>Television</td>\n",
       "      <td>90.0</td>\n",
       "      <td>1198.0</td>\n",
       "      <td>107820.0</td>\n",
       "    </tr>\n",
       "    <tr>\n",
       "      <th>2018-07-12</th>\n",
       "      <td>East</td>\n",
       "      <td>Martha</td>\n",
       "      <td>Diana</td>\n",
       "      <td>Home Theater</td>\n",
       "      <td>29.0</td>\n",
       "      <td>500.0</td>\n",
       "      <td>14500.0</td>\n",
       "    </tr>\n",
       "    <tr>\n",
       "      <th>2018-07-29</th>\n",
       "      <td>East</td>\n",
       "      <td>Douglas</td>\n",
       "      <td>Karen</td>\n",
       "      <td>Home Theater</td>\n",
       "      <td>81.0</td>\n",
       "      <td>500.0</td>\n",
       "      <td>40500.0</td>\n",
       "    </tr>\n",
       "    <tr>\n",
       "      <th>2018-08-15</th>\n",
       "      <td>East</td>\n",
       "      <td>Martha</td>\n",
       "      <td>Alexander</td>\n",
       "      <td>Television</td>\n",
       "      <td>35.0</td>\n",
       "      <td>1198.0</td>\n",
       "      <td>41930.0</td>\n",
       "    </tr>\n",
       "    <tr>\n",
       "      <th>2018-09-01</th>\n",
       "      <td>Central</td>\n",
       "      <td>Douglas</td>\n",
       "      <td>John</td>\n",
       "      <td>Desk</td>\n",
       "      <td>2.0</td>\n",
       "      <td>125.0</td>\n",
       "      <td>250.0</td>\n",
       "    </tr>\n",
       "    <tr>\n",
       "      <th>2018-09-18</th>\n",
       "      <td>East</td>\n",
       "      <td>Martha</td>\n",
       "      <td>Alexander</td>\n",
       "      <td>Video Games</td>\n",
       "      <td>16.0</td>\n",
       "      <td>58.5</td>\n",
       "      <td>936.0</td>\n",
       "    </tr>\n",
       "    <tr>\n",
       "      <th>2018-10-05</th>\n",
       "      <td>Central</td>\n",
       "      <td>Hermann</td>\n",
       "      <td>Sigal</td>\n",
       "      <td>Home Theater</td>\n",
       "      <td>28.0</td>\n",
       "      <td>500.0</td>\n",
       "      <td>14000.0</td>\n",
       "    </tr>\n",
       "    <tr>\n",
       "      <th>2018-10-22</th>\n",
       "      <td>East</td>\n",
       "      <td>Martha</td>\n",
       "      <td>Alexander</td>\n",
       "      <td>Cell Phone</td>\n",
       "      <td>64.0</td>\n",
       "      <td>225.0</td>\n",
       "      <td>14400.0</td>\n",
       "    </tr>\n",
       "    <tr>\n",
       "      <th>2018-11-08</th>\n",
       "      <td>East</td>\n",
       "      <td>Douglas</td>\n",
       "      <td>Karen</td>\n",
       "      <td>Cell Phone</td>\n",
       "      <td>15.0</td>\n",
       "      <td>225.0</td>\n",
       "      <td>3375.0</td>\n",
       "    </tr>\n",
       "    <tr>\n",
       "      <th>2018-11-25</th>\n",
       "      <td>Central</td>\n",
       "      <td>Hermann</td>\n",
       "      <td>Shelli</td>\n",
       "      <td>Video Games</td>\n",
       "      <td>96.0</td>\n",
       "      <td>58.5</td>\n",
       "      <td>5616.0</td>\n",
       "    </tr>\n",
       "    <tr>\n",
       "      <th>2018-12-12</th>\n",
       "      <td>Central</td>\n",
       "      <td>Douglas</td>\n",
       "      <td>John</td>\n",
       "      <td>Television</td>\n",
       "      <td>67.0</td>\n",
       "      <td>1198.0</td>\n",
       "      <td>80266.0</td>\n",
       "    </tr>\n",
       "    <tr>\n",
       "      <th>2018-12-29</th>\n",
       "      <td>East</td>\n",
       "      <td>Douglas</td>\n",
       "      <td>Karen</td>\n",
       "      <td>Video Games</td>\n",
       "      <td>74.0</td>\n",
       "      <td>58.5</td>\n",
       "      <td>4329.0</td>\n",
       "    </tr>\n",
       "  </tbody>\n",
       "</table>\n",
       "</div>"
      ],
      "text/plain": [
       "             Region  Manager   SalesMan          Item  Units  Unit_price  \\\n",
       "OrderDate                                                                  \n",
       "2018-01-06     East   Martha  Alexander    Television   95.0      1198.0   \n",
       "2018-01-23  Central  Hermann     Shelli  Home Theater   50.0       500.0   \n",
       "2018-02-09  Central  Hermann       Luis    Television   36.0      1198.0   \n",
       "2018-02-26  Central  Timothy      David    Cell Phone   27.0       225.0   \n",
       "2018-03-15     West  Timothy    Stephen    Television   56.0      1198.0   \n",
       "2018-04-01     East   Martha  Alexander  Home Theater   60.0       500.0   \n",
       "2018-04-18  Central   Martha     Steven    Television   75.0      1198.0   \n",
       "2018-05-05  Central  Hermann       Luis    Television   90.0      1198.0   \n",
       "2018-05-22     West  Douglas    Michael    Television   32.0      1198.0   \n",
       "2018-06-08     East   Martha  Alexander  Home Theater   60.0       500.0   \n",
       "2018-06-25  Central  Hermann      Sigal    Television   90.0      1198.0   \n",
       "2018-07-12     East   Martha      Diana  Home Theater   29.0       500.0   \n",
       "2018-07-29     East  Douglas      Karen  Home Theater   81.0       500.0   \n",
       "2018-08-15     East   Martha  Alexander    Television   35.0      1198.0   \n",
       "2018-09-01  Central  Douglas       John          Desk    2.0       125.0   \n",
       "2018-09-18     East   Martha  Alexander   Video Games   16.0        58.5   \n",
       "2018-10-05  Central  Hermann      Sigal  Home Theater   28.0       500.0   \n",
       "2018-10-22     East   Martha  Alexander    Cell Phone   64.0       225.0   \n",
       "2018-11-08     East  Douglas      Karen    Cell Phone   15.0       225.0   \n",
       "2018-11-25  Central  Hermann     Shelli   Video Games   96.0        58.5   \n",
       "2018-12-12  Central  Douglas       John    Television   67.0      1198.0   \n",
       "2018-12-29     East  Douglas      Karen   Video Games   74.0        58.5   \n",
       "\n",
       "            Sale_amt  \n",
       "OrderDate             \n",
       "2018-01-06  113810.0  \n",
       "2018-01-23   25000.0  \n",
       "2018-02-09   43128.0  \n",
       "2018-02-26    6075.0  \n",
       "2018-03-15   67088.0  \n",
       "2018-04-01   30000.0  \n",
       "2018-04-18   89850.0  \n",
       "2018-05-05  107820.0  \n",
       "2018-05-22   38336.0  \n",
       "2018-06-08   30000.0  \n",
       "2018-06-25  107820.0  \n",
       "2018-07-12   14500.0  \n",
       "2018-07-29   40500.0  \n",
       "2018-08-15   41930.0  \n",
       "2018-09-01     250.0  \n",
       "2018-09-18     936.0  \n",
       "2018-10-05   14000.0  \n",
       "2018-10-22   14400.0  \n",
       "2018-11-08    3375.0  \n",
       "2018-11-25    5616.0  \n",
       "2018-12-12   80266.0  \n",
       "2018-12-29    4329.0  "
      ]
     },
     "execution_count": 62,
     "metadata": {},
     "output_type": "execute_result"
    }
   ],
   "source": [
    "data.loc['2018']"
   ]
  },
  {
   "cell_type": "code",
   "execution_count": 63,
   "id": "892c5c76",
   "metadata": {},
   "outputs": [
    {
     "data": {
      "text/html": [
       "<div>\n",
       "<style scoped>\n",
       "    .dataframe tbody tr th:only-of-type {\n",
       "        vertical-align: middle;\n",
       "    }\n",
       "\n",
       "    .dataframe tbody tr th {\n",
       "        vertical-align: top;\n",
       "    }\n",
       "\n",
       "    .dataframe thead th {\n",
       "        text-align: right;\n",
       "    }\n",
       "</style>\n",
       "<table border=\"1\" class=\"dataframe\">\n",
       "  <thead>\n",
       "    <tr style=\"text-align: right;\">\n",
       "      <th></th>\n",
       "      <th>Region</th>\n",
       "      <th>Manager</th>\n",
       "      <th>SalesMan</th>\n",
       "      <th>Item</th>\n",
       "      <th>Units</th>\n",
       "      <th>Unit_price</th>\n",
       "      <th>Sale_amt</th>\n",
       "    </tr>\n",
       "    <tr>\n",
       "      <th>OrderDate</th>\n",
       "      <th></th>\n",
       "      <th></th>\n",
       "      <th></th>\n",
       "      <th></th>\n",
       "      <th></th>\n",
       "      <th></th>\n",
       "      <th></th>\n",
       "    </tr>\n",
       "  </thead>\n",
       "  <tbody>\n",
       "    <tr>\n",
       "      <th>2018-01-06</th>\n",
       "      <td>East</td>\n",
       "      <td>Martha</td>\n",
       "      <td>Alexander</td>\n",
       "      <td>Television</td>\n",
       "      <td>95.0</td>\n",
       "      <td>1198.0</td>\n",
       "      <td>113810.0</td>\n",
       "    </tr>\n",
       "    <tr>\n",
       "      <th>2018-01-23</th>\n",
       "      <td>Central</td>\n",
       "      <td>Hermann</td>\n",
       "      <td>Shelli</td>\n",
       "      <td>Home Theater</td>\n",
       "      <td>50.0</td>\n",
       "      <td>500.0</td>\n",
       "      <td>25000.0</td>\n",
       "    </tr>\n",
       "  </tbody>\n",
       "</table>\n",
       "</div>"
      ],
      "text/plain": [
       "             Region  Manager   SalesMan          Item  Units  Unit_price  \\\n",
       "OrderDate                                                                  \n",
       "2018-01-06     East   Martha  Alexander    Television   95.0      1198.0   \n",
       "2018-01-23  Central  Hermann     Shelli  Home Theater   50.0       500.0   \n",
       "\n",
       "            Sale_amt  \n",
       "OrderDate             \n",
       "2018-01-06  113810.0  \n",
       "2018-01-23   25000.0  "
      ]
     },
     "execution_count": 63,
     "metadata": {},
     "output_type": "execute_result"
    }
   ],
   "source": [
    "data.loc['2018-1']"
   ]
  },
  {
   "cell_type": "code",
   "execution_count": 64,
   "id": "0c110c41",
   "metadata": {},
   "outputs": [
    {
     "data": {
      "text/plain": [
       "Region              East\n",
       "Manager           Martha\n",
       "SalesMan       Alexander\n",
       "Item          Television\n",
       "Units               95.0\n",
       "Unit_price        1198.0\n",
       "Sale_amt        113810.0\n",
       "Name: 2018-01-06 00:00:00, dtype: object"
      ]
     },
     "execution_count": 64,
     "metadata": {},
     "output_type": "execute_result"
    }
   ],
   "source": [
    "data.loc['2018-1-6']"
   ]
  },
  {
   "cell_type": "code",
   "execution_count": 65,
   "id": "d96d91a9",
   "metadata": {},
   "outputs": [
    {
     "data": {
      "text/html": [
       "<div>\n",
       "<style scoped>\n",
       "    .dataframe tbody tr th:only-of-type {\n",
       "        vertical-align: middle;\n",
       "    }\n",
       "\n",
       "    .dataframe tbody tr th {\n",
       "        vertical-align: top;\n",
       "    }\n",
       "\n",
       "    .dataframe thead th {\n",
       "        text-align: right;\n",
       "    }\n",
       "</style>\n",
       "<table border=\"1\" class=\"dataframe\">\n",
       "  <thead>\n",
       "    <tr style=\"text-align: right;\">\n",
       "      <th></th>\n",
       "      <th>Region</th>\n",
       "      <th>Manager</th>\n",
       "      <th>SalesMan</th>\n",
       "      <th>Item</th>\n",
       "      <th>Units</th>\n",
       "      <th>Unit_price</th>\n",
       "      <th>Sale_amt</th>\n",
       "    </tr>\n",
       "    <tr>\n",
       "      <th>OrderDate</th>\n",
       "      <th></th>\n",
       "      <th></th>\n",
       "      <th></th>\n",
       "      <th></th>\n",
       "      <th></th>\n",
       "      <th></th>\n",
       "      <th></th>\n",
       "    </tr>\n",
       "  </thead>\n",
       "  <tbody>\n",
       "    <tr>\n",
       "      <th>2018-01-06</th>\n",
       "      <td>East</td>\n",
       "      <td>Martha</td>\n",
       "      <td>Alexander</td>\n",
       "      <td>Television</td>\n",
       "      <td>95.0</td>\n",
       "      <td>1198.0</td>\n",
       "      <td>113810.0</td>\n",
       "    </tr>\n",
       "    <tr>\n",
       "      <th>2018-01-23</th>\n",
       "      <td>Central</td>\n",
       "      <td>Hermann</td>\n",
       "      <td>Shelli</td>\n",
       "      <td>Home Theater</td>\n",
       "      <td>50.0</td>\n",
       "      <td>500.0</td>\n",
       "      <td>25000.0</td>\n",
       "    </tr>\n",
       "    <tr>\n",
       "      <th>2018-02-09</th>\n",
       "      <td>Central</td>\n",
       "      <td>Hermann</td>\n",
       "      <td>Luis</td>\n",
       "      <td>Television</td>\n",
       "      <td>36.0</td>\n",
       "      <td>1198.0</td>\n",
       "      <td>43128.0</td>\n",
       "    </tr>\n",
       "    <tr>\n",
       "      <th>2018-02-26</th>\n",
       "      <td>Central</td>\n",
       "      <td>Timothy</td>\n",
       "      <td>David</td>\n",
       "      <td>Cell Phone</td>\n",
       "      <td>27.0</td>\n",
       "      <td>225.0</td>\n",
       "      <td>6075.0</td>\n",
       "    </tr>\n",
       "    <tr>\n",
       "      <th>2018-03-15</th>\n",
       "      <td>West</td>\n",
       "      <td>Timothy</td>\n",
       "      <td>Stephen</td>\n",
       "      <td>Television</td>\n",
       "      <td>56.0</td>\n",
       "      <td>1198.0</td>\n",
       "      <td>67088.0</td>\n",
       "    </tr>\n",
       "    <tr>\n",
       "      <th>2018-04-01</th>\n",
       "      <td>East</td>\n",
       "      <td>Martha</td>\n",
       "      <td>Alexander</td>\n",
       "      <td>Home Theater</td>\n",
       "      <td>60.0</td>\n",
       "      <td>500.0</td>\n",
       "      <td>30000.0</td>\n",
       "    </tr>\n",
       "    <tr>\n",
       "      <th>2018-04-18</th>\n",
       "      <td>Central</td>\n",
       "      <td>Martha</td>\n",
       "      <td>Steven</td>\n",
       "      <td>Television</td>\n",
       "      <td>75.0</td>\n",
       "      <td>1198.0</td>\n",
       "      <td>89850.0</td>\n",
       "    </tr>\n",
       "    <tr>\n",
       "      <th>2018-05-05</th>\n",
       "      <td>Central</td>\n",
       "      <td>Hermann</td>\n",
       "      <td>Luis</td>\n",
       "      <td>Television</td>\n",
       "      <td>90.0</td>\n",
       "      <td>1198.0</td>\n",
       "      <td>107820.0</td>\n",
       "    </tr>\n",
       "    <tr>\n",
       "      <th>2018-05-22</th>\n",
       "      <td>West</td>\n",
       "      <td>Douglas</td>\n",
       "      <td>Michael</td>\n",
       "      <td>Television</td>\n",
       "      <td>32.0</td>\n",
       "      <td>1198.0</td>\n",
       "      <td>38336.0</td>\n",
       "    </tr>\n",
       "    <tr>\n",
       "      <th>2018-06-08</th>\n",
       "      <td>East</td>\n",
       "      <td>Martha</td>\n",
       "      <td>Alexander</td>\n",
       "      <td>Home Theater</td>\n",
       "      <td>60.0</td>\n",
       "      <td>500.0</td>\n",
       "      <td>30000.0</td>\n",
       "    </tr>\n",
       "    <tr>\n",
       "      <th>2018-06-25</th>\n",
       "      <td>Central</td>\n",
       "      <td>Hermann</td>\n",
       "      <td>Sigal</td>\n",
       "      <td>Television</td>\n",
       "      <td>90.0</td>\n",
       "      <td>1198.0</td>\n",
       "      <td>107820.0</td>\n",
       "    </tr>\n",
       "    <tr>\n",
       "      <th>2018-07-12</th>\n",
       "      <td>East</td>\n",
       "      <td>Martha</td>\n",
       "      <td>Diana</td>\n",
       "      <td>Home Theater</td>\n",
       "      <td>29.0</td>\n",
       "      <td>500.0</td>\n",
       "      <td>14500.0</td>\n",
       "    </tr>\n",
       "    <tr>\n",
       "      <th>2018-07-29</th>\n",
       "      <td>East</td>\n",
       "      <td>Douglas</td>\n",
       "      <td>Karen</td>\n",
       "      <td>Home Theater</td>\n",
       "      <td>81.0</td>\n",
       "      <td>500.0</td>\n",
       "      <td>40500.0</td>\n",
       "    </tr>\n",
       "    <tr>\n",
       "      <th>2018-08-15</th>\n",
       "      <td>East</td>\n",
       "      <td>Martha</td>\n",
       "      <td>Alexander</td>\n",
       "      <td>Television</td>\n",
       "      <td>35.0</td>\n",
       "      <td>1198.0</td>\n",
       "      <td>41930.0</td>\n",
       "    </tr>\n",
       "    <tr>\n",
       "      <th>2018-09-01</th>\n",
       "      <td>Central</td>\n",
       "      <td>Douglas</td>\n",
       "      <td>John</td>\n",
       "      <td>Desk</td>\n",
       "      <td>2.0</td>\n",
       "      <td>125.0</td>\n",
       "      <td>250.0</td>\n",
       "    </tr>\n",
       "    <tr>\n",
       "      <th>2018-09-18</th>\n",
       "      <td>East</td>\n",
       "      <td>Martha</td>\n",
       "      <td>Alexander</td>\n",
       "      <td>Video Games</td>\n",
       "      <td>16.0</td>\n",
       "      <td>58.5</td>\n",
       "      <td>936.0</td>\n",
       "    </tr>\n",
       "    <tr>\n",
       "      <th>2018-10-05</th>\n",
       "      <td>Central</td>\n",
       "      <td>Hermann</td>\n",
       "      <td>Sigal</td>\n",
       "      <td>Home Theater</td>\n",
       "      <td>28.0</td>\n",
       "      <td>500.0</td>\n",
       "      <td>14000.0</td>\n",
       "    </tr>\n",
       "  </tbody>\n",
       "</table>\n",
       "</div>"
      ],
      "text/plain": [
       "             Region  Manager   SalesMan          Item  Units  Unit_price  \\\n",
       "OrderDate                                                                  \n",
       "2018-01-06     East   Martha  Alexander    Television   95.0      1198.0   \n",
       "2018-01-23  Central  Hermann     Shelli  Home Theater   50.0       500.0   \n",
       "2018-02-09  Central  Hermann       Luis    Television   36.0      1198.0   \n",
       "2018-02-26  Central  Timothy      David    Cell Phone   27.0       225.0   \n",
       "2018-03-15     West  Timothy    Stephen    Television   56.0      1198.0   \n",
       "2018-04-01     East   Martha  Alexander  Home Theater   60.0       500.0   \n",
       "2018-04-18  Central   Martha     Steven    Television   75.0      1198.0   \n",
       "2018-05-05  Central  Hermann       Luis    Television   90.0      1198.0   \n",
       "2018-05-22     West  Douglas    Michael    Television   32.0      1198.0   \n",
       "2018-06-08     East   Martha  Alexander  Home Theater   60.0       500.0   \n",
       "2018-06-25  Central  Hermann      Sigal    Television   90.0      1198.0   \n",
       "2018-07-12     East   Martha      Diana  Home Theater   29.0       500.0   \n",
       "2018-07-29     East  Douglas      Karen  Home Theater   81.0       500.0   \n",
       "2018-08-15     East   Martha  Alexander    Television   35.0      1198.0   \n",
       "2018-09-01  Central  Douglas       John          Desk    2.0       125.0   \n",
       "2018-09-18     East   Martha  Alexander   Video Games   16.0        58.5   \n",
       "2018-10-05  Central  Hermann      Sigal  Home Theater   28.0       500.0   \n",
       "\n",
       "            Sale_amt  \n",
       "OrderDate             \n",
       "2018-01-06  113810.0  \n",
       "2018-01-23   25000.0  \n",
       "2018-02-09   43128.0  \n",
       "2018-02-26    6075.0  \n",
       "2018-03-15   67088.0  \n",
       "2018-04-01   30000.0  \n",
       "2018-04-18   89850.0  \n",
       "2018-05-05  107820.0  \n",
       "2018-05-22   38336.0  \n",
       "2018-06-08   30000.0  \n",
       "2018-06-25  107820.0  \n",
       "2018-07-12   14500.0  \n",
       "2018-07-29   40500.0  \n",
       "2018-08-15   41930.0  \n",
       "2018-09-01     250.0  \n",
       "2018-09-18     936.0  \n",
       "2018-10-05   14000.0  "
      ]
     },
     "execution_count": 65,
     "metadata": {},
     "output_type": "execute_result"
    }
   ],
   "source": [
    "data.loc['2018-1-6':'2018-10-05']"
   ]
  },
  {
   "cell_type": "code",
   "execution_count": 66,
   "id": "d1e3fcba",
   "metadata": {},
   "outputs": [
    {
     "data": {
      "text/plain": [
       "DatetimeIndex(['2018-01-06', '2018-01-23', '2018-02-09', '2018-02-26',\n",
       "               '2018-03-15', '2018-04-01', '2018-04-18', '2018-05-05',\n",
       "               '2018-05-22', '2018-06-08', '2018-06-25', '2018-07-12',\n",
       "               '2018-07-29', '2018-08-15', '2018-09-01', '2018-09-18',\n",
       "               '2018-10-05', '2018-10-22', '2018-11-08', '2018-11-25',\n",
       "               '2018-12-12', '2018-12-29', '2019-01-15', '2019-02-01',\n",
       "               '2019-02-18', '2019-03-07', '2019-03-24', '2019-04-10',\n",
       "               '2019-04-27', '2019-05-14', '2019-05-31', '2019-06-17',\n",
       "               '2019-07-04', '2019-07-21', '2019-08-07', '2019-08-24',\n",
       "               '2019-09-10', '2019-09-27', '2019-10-14', '2019-10-31',\n",
       "               '2019-11-17', '2019-12-04', '2019-12-21'],\n",
       "              dtype='datetime64[ns]', name='OrderDate', freq=None)"
      ]
     },
     "execution_count": 66,
     "metadata": {},
     "output_type": "execute_result"
    }
   ],
   "source": [
    "data.index"
   ]
  },
  {
   "cell_type": "code",
   "execution_count": 67,
   "id": "08890a5f",
   "metadata": {},
   "outputs": [
    {
     "data": {
      "text/html": [
       "<div>\n",
       "<style scoped>\n",
       "    .dataframe tbody tr th:only-of-type {\n",
       "        vertical-align: middle;\n",
       "    }\n",
       "\n",
       "    .dataframe tbody tr th {\n",
       "        vertical-align: top;\n",
       "    }\n",
       "\n",
       "    .dataframe thead th {\n",
       "        text-align: right;\n",
       "    }\n",
       "</style>\n",
       "<table border=\"1\" class=\"dataframe\">\n",
       "  <thead>\n",
       "    <tr style=\"text-align: right;\">\n",
       "      <th></th>\n",
       "      <th>Region</th>\n",
       "      <th>Manager</th>\n",
       "      <th>SalesMan</th>\n",
       "      <th>Item</th>\n",
       "      <th>Units</th>\n",
       "      <th>Unit_price</th>\n",
       "      <th>Sale_amt</th>\n",
       "    </tr>\n",
       "    <tr>\n",
       "      <th>OrderDate</th>\n",
       "      <th></th>\n",
       "      <th></th>\n",
       "      <th></th>\n",
       "      <th></th>\n",
       "      <th></th>\n",
       "      <th></th>\n",
       "      <th></th>\n",
       "    </tr>\n",
       "  </thead>\n",
       "  <tbody>\n",
       "    <tr>\n",
       "      <th>2018-12-12</th>\n",
       "      <td>Central</td>\n",
       "      <td>Douglas</td>\n",
       "      <td>John</td>\n",
       "      <td>Television</td>\n",
       "      <td>67.0</td>\n",
       "      <td>1198.0</td>\n",
       "      <td>80266.0</td>\n",
       "    </tr>\n",
       "    <tr>\n",
       "      <th>2018-12-29</th>\n",
       "      <td>East</td>\n",
       "      <td>Douglas</td>\n",
       "      <td>Karen</td>\n",
       "      <td>Video Games</td>\n",
       "      <td>74.0</td>\n",
       "      <td>58.5</td>\n",
       "      <td>4329.0</td>\n",
       "    </tr>\n",
       "    <tr>\n",
       "      <th>2019-01-15</th>\n",
       "      <td>Central</td>\n",
       "      <td>Timothy</td>\n",
       "      <td>David</td>\n",
       "      <td>Home Theater</td>\n",
       "      <td>46.0</td>\n",
       "      <td>500.0</td>\n",
       "      <td>23000.0</td>\n",
       "    </tr>\n",
       "    <tr>\n",
       "      <th>2019-02-01</th>\n",
       "      <td>Central</td>\n",
       "      <td>Douglas</td>\n",
       "      <td>John</td>\n",
       "      <td>Home Theater</td>\n",
       "      <td>87.0</td>\n",
       "      <td>500.0</td>\n",
       "      <td>43500.0</td>\n",
       "    </tr>\n",
       "    <tr>\n",
       "      <th>2019-02-18</th>\n",
       "      <td>East</td>\n",
       "      <td>Martha</td>\n",
       "      <td>Alexander</td>\n",
       "      <td>Home Theater</td>\n",
       "      <td>4.0</td>\n",
       "      <td>500.0</td>\n",
       "      <td>2000.0</td>\n",
       "    </tr>\n",
       "    <tr>\n",
       "      <th>2019-03-07</th>\n",
       "      <td>West</td>\n",
       "      <td>Timothy</td>\n",
       "      <td>Stephen</td>\n",
       "      <td>Home Theater</td>\n",
       "      <td>7.0</td>\n",
       "      <td>500.0</td>\n",
       "      <td>3500.0</td>\n",
       "    </tr>\n",
       "    <tr>\n",
       "      <th>2019-03-24</th>\n",
       "      <td>Central</td>\n",
       "      <td>Hermann</td>\n",
       "      <td>Luis</td>\n",
       "      <td>Video Games</td>\n",
       "      <td>50.0</td>\n",
       "      <td>58.5</td>\n",
       "      <td>2925.0</td>\n",
       "    </tr>\n",
       "    <tr>\n",
       "      <th>2019-04-10</th>\n",
       "      <td>Central</td>\n",
       "      <td>Martha</td>\n",
       "      <td>Steven</td>\n",
       "      <td>Television</td>\n",
       "      <td>66.0</td>\n",
       "      <td>1198.0</td>\n",
       "      <td>79068.0</td>\n",
       "    </tr>\n",
       "    <tr>\n",
       "      <th>2019-04-27</th>\n",
       "      <td>East</td>\n",
       "      <td>Martha</td>\n",
       "      <td>Diana</td>\n",
       "      <td>Cell Phone</td>\n",
       "      <td>96.0</td>\n",
       "      <td>225.0</td>\n",
       "      <td>21600.0</td>\n",
       "    </tr>\n",
       "    <tr>\n",
       "      <th>2019-05-14</th>\n",
       "      <td>Central</td>\n",
       "      <td>Timothy</td>\n",
       "      <td>David</td>\n",
       "      <td>Television</td>\n",
       "      <td>53.0</td>\n",
       "      <td>1198.0</td>\n",
       "      <td>63494.0</td>\n",
       "    </tr>\n",
       "    <tr>\n",
       "      <th>2019-05-31</th>\n",
       "      <td>Central</td>\n",
       "      <td>Timothy</td>\n",
       "      <td>David</td>\n",
       "      <td>Home Theater</td>\n",
       "      <td>80.0</td>\n",
       "      <td>500.0</td>\n",
       "      <td>40000.0</td>\n",
       "    </tr>\n",
       "    <tr>\n",
       "      <th>2019-06-17</th>\n",
       "      <td>Central</td>\n",
       "      <td>Hermann</td>\n",
       "      <td>Shelli</td>\n",
       "      <td>Desk</td>\n",
       "      <td>5.0</td>\n",
       "      <td>125.0</td>\n",
       "      <td>625.0</td>\n",
       "    </tr>\n",
       "    <tr>\n",
       "      <th>2019-07-04</th>\n",
       "      <td>East</td>\n",
       "      <td>Martha</td>\n",
       "      <td>Alexander</td>\n",
       "      <td>Video Games</td>\n",
       "      <td>62.0</td>\n",
       "      <td>58.5</td>\n",
       "      <td>3627.0</td>\n",
       "    </tr>\n",
       "    <tr>\n",
       "      <th>2019-07-21</th>\n",
       "      <td>Central</td>\n",
       "      <td>Hermann</td>\n",
       "      <td>Sigal</td>\n",
       "      <td>Video Games</td>\n",
       "      <td>55.0</td>\n",
       "      <td>58.5</td>\n",
       "      <td>3217.5</td>\n",
       "    </tr>\n",
       "    <tr>\n",
       "      <th>2019-08-07</th>\n",
       "      <td>Central</td>\n",
       "      <td>Hermann</td>\n",
       "      <td>Shelli</td>\n",
       "      <td>Video Games</td>\n",
       "      <td>42.0</td>\n",
       "      <td>58.5</td>\n",
       "      <td>2457.0</td>\n",
       "    </tr>\n",
       "    <tr>\n",
       "      <th>2019-08-24</th>\n",
       "      <td>West</td>\n",
       "      <td>Timothy</td>\n",
       "      <td>Stephen</td>\n",
       "      <td>Desk</td>\n",
       "      <td>3.0</td>\n",
       "      <td>125.0</td>\n",
       "      <td>375.0</td>\n",
       "    </tr>\n",
       "    <tr>\n",
       "      <th>2019-09-10</th>\n",
       "      <td>Central</td>\n",
       "      <td>Timothy</td>\n",
       "      <td>David</td>\n",
       "      <td>Television</td>\n",
       "      <td>7.0</td>\n",
       "      <td>1198.0</td>\n",
       "      <td>8386.0</td>\n",
       "    </tr>\n",
       "    <tr>\n",
       "      <th>2019-09-27</th>\n",
       "      <td>West</td>\n",
       "      <td>Timothy</td>\n",
       "      <td>Stephen</td>\n",
       "      <td>Cell Phone</td>\n",
       "      <td>76.0</td>\n",
       "      <td>225.0</td>\n",
       "      <td>17100.0</td>\n",
       "    </tr>\n",
       "    <tr>\n",
       "      <th>2019-10-14</th>\n",
       "      <td>West</td>\n",
       "      <td>Douglas</td>\n",
       "      <td>Michael</td>\n",
       "      <td>Home Theater</td>\n",
       "      <td>57.0</td>\n",
       "      <td>500.0</td>\n",
       "      <td>28500.0</td>\n",
       "    </tr>\n",
       "    <tr>\n",
       "      <th>2019-10-31</th>\n",
       "      <td>Central</td>\n",
       "      <td>Martha</td>\n",
       "      <td>Steven</td>\n",
       "      <td>Television</td>\n",
       "      <td>14.0</td>\n",
       "      <td>1198.0</td>\n",
       "      <td>16772.0</td>\n",
       "    </tr>\n",
       "    <tr>\n",
       "      <th>2019-11-17</th>\n",
       "      <td>Central</td>\n",
       "      <td>Hermann</td>\n",
       "      <td>Luis</td>\n",
       "      <td>Home Theater</td>\n",
       "      <td>11.0</td>\n",
       "      <td>500.0</td>\n",
       "      <td>5500.0</td>\n",
       "    </tr>\n",
       "    <tr>\n",
       "      <th>2019-12-04</th>\n",
       "      <td>Central</td>\n",
       "      <td>Hermann</td>\n",
       "      <td>Luis</td>\n",
       "      <td>Home Theater</td>\n",
       "      <td>94.0</td>\n",
       "      <td>500.0</td>\n",
       "      <td>47000.0</td>\n",
       "    </tr>\n",
       "    <tr>\n",
       "      <th>2019-12-21</th>\n",
       "      <td>Central</td>\n",
       "      <td>Martha</td>\n",
       "      <td>Steven</td>\n",
       "      <td>Home Theater</td>\n",
       "      <td>28.0</td>\n",
       "      <td>500.0</td>\n",
       "      <td>14000.0</td>\n",
       "    </tr>\n",
       "  </tbody>\n",
       "</table>\n",
       "</div>"
      ],
      "text/plain": [
       "             Region  Manager   SalesMan          Item  Units  Unit_price  \\\n",
       "OrderDate                                                                  \n",
       "2018-12-12  Central  Douglas       John    Television   67.0      1198.0   \n",
       "2018-12-29     East  Douglas      Karen   Video Games   74.0        58.5   \n",
       "2019-01-15  Central  Timothy      David  Home Theater   46.0       500.0   \n",
       "2019-02-01  Central  Douglas       John  Home Theater   87.0       500.0   \n",
       "2019-02-18     East   Martha  Alexander  Home Theater    4.0       500.0   \n",
       "2019-03-07     West  Timothy    Stephen  Home Theater    7.0       500.0   \n",
       "2019-03-24  Central  Hermann       Luis   Video Games   50.0        58.5   \n",
       "2019-04-10  Central   Martha     Steven    Television   66.0      1198.0   \n",
       "2019-04-27     East   Martha      Diana    Cell Phone   96.0       225.0   \n",
       "2019-05-14  Central  Timothy      David    Television   53.0      1198.0   \n",
       "2019-05-31  Central  Timothy      David  Home Theater   80.0       500.0   \n",
       "2019-06-17  Central  Hermann     Shelli          Desk    5.0       125.0   \n",
       "2019-07-04     East   Martha  Alexander   Video Games   62.0        58.5   \n",
       "2019-07-21  Central  Hermann      Sigal   Video Games   55.0        58.5   \n",
       "2019-08-07  Central  Hermann     Shelli   Video Games   42.0        58.5   \n",
       "2019-08-24     West  Timothy    Stephen          Desk    3.0       125.0   \n",
       "2019-09-10  Central  Timothy      David    Television    7.0      1198.0   \n",
       "2019-09-27     West  Timothy    Stephen    Cell Phone   76.0       225.0   \n",
       "2019-10-14     West  Douglas    Michael  Home Theater   57.0       500.0   \n",
       "2019-10-31  Central   Martha     Steven    Television   14.0      1198.0   \n",
       "2019-11-17  Central  Hermann       Luis  Home Theater   11.0       500.0   \n",
       "2019-12-04  Central  Hermann       Luis  Home Theater   94.0       500.0   \n",
       "2019-12-21  Central   Martha     Steven  Home Theater   28.0       500.0   \n",
       "\n",
       "            Sale_amt  \n",
       "OrderDate             \n",
       "2018-12-12   80266.0  \n",
       "2018-12-29    4329.0  \n",
       "2019-01-15   23000.0  \n",
       "2019-02-01   43500.0  \n",
       "2019-02-18    2000.0  \n",
       "2019-03-07    3500.0  \n",
       "2019-03-24    2925.0  \n",
       "2019-04-10   79068.0  \n",
       "2019-04-27   21600.0  \n",
       "2019-05-14   63494.0  \n",
       "2019-05-31   40000.0  \n",
       "2019-06-17     625.0  \n",
       "2019-07-04    3627.0  \n",
       "2019-07-21    3217.5  \n",
       "2019-08-07    2457.0  \n",
       "2019-08-24     375.0  \n",
       "2019-09-10    8386.0  \n",
       "2019-09-27   17100.0  \n",
       "2019-10-14   28500.0  \n",
       "2019-10-31   16772.0  \n",
       "2019-11-17    5500.0  \n",
       "2019-12-04   47000.0  \n",
       "2019-12-21   14000.0  "
      ]
     },
     "execution_count": 67,
     "metadata": {},
     "output_type": "execute_result"
    }
   ],
   "source": [
    "data.loc['2018-12-1':'2019-12-31']"
   ]
  },
  {
   "cell_type": "code",
   "execution_count": 68,
   "id": "9ed35d1c",
   "metadata": {},
   "outputs": [],
   "source": [
    "passengers = pd.read_csv(\"data/AirPassengers.csv\")"
   ]
  },
  {
   "cell_type": "code",
   "execution_count": 69,
   "id": "a82b2349",
   "metadata": {},
   "outputs": [
    {
     "data": {
      "text/html": [
       "<div>\n",
       "<style scoped>\n",
       "    .dataframe tbody tr th:only-of-type {\n",
       "        vertical-align: middle;\n",
       "    }\n",
       "\n",
       "    .dataframe tbody tr th {\n",
       "        vertical-align: top;\n",
       "    }\n",
       "\n",
       "    .dataframe thead th {\n",
       "        text-align: right;\n",
       "    }\n",
       "</style>\n",
       "<table border=\"1\" class=\"dataframe\">\n",
       "  <thead>\n",
       "    <tr style=\"text-align: right;\">\n",
       "      <th></th>\n",
       "      <th>Month</th>\n",
       "      <th>Passengers</th>\n",
       "    </tr>\n",
       "  </thead>\n",
       "  <tbody>\n",
       "    <tr>\n",
       "      <th>0</th>\n",
       "      <td>1949-01</td>\n",
       "      <td>112</td>\n",
       "    </tr>\n",
       "    <tr>\n",
       "      <th>1</th>\n",
       "      <td>1949-02</td>\n",
       "      <td>118</td>\n",
       "    </tr>\n",
       "    <tr>\n",
       "      <th>2</th>\n",
       "      <td>1949-03</td>\n",
       "      <td>132</td>\n",
       "    </tr>\n",
       "    <tr>\n",
       "      <th>3</th>\n",
       "      <td>1949-04</td>\n",
       "      <td>129</td>\n",
       "    </tr>\n",
       "    <tr>\n",
       "      <th>4</th>\n",
       "      <td>1949-05</td>\n",
       "      <td>121</td>\n",
       "    </tr>\n",
       "    <tr>\n",
       "      <th>...</th>\n",
       "      <td>...</td>\n",
       "      <td>...</td>\n",
       "    </tr>\n",
       "    <tr>\n",
       "      <th>139</th>\n",
       "      <td>1960-08</td>\n",
       "      <td>606</td>\n",
       "    </tr>\n",
       "    <tr>\n",
       "      <th>140</th>\n",
       "      <td>1960-09</td>\n",
       "      <td>508</td>\n",
       "    </tr>\n",
       "    <tr>\n",
       "      <th>141</th>\n",
       "      <td>1960-10</td>\n",
       "      <td>461</td>\n",
       "    </tr>\n",
       "    <tr>\n",
       "      <th>142</th>\n",
       "      <td>1960-11</td>\n",
       "      <td>390</td>\n",
       "    </tr>\n",
       "    <tr>\n",
       "      <th>143</th>\n",
       "      <td>1960-12</td>\n",
       "      <td>432</td>\n",
       "    </tr>\n",
       "  </tbody>\n",
       "</table>\n",
       "<p>144 rows × 2 columns</p>\n",
       "</div>"
      ],
      "text/plain": [
       "       Month  Passengers\n",
       "0    1949-01         112\n",
       "1    1949-02         118\n",
       "2    1949-03         132\n",
       "3    1949-04         129\n",
       "4    1949-05         121\n",
       "..       ...         ...\n",
       "139  1960-08         606\n",
       "140  1960-09         508\n",
       "141  1960-10         461\n",
       "142  1960-11         390\n",
       "143  1960-12         432\n",
       "\n",
       "[144 rows x 2 columns]"
      ]
     },
     "execution_count": 69,
     "metadata": {},
     "output_type": "execute_result"
    }
   ],
   "source": [
    "passengers"
   ]
  },
  {
   "cell_type": "code",
   "execution_count": 70,
   "id": "657ce482",
   "metadata": {},
   "outputs": [
    {
     "data": {
      "text/plain": [
       "[<matplotlib.lines.Line2D at 0x2cff4c1d4e0>]"
      ]
     },
     "execution_count": 70,
     "metadata": {},
     "output_type": "execute_result"
    },
    {
     "data": {
      "image/png": "[encoded data removed]",
      "text/plain": [
       "<Figure size 640x480 with 1 Axes>"
      ]
     },
     "metadata": {},
     "output_type": "display_data"
    }
   ],
   "source": [
    "plt.plot(passengers.Month, passengers.Passengers)"
   ]
  },
  {
   "cell_type": "markdown",
   "id": "2cade3f6",
   "metadata": {},
   "source": [
    "# Namaz Break 7:10pm"
   ]
  },
  {
   "cell_type": "code",
   "execution_count": null,
   "id": "cf4f79d1",
   "metadata": {},
   "outputs": [],
   "source": []
  }
 ],
 "metadata": {
  "kernelspec": {
   "display_name": "Python 3 (ipykernel)",
   "language": "python",
   "name": "python3"
  },
  "language_info": {
   "codemirror_mode": {
    "name": "ipython",
    "version": 3
   },
   "file_extension": ".py",
   "mimetype": "text/x-python",
   "name": "python",
   "nbconvert_exporter": "python",
   "pygments_lexer": "ipython3",
   "version": "3.10.9"
  }
 },
 "nbformat": 4,
 "nbformat_minor": 5
}
