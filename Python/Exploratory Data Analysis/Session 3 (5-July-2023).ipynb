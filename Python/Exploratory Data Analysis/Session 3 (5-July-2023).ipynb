{
 "cells": [
  {
   "cell_type": "markdown",
   "id": "1281d6ee",
   "metadata": {},
   "source": [
    "# Revision of if else and elif"
   ]
  },
  {
   "cell_type": "raw",
   "id": "434f0bac",
   "metadata": {},
   "source": [
    "1) A company decided to give bonus of 5% to employee if his/her year of service is more than 5 years,10% to employee if his/her year of service is more than 10 years,15% to employee if his/her year of service is more than 15 years,20% to employee if his/her year of service is more than 20 years.\n",
    "Ask user for their salary and year of service and print the net bonus amount."
   ]
  },
  {
   "cell_type": "code",
   "execution_count": 1,
   "id": "4d21e023",
   "metadata": {},
   "outputs": [
    {
     "name": "stdout",
     "output_type": "stream",
     "text": [
      "Enter your current salary: 68000\n",
      "Enter your total year of service:5\n",
      "Your bonus amount is 6800.0\n"
     ]
    }
   ],
   "source": [
    "bonus_amount = 0 \n",
    "current_salary = float(input(\"Enter your current salary: \"))\n",
    "service_years = float(input(\"Enter your total year of service:\"))\n",
    "if service_years > 10:bonus_amount = current_salary* .20    \n",
    "elif service_years>5:bonus_amount = current_salary * 0.15\n",
    "elif service_years>3:bonus_amount = current_salary * 0.10\n",
    "elif service_years>2:bonus_amount = current_salary*0.05\n",
    "else:bonus_amount = current_salary*0\n",
    "\n",
    "print(f\"Your bonus amount is {bonus_amount}\" )"
   ]
  },
  {
   "cell_type": "markdown",
   "id": "d1ecf0d2",
   "metadata": {},
   "source": [
    "# Todays Topic\n",
    "   - nested ifs \n",
    "   - Collections (Python Data structures)\n",
    "         - list \n",
    "         - tuple\n",
    "         - dictionaries \n",
    "         - set "
   ]
  },
  {
   "cell_type": "code",
   "execution_count": 2,
   "id": "6da7409d",
   "metadata": {},
   "outputs": [],
   "source": [
    "# a student is declared pass only if he passes all the papers "
   ]
  },
  {
   "cell_type": "code",
   "execution_count": 3,
   "id": "48ad17eb",
   "metadata": {},
   "outputs": [
    {
     "name": "stdout",
     "output_type": "stream",
     "text": [
      "Enter marks in paper1: 80\n",
      "Enter marks in paper2: 70\n",
      "Enter marks in paper3: 90\n",
      "Enter marks in paper4: 85\n",
      "Enter marks in paper5: 90\n",
      "Pass\n"
     ]
    }
   ],
   "source": [
    "paper1 = float(input(\"Enter marks in paper1: \"))\n",
    "paper2 = float(input(\"Enter marks in paper2: \"))\n",
    "paper3 = float(input(\"Enter marks in paper3: \"))\n",
    "paper4 = float(input(\"Enter marks in paper4: \"))\n",
    "paper5 = float(input(\"Enter marks in paper5: \"))\n",
    "\n",
    "if paper1 >=50:\n",
    "    if paper2>=50:\n",
    "        if paper3>=50:\n",
    "            if paper4>=50:\n",
    "                if paper5>=50:\n",
    "                    result = \"Pass\"\n",
    "                else:\n",
    "                    result=\"Fails\"\n",
    "            else:\n",
    "                result=\"Fails\"\n",
    "        else:\n",
    "            result=\"Fails\"\n",
    "    else:\n",
    "        result=\"Fails\"        \n",
    "else:\n",
    "    result=\"Fails\"\n",
    "\n",
    "print(result)"
   ]
  },
  {
   "cell_type": "code",
   "execution_count": 4,
   "id": "f6883f1b",
   "metadata": {},
   "outputs": [
    {
     "data": {
      "text/plain": [
       "'Pass'"
      ]
     },
     "execution_count": 4,
     "metadata": {},
     "output_type": "execute_result"
    }
   ],
   "source": [
    "result"
   ]
  },
  {
   "cell_type": "code",
   "execution_count": 5,
   "id": "b2e10aea",
   "metadata": {},
   "outputs": [
    {
     "name": "stdout",
     "output_type": "stream",
     "text": [
      "Tell me your age: 29\n",
      "Do you have a valid CNIC? Yes\n",
      "is your name in list? yes\n",
      "Elibigle for vote\n"
     ]
    }
   ],
   "source": [
    "# a person can caste vote if and only if he has a valid CNIC, and age is grater than or \n",
    "# equal to 18\n",
    "# and his name must be in voter list\n",
    "\n",
    "age  = int(input(\"Tell me your age: \"))\n",
    "if age >=18:\n",
    "    \n",
    "    cnic = input(\"Do you have a valid CNIC? \").lower()   \n",
    "    if cnic == \"yes\":\n",
    "        \n",
    "        name_in_list = input(\"is your name in list? \").lower()        \n",
    "        if name_in_list == \"yes\":\n",
    "            \n",
    "            status = \"Elibigle for vote\"\n",
    "        \n",
    "        else:\n",
    "            status = \"Not eligible for vote\"\n",
    "    else:\n",
    "        status = \"Not eligible for vote\"\n",
    "else:\n",
    "    status = \"Not eligible for vote\"\n",
    "print(status)"
   ]
  },
  {
   "cell_type": "code",
   "execution_count": 6,
   "id": "2e8b4f60",
   "metadata": {},
   "outputs": [
    {
     "data": {
      "text/plain": [
       "'Elibigle for vote'"
      ]
     },
     "execution_count": 6,
     "metadata": {},
     "output_type": "execute_result"
    }
   ],
   "source": [
    "status"
   ]
  },
  {
   "cell_type": "markdown",
   "id": "e341955f",
   "metadata": {},
   "source": [
    "# Python Collections (Python Data Structures)\n",
    "\n",
    "   - list\n",
    "   - tuple\n",
    "   - dictionary\n",
    "   - set\n",
    "   "
   ]
  },
  {
   "cell_type": "code",
   "execution_count": 7,
   "id": "db2ca9f9",
   "metadata": {},
   "outputs": [],
   "source": [
    "marks =34"
   ]
  },
  {
   "cell_type": "code",
   "execution_count": 8,
   "id": "36556e70",
   "metadata": {},
   "outputs": [],
   "source": [
    "name = \"Nasir\""
   ]
  },
  {
   "cell_type": "markdown",
   "id": "ab56e168",
   "metadata": {},
   "source": [
    "# List\n",
    "    representation > [  ]"
   ]
  },
  {
   "cell_type": "code",
   "execution_count": 9,
   "id": "7b91eb9e",
   "metadata": {},
   "outputs": [],
   "source": [
    "# list of string values\n",
    "students  = [\"nasir\", \"ahmed\", 'ali',\"asad\", \"asif\", \"kahan\"]"
   ]
  },
  {
   "cell_type": "code",
   "execution_count": 10,
   "id": "0d42b022",
   "metadata": {},
   "outputs": [
    {
     "data": {
      "text/plain": [
       "['nasir', 'ahmed', 'ali', 'asad', 'asif', 'kahan']"
      ]
     },
     "execution_count": 10,
     "metadata": {},
     "output_type": "execute_result"
    }
   ],
   "source": [
    "students"
   ]
  },
  {
   "cell_type": "code",
   "execution_count": 11,
   "id": "4a837dfb",
   "metadata": {},
   "outputs": [
    {
     "data": {
      "text/plain": [
       "[56, 78, 89, 98, 67, 78, 90, 98, 78]"
      ]
     },
     "execution_count": 11,
     "metadata": {},
     "output_type": "execute_result"
    }
   ],
   "source": [
    "# list of numeric values \n",
    "marks = [56,78,89,98,67,78,90,98,78]\n",
    "marks"
   ]
  },
  {
   "cell_type": "code",
   "execution_count": 12,
   "id": "ef8352e2",
   "metadata": {},
   "outputs": [
    {
     "data": {
      "text/plain": [
       "[23, 34, 'Asad', 'Baber', True, False, 45.6]"
      ]
     },
     "execution_count": 12,
     "metadata": {},
     "output_type": "execute_result"
    }
   ],
   "source": [
    "# list of mix values\n",
    "misc_list = [23, 34, \"Asad\", \"Baber\", True , False, 45.6]\n",
    "misc_list"
   ]
  },
  {
   "cell_type": "code",
   "execution_count": 13,
   "id": "d809d558",
   "metadata": {},
   "outputs": [],
   "source": [
    "empty_list = []"
   ]
  },
  {
   "cell_type": "code",
   "execution_count": 14,
   "id": "58c5cb1a",
   "metadata": {},
   "outputs": [
    {
     "name": "stdout",
     "output_type": "stream",
     "text": [
      "<class 'list'>\n"
     ]
    }
   ],
   "source": [
    "print(type(misc_list))"
   ]
  },
  {
   "cell_type": "markdown",
   "id": "a57ea868",
   "metadata": {},
   "source": [
    "### List indices (Index)\n",
    "    list is an iterable object. Every iterable object has position or index or keys\n",
    "    iterables object are items that can be accesses individually. \n",
    "    Every collection is iterable onbject."
   ]
  },
  {
   "cell_type": "code",
   "execution_count": 15,
   "id": "fc1f55b6",
   "metadata": {},
   "outputs": [],
   "source": [
    "students  = [\"nasir\", \"ahmed\", 'ali',\"asad\", \"asif\", \"khan\"]\n",
    "# index        0         1       2    3       4        5\n",
    "# left to right"
   ]
  },
  {
   "cell_type": "code",
   "execution_count": 16,
   "id": "13fb461c",
   "metadata": {},
   "outputs": [
    {
     "data": {
      "text/plain": [
       "'ali'"
      ]
     },
     "execution_count": 16,
     "metadata": {},
     "output_type": "execute_result"
    }
   ],
   "source": [
    "students[2]"
   ]
  },
  {
   "cell_type": "code",
   "execution_count": 17,
   "id": "7dd57959",
   "metadata": {},
   "outputs": [
    {
     "data": {
      "text/plain": [
       "'khan'"
      ]
     },
     "execution_count": 17,
     "metadata": {},
     "output_type": "execute_result"
    }
   ],
   "source": [
    "students[5]"
   ]
  },
  {
   "cell_type": "code",
   "execution_count": 18,
   "id": "37a4f7ee",
   "metadata": {},
   "outputs": [],
   "source": [
    "students  = [\"nasir\", \"ahmed\", 'ali',\"asad\", \"asif\", \"khan\"]\n",
    "# index        -6       -5       -4    -3      -2      -1  \n",
    "# right to left"
   ]
  },
  {
   "cell_type": "code",
   "execution_count": 19,
   "id": "d50bf17f",
   "metadata": {},
   "outputs": [
    {
     "data": {
      "text/plain": [
       "'asad'"
      ]
     },
     "execution_count": 19,
     "metadata": {},
     "output_type": "execute_result"
    }
   ],
   "source": [
    "students[-3]"
   ]
  },
  {
   "cell_type": "code",
   "execution_count": 20,
   "id": "c8082acd",
   "metadata": {},
   "outputs": [
    {
     "data": {
      "text/plain": [
       "'asad'"
      ]
     },
     "execution_count": 20,
     "metadata": {},
     "output_type": "execute_result"
    }
   ],
   "source": [
    "students[3]"
   ]
  },
  {
   "cell_type": "markdown",
   "id": "d84e0650",
   "metadata": {},
   "source": [
    "#### Adding and removing members from existing list\n",
    "    - del \n",
    "    - remove()\n",
    "    - pop()\n",
    "    \n",
    "    - append() to add \n",
    "    - extend()\n",
    "    - + \n",
    "    - insert()"
   ]
  },
  {
   "cell_type": "code",
   "execution_count": 21,
   "id": "29321878",
   "metadata": {},
   "outputs": [
    {
     "data": {
      "text/plain": [
       "['nasir', 'ahmed', 'ali', 'asad', 'asif', 'khan']"
      ]
     },
     "execution_count": 21,
     "metadata": {},
     "output_type": "execute_result"
    }
   ],
   "source": [
    "students"
   ]
  },
  {
   "cell_type": "code",
   "execution_count": 22,
   "id": "d49aff26",
   "metadata": {},
   "outputs": [
    {
     "data": {
      "text/plain": [
       "['nasir', 'ahmed', 'ali', 'asad', 'khan']"
      ]
     },
     "execution_count": 22,
     "metadata": {},
     "output_type": "execute_result"
    }
   ],
   "source": [
    "# del removes a value by using index permanently\n",
    "del students[4]\n",
    "students"
   ]
  },
  {
   "cell_type": "code",
   "execution_count": 23,
   "id": "e96a2166",
   "metadata": {},
   "outputs": [
    {
     "data": {
      "text/plain": [
       "['nasir', 'ahmed', 'asad', 'khan']"
      ]
     },
     "execution_count": 23,
     "metadata": {},
     "output_type": "execute_result"
    }
   ],
   "source": [
    "# remove() removes a value by using value NOT by index\n",
    "students.remove(\"ali\")\n",
    "students"
   ]
  },
  {
   "cell_type": "code",
   "execution_count": 24,
   "id": "d4e1a9ee",
   "metadata": {},
   "outputs": [
    {
     "data": {
      "text/plain": [
       "'khan'"
      ]
     },
     "execution_count": 24,
     "metadata": {},
     "output_type": "execute_result"
    }
   ],
   "source": [
    "# pop also removes value by index but by default it removes last index permanently\n",
    "# whatever is removed by pop(). it throws back the removed value to store or not to sotre\n",
    "students.pop()"
   ]
  },
  {
   "cell_type": "code",
   "execution_count": 25,
   "id": "60edc544",
   "metadata": {},
   "outputs": [
    {
     "data": {
      "text/plain": [
       "['nasir', 'ahmed', 'asad']"
      ]
     },
     "execution_count": 25,
     "metadata": {},
     "output_type": "execute_result"
    }
   ],
   "source": [
    "students"
   ]
  },
  {
   "cell_type": "code",
   "execution_count": 26,
   "id": "226892b5",
   "metadata": {},
   "outputs": [
    {
     "name": "stdout",
     "output_type": "stream",
     "text": [
      "['nasir', 'ahmed']\n",
      "asad\n"
     ]
    }
   ],
   "source": [
    "poppped_value = students.pop()\n",
    "print(students)\n",
    "print(poppped_value)"
   ]
  },
  {
   "cell_type": "code",
   "execution_count": 27,
   "id": "32863830",
   "metadata": {},
   "outputs": [
    {
     "data": {
      "text/plain": [
       "['ahmed']"
      ]
     },
     "execution_count": 27,
     "metadata": {},
     "output_type": "execute_result"
    }
   ],
   "source": [
    "# we can also provide index to pop()\n",
    "students.pop(0)\n",
    "students"
   ]
  },
  {
   "cell_type": "code",
   "execution_count": 28,
   "id": "8437c754",
   "metadata": {},
   "outputs": [
    {
     "data": {
      "text/plain": [
       "[56, 78, 89, 98, 67, 78, 90, 98, 78]"
      ]
     },
     "execution_count": 28,
     "metadata": {},
     "output_type": "execute_result"
    }
   ],
   "source": [
    "marks"
   ]
  },
  {
   "cell_type": "code",
   "execution_count": 29,
   "id": "bd61e69c",
   "metadata": {},
   "outputs": [],
   "source": [
    "# clear removes or deletes all values in one go permanently \n",
    "marks.clear()"
   ]
  },
  {
   "cell_type": "code",
   "execution_count": 30,
   "id": "021eca56",
   "metadata": {},
   "outputs": [
    {
     "data": {
      "text/plain": [
       "[]"
      ]
     },
     "execution_count": 30,
     "metadata": {},
     "output_type": "execute_result"
    }
   ],
   "source": [
    "marks"
   ]
  },
  {
   "cell_type": "code",
   "execution_count": 31,
   "id": "cb9db965",
   "metadata": {},
   "outputs": [
    {
     "data": {
      "text/plain": [
       "['ahmed']"
      ]
     },
     "execution_count": 31,
     "metadata": {},
     "output_type": "execute_result"
    }
   ],
   "source": [
    "students"
   ]
  },
  {
   "cell_type": "code",
   "execution_count": 32,
   "id": "fa692a05",
   "metadata": {},
   "outputs": [
    {
     "data": {
      "text/plain": [
       "['ahmed', 'Kashif']"
      ]
     },
     "execution_count": 32,
     "metadata": {},
     "output_type": "execute_result"
    }
   ],
   "source": [
    "# append() appends the value in the last of the list. It appends only one value at a time. \n",
    "students.append(\"Kashif\")\n",
    "students"
   ]
  },
  {
   "cell_type": "code",
   "execution_count": 33,
   "id": "43010e60",
   "metadata": {},
   "outputs": [],
   "source": [
    "students.append(\"Aslam\")"
   ]
  },
  {
   "cell_type": "code",
   "execution_count": 34,
   "id": "6c62d52b",
   "metadata": {},
   "outputs": [
    {
     "data": {
      "text/plain": [
       "['ahmed', 'Kashif', 'Aslam']"
      ]
     },
     "execution_count": 34,
     "metadata": {},
     "output_type": "execute_result"
    }
   ],
   "source": [
    "students"
   ]
  },
  {
   "cell_type": "code",
   "execution_count": 35,
   "id": "a9c23401",
   "metadata": {},
   "outputs": [
    {
     "data": {
      "text/plain": [
       "['ahmed', 'Kashif', 'Aslam', 'Faisal']"
      ]
     },
     "execution_count": 35,
     "metadata": {},
     "output_type": "execute_result"
    }
   ],
   "source": [
    "# insert adds value in the list on provided index position\n",
    "students.insert(3, \"Faisal\")\n",
    "students"
   ]
  },
  {
   "cell_type": "code",
   "execution_count": 36,
   "id": "a88b93e4",
   "metadata": {},
   "outputs": [
    {
     "data": {
      "text/plain": [
       "['yasir', 'ahmed', 'Kashif', 'Aslam', 'Faisal']"
      ]
     },
     "execution_count": 36,
     "metadata": {},
     "output_type": "execute_result"
    }
   ],
   "source": [
    "students.insert(0, \"yasir\")\n",
    "students"
   ]
  },
  {
   "cell_type": "code",
   "execution_count": 37,
   "id": "f3c0a380",
   "metadata": {},
   "outputs": [
    {
     "data": {
      "text/plain": [
       "['yasir', 'ahmed', 'Kashif', 'Aslam', 'Faisal']"
      ]
     },
     "execution_count": 37,
     "metadata": {},
     "output_type": "execute_result"
    }
   ],
   "source": [
    "students"
   ]
  },
  {
   "cell_type": "code",
   "execution_count": 38,
   "id": "a886e4ab",
   "metadata": {},
   "outputs": [],
   "source": [
    "teachers = [\"hasan\", \"umer\", 'farhan']"
   ]
  },
  {
   "cell_type": "code",
   "execution_count": 39,
   "id": "af6a8b69",
   "metadata": {},
   "outputs": [],
   "source": [
    "# appending a list into a list will add the whole list as a one members.  \n",
    "students.append(teachers)"
   ]
  },
  {
   "cell_type": "code",
   "execution_count": 40,
   "id": "ca33b54b",
   "metadata": {},
   "outputs": [
    {
     "data": {
      "text/plain": [
       "['yasir', 'ahmed', 'Kashif', 'Aslam', 'Faisal', ['hasan', 'umer', 'farhan']]"
      ]
     },
     "execution_count": 40,
     "metadata": {},
     "output_type": "execute_result"
    }
   ],
   "source": [
    "students"
   ]
  },
  {
   "cell_type": "code",
   "execution_count": 41,
   "id": "07db3087",
   "metadata": {},
   "outputs": [
    {
     "data": {
      "text/plain": [
       "['yasir', 'ahmed', 'Kashif', 'Aslam', 'Faisal']"
      ]
     },
     "execution_count": 41,
     "metadata": {},
     "output_type": "execute_result"
    }
   ],
   "source": [
    "del students[-1]\n",
    "students"
   ]
  },
  {
   "cell_type": "code",
   "execution_count": 42,
   "id": "86264393",
   "metadata": {},
   "outputs": [
    {
     "data": {
      "text/plain": [
       "['yasir', 'ahmed', 'Kashif', 'Aslam', 'Faisal', 'hasan', 'umer', 'farhan']"
      ]
     },
     "execution_count": 42,
     "metadata": {},
     "output_type": "execute_result"
    }
   ],
   "source": [
    "# extending  a list into a list will add the whole list members one by one as individual members.  \n",
    "students.extend(teachers)\n",
    "students"
   ]
  },
  {
   "cell_type": "code",
   "execution_count": 43,
   "id": "b8a2daa9",
   "metadata": {},
   "outputs": [
    {
     "data": {
      "text/plain": [
       "['yasir',\n",
       " 'ahmed',\n",
       " 'Kashif',\n",
       " 'Aslam',\n",
       " 'Faisal',\n",
       " 'hasan',\n",
       " 'umer',\n",
       " 'farhan',\n",
       " 'hasan',\n",
       " 'umer',\n",
       " 'farhan']"
      ]
     },
     "execution_count": 43,
     "metadata": {},
     "output_type": "execute_result"
    }
   ],
   "source": [
    "# ADDING + TWO list will work likes extend function. extending  a list into a list will add \n",
    "#the whole list members one by one as individual members.\n",
    "students + teachers"
   ]
  },
  {
   "cell_type": "code",
   "execution_count": 44,
   "id": "2c7616c5",
   "metadata": {},
   "outputs": [
    {
     "data": {
      "text/plain": [
       "8"
      ]
     },
     "execution_count": 44,
     "metadata": {},
     "output_type": "execute_result"
    }
   ],
   "source": [
    "len(students)"
   ]
  },
  {
   "cell_type": "code",
   "execution_count": 45,
   "id": "6d765209",
   "metadata": {},
   "outputs": [
    {
     "data": {
      "text/plain": [
       "8"
      ]
     },
     "execution_count": 45,
     "metadata": {},
     "output_type": "execute_result"
    }
   ],
   "source": [
    "len(\"Pakistan\")"
   ]
  },
  {
   "cell_type": "code",
   "execution_count": 46,
   "id": "4fa76647",
   "metadata": {},
   "outputs": [
    {
     "data": {
      "text/plain": [
       "['yasir', 'ahmed', 'Kashif', 'Aslam', 'Faisal', 'hasan', 'umer', 'farhan']"
      ]
     },
     "execution_count": 46,
     "metadata": {},
     "output_type": "execute_result"
    }
   ],
   "source": [
    "new_students = students.copy()\n",
    "new_students"
   ]
  },
  {
   "cell_type": "code",
   "execution_count": 47,
   "id": "5a6a297e",
   "metadata": {},
   "outputs": [
    {
     "data": {
      "text/plain": [
       "1"
      ]
     },
     "execution_count": 47,
     "metadata": {},
     "output_type": "execute_result"
    }
   ],
   "source": [
    "# return the occurence of a member in list\n",
    "students.count(\"Kashif\")"
   ]
  },
  {
   "cell_type": "code",
   "execution_count": 48,
   "id": "e725d466",
   "metadata": {},
   "outputs": [
    {
     "data": {
      "text/plain": [
       "5"
      ]
     },
     "execution_count": 48,
     "metadata": {},
     "output_type": "execute_result"
    }
   ],
   "source": [
    "# it returns the position of a memeber in list\n",
    "students.index('hasan')"
   ]
  },
  {
   "cell_type": "code",
   "execution_count": 49,
   "id": "e1a9c875",
   "metadata": {},
   "outputs": [],
   "source": [
    "# it reverse the list permanently in the memory(in memory)\n",
    "students.reverse()"
   ]
  },
  {
   "cell_type": "code",
   "execution_count": 50,
   "id": "c673c41b",
   "metadata": {},
   "outputs": [
    {
     "data": {
      "text/plain": [
       "['farhan', 'umer', 'hasan', 'Faisal', 'Aslam', 'Kashif', 'ahmed', 'yasir']"
      ]
     },
     "execution_count": 50,
     "metadata": {},
     "output_type": "execute_result"
    }
   ],
   "source": [
    "students"
   ]
  },
  {
   "cell_type": "code",
   "execution_count": 51,
   "id": "960772c7",
   "metadata": {},
   "outputs": [],
   "source": [
    "students.sort()"
   ]
  },
  {
   "cell_type": "code",
   "execution_count": 52,
   "id": "891df672",
   "metadata": {},
   "outputs": [
    {
     "data": {
      "text/plain": [
       "['Aslam', 'Faisal', 'Kashif', 'ahmed', 'farhan', 'hasan', 'umer', 'yasir']"
      ]
     },
     "execution_count": 52,
     "metadata": {},
     "output_type": "execute_result"
    }
   ],
   "source": [
    "students"
   ]
  },
  {
   "cell_type": "markdown",
   "id": "7775c18c",
   "metadata": {},
   "source": [
    "### Slicing a list \n",
    "    - it returns a copy of subset of list. "
   ]
  },
  {
   "cell_type": "code",
   "execution_count": 53,
   "id": "dddfe8af",
   "metadata": {},
   "outputs": [
    {
     "data": {
      "text/plain": [
       "['Aslam', 'Faisal', 'Kashif', 'ahmed', 'farhan', 'hasan', 'umer', 'yasir']"
      ]
     },
     "execution_count": 53,
     "metadata": {},
     "output_type": "execute_result"
    }
   ],
   "source": [
    "students"
   ]
  },
  {
   "cell_type": "code",
   "execution_count": 54,
   "id": "3766ae38",
   "metadata": {},
   "outputs": [
    {
     "data": {
      "text/plain": [
       "['farhan', 'hasan', 'umer', 'yasir']"
      ]
     },
     "execution_count": 54,
     "metadata": {},
     "output_type": "execute_result"
    }
   ],
   "source": [
    "students[4:8]  # actual me 7 tak slice hoga"
   ]
  },
  {
   "cell_type": "code",
   "execution_count": 55,
   "id": "c301f687",
   "metadata": {},
   "outputs": [
    {
     "data": {
      "text/plain": [
       "['yasir']"
      ]
     },
     "execution_count": 55,
     "metadata": {},
     "output_type": "execute_result"
    }
   ],
   "source": [
    "students[7:10]"
   ]
  },
  {
   "cell_type": "code",
   "execution_count": 56,
   "id": "ecfbab5f",
   "metadata": {},
   "outputs": [
    {
     "data": {
      "text/plain": [
       "['Aslam', 'Faisal', 'Kashif', 'ahmed', 'farhan', 'hasan']"
      ]
     },
     "execution_count": 56,
     "metadata": {},
     "output_type": "execute_result"
    }
   ],
   "source": [
    "students[:6]# it start from 0 index"
   ]
  },
  {
   "cell_type": "code",
   "execution_count": 57,
   "id": "676421f0",
   "metadata": {},
   "outputs": [
    {
     "data": {
      "text/plain": [
       "['ahmed', 'farhan', 'hasan', 'umer', 'yasir']"
      ]
     },
     "execution_count": 57,
     "metadata": {},
     "output_type": "execute_result"
    }
   ],
   "source": [
    "students[3:] # it ends at vert last index "
   ]
  },
  {
   "cell_type": "code",
   "execution_count": 58,
   "id": "fbe30ab5",
   "metadata": {},
   "outputs": [],
   "source": [
    "copy_list  = students[:] # which is parallel to copy()"
   ]
  },
  {
   "cell_type": "code",
   "execution_count": 59,
   "id": "cad12648",
   "metadata": {},
   "outputs": [
    {
     "data": {
      "text/plain": [
       "['Aslam', 'Faisal', 'Kashif', 'ahmed', 'farhan', 'hasan', 'umer', 'yasir']"
      ]
     },
     "execution_count": 59,
     "metadata": {},
     "output_type": "execute_result"
    }
   ],
   "source": [
    "copy_list"
   ]
  },
  {
   "cell_type": "code",
   "execution_count": 60,
   "id": "2761fe8d",
   "metadata": {},
   "outputs": [
    {
     "data": {
      "text/plain": [
       "['Aslam', 'Kashif', 'farhan', 'umer']"
      ]
     },
     "execution_count": 60,
     "metadata": {},
     "output_type": "execute_result"
    }
   ],
   "source": [
    "# important : by default slicing direction is left to right\n",
    "\n",
    "students[0:10:2]  # start:end:step"
   ]
  },
  {
   "cell_type": "code",
   "execution_count": 61,
   "id": "a38aac1a",
   "metadata": {},
   "outputs": [
    {
     "data": {
      "text/plain": [
       "['Aslam', 'ahmed', 'umer']"
      ]
     },
     "execution_count": 61,
     "metadata": {},
     "output_type": "execute_result"
    }
   ],
   "source": [
    "students[0:10:3]  # start:end:step"
   ]
  },
  {
   "cell_type": "code",
   "execution_count": 62,
   "id": "d869988b",
   "metadata": {},
   "outputs": [
    {
     "data": {
      "text/plain": [
       "[]"
      ]
     },
     "execution_count": 62,
     "metadata": {},
     "output_type": "execute_result"
    }
   ],
   "source": [
    "students[6:1]# right to left indexing not working. will not copy anything."
   ]
  },
  {
   "cell_type": "code",
   "execution_count": 63,
   "id": "e0b8473f",
   "metadata": {},
   "outputs": [
    {
     "data": {
      "text/plain": [
       "[]"
      ]
     },
     "execution_count": 63,
     "metadata": {},
     "output_type": "execute_result"
    }
   ],
   "source": [
    "students[2:-7]"
   ]
  },
  {
   "cell_type": "code",
   "execution_count": 64,
   "id": "2f9adc99",
   "metadata": {},
   "outputs": [
    {
     "data": {
      "text/plain": [
       "['farhan', 'hasan']"
      ]
     },
     "execution_count": 64,
     "metadata": {},
     "output_type": "execute_result"
    }
   ],
   "source": [
    "students[4:-2]"
   ]
  },
  {
   "cell_type": "code",
   "execution_count": 65,
   "id": "e61026bd",
   "metadata": {},
   "outputs": [
    {
     "data": {
      "text/plain": [
       "['Aslam', 'Faisal', 'Kashif', 'ahmed', 'farhan', 'hasan', 'umer', 'yasir']"
      ]
     },
     "execution_count": 65,
     "metadata": {},
     "output_type": "execute_result"
    }
   ],
   "source": [
    "students"
   ]
  },
  {
   "cell_type": "code",
   "execution_count": 66,
   "id": "c8f66535",
   "metadata": {},
   "outputs": [
    {
     "data": {
      "text/plain": [
       "[]"
      ]
     },
     "execution_count": 66,
     "metadata": {},
     "output_type": "execute_result"
    }
   ],
   "source": [
    "students[-1:3]"
   ]
  },
  {
   "cell_type": "code",
   "execution_count": 67,
   "id": "321cf42b",
   "metadata": {},
   "outputs": [
    {
     "data": {
      "text/plain": [
       "['yasir', 'umer', 'hasan', 'farhan']"
      ]
     },
     "execution_count": 67,
     "metadata": {},
     "output_type": "execute_result"
    }
   ],
   "source": [
    "students[-1:3:-1]"
   ]
  },
  {
   "cell_type": "code",
   "execution_count": 68,
   "id": "020eb562",
   "metadata": {},
   "outputs": [
    {
     "data": {
      "text/plain": [
       "['Aslam', 'Faisal', 'Kashif', 'ahmed', 'farhan', 'hasan', 'umer', 'yasir']"
      ]
     },
     "execution_count": 68,
     "metadata": {},
     "output_type": "execute_result"
    }
   ],
   "source": [
    "students"
   ]
  },
  {
   "cell_type": "code",
   "execution_count": 69,
   "id": "09c45691",
   "metadata": {},
   "outputs": [
    {
     "data": {
      "text/plain": [
       "['yasir', 'umer', 'hasan', 'farhan', 'ahmed', 'Kashif', 'Faisal', 'Aslam']"
      ]
     },
     "execution_count": 69,
     "metadata": {},
     "output_type": "execute_result"
    }
   ],
   "source": [
    "students[::-1]"
   ]
  },
  {
   "cell_type": "code",
   "execution_count": null,
   "id": "7045abd6",
   "metadata": {},
   "outputs": [],
   "source": []
  },
  {
   "cell_type": "code",
   "execution_count": null,
   "id": "17d59365",
   "metadata": {},
   "outputs": [],
   "source": []
  },
  {
   "cell_type": "code",
   "execution_count": null,
   "id": "74815c8f",
   "metadata": {},
   "outputs": [],
   "source": []
  }
 ],
 "metadata": {
  "kernelspec": {
   "display_name": "Python 3 (ipykernel)",
   "language": "python",
   "name": "python3"
  },
  "language_info": {
   "codemirror_mode": {
    "name": "ipython",
    "version": 3
   },
   "file_extension": ".py",
   "mimetype": "text/x-python",
   "name": "python",
   "nbconvert_exporter": "python",
   "pygments_lexer": "ipython3",
   "version": "3.10.9"
  }
 },
 "nbformat": 4,
 "nbformat_minor": 5
}
