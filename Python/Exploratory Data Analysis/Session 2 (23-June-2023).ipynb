{
 "cells": [
  {
   "cell_type": "markdown",
   "id": "c2e4b8d6",
   "metadata": {},
   "source": [
    "# Todays Topics\n",
    "    - String and its use cases and string built in functionalities\n",
    "    - User input \n",
    "    - String Concatenation, String formation \n",
    "    - type casting\n",
    "    - if else\n",
    "    - multiple if else elif "
   ]
  },
  {
   "cell_type": "markdown",
   "id": "125e9e74",
   "metadata": {},
   "source": [
    "# Python String \n",
    "     - A python string data can be a character , word, sentence, paragraph\n",
    "     - Any thing that is placed inside quoatation marks will behave as string.\n",
    "     - String a immutable. Unchangeable.\n",
    "     "
   ]
  },
  {
   "cell_type": "code",
   "execution_count": 1,
   "id": "bb4b46b6",
   "metadata": {},
   "outputs": [],
   "source": [
    "# defining a string variable \n",
    "\n",
    "course  = \"data analytics using python\""
   ]
  },
  {
   "cell_type": "code",
   "execution_count": 2,
   "id": "fcc5fda0",
   "metadata": {},
   "outputs": [
    {
     "name": "stdout",
     "output_type": "stream",
     "text": [
      "<class 'str'>\n"
     ]
    }
   ],
   "source": [
    "print(type(course))"
   ]
  },
  {
   "cell_type": "code",
   "execution_count": 3,
   "id": "5988df4b",
   "metadata": {},
   "outputs": [],
   "source": [
    "course  = \"python programming fundamentals\""
   ]
  },
  {
   "cell_type": "code",
   "execution_count": 4,
   "id": "d6325a84",
   "metadata": {},
   "outputs": [
    {
     "data": {
      "text/plain": [
       "'python programming fundamentals'"
      ]
     },
     "execution_count": 4,
     "metadata": {},
     "output_type": "execute_result"
    }
   ],
   "source": [
    "course"
   ]
  },
  {
   "cell_type": "code",
   "execution_count": 5,
   "id": "d07cb5e9",
   "metadata": {},
   "outputs": [
    {
     "data": {
      "text/plain": [
       "'PYTHON PROGRAMMING FUNDAMENTALS'"
      ]
     },
     "execution_count": 5,
     "metadata": {},
     "output_type": "execute_result"
    }
   ],
   "source": [
    "course.upper()"
   ]
  },
  {
   "cell_type": "code",
   "execution_count": 6,
   "id": "68987081",
   "metadata": {},
   "outputs": [
    {
     "data": {
      "text/plain": [
       "'python programming fundamentals'"
      ]
     },
     "execution_count": 6,
     "metadata": {},
     "output_type": "execute_result"
    }
   ],
   "source": [
    "course"
   ]
  },
  {
   "cell_type": "code",
   "execution_count": 7,
   "id": "8284e875",
   "metadata": {
    "scrolled": true
   },
   "outputs": [
    {
     "data": {
      "text/plain": [
       "'PYTHON PROGRAMMING FUNDAMENTALS'"
      ]
     },
     "execution_count": 7,
     "metadata": {},
     "output_type": "execute_result"
    }
   ],
   "source": [
    "upperCourse = course.upper()\n",
    "upperCourse"
   ]
  },
  {
   "cell_type": "code",
   "execution_count": 8,
   "id": "cccc0d72",
   "metadata": {},
   "outputs": [
    {
     "data": {
      "text/plain": [
       "'Python Programming Fundamentals'"
      ]
     },
     "execution_count": 8,
     "metadata": {},
     "output_type": "execute_result"
    }
   ],
   "source": [
    "course.title()"
   ]
  },
  {
   "cell_type": "code",
   "execution_count": 9,
   "id": "774687b7",
   "metadata": {},
   "outputs": [
    {
     "data": {
      "text/plain": [
       "3"
      ]
     },
     "execution_count": 9,
     "metadata": {},
     "output_type": "execute_result"
    }
   ],
   "source": [
    "course.count('a')"
   ]
  },
  {
   "cell_type": "code",
   "execution_count": 10,
   "id": "ffce5bc8",
   "metadata": {},
   "outputs": [
    {
     "data": {
      "text/plain": [
       "2"
      ]
     },
     "execution_count": 10,
     "metadata": {},
     "output_type": "execute_result"
    }
   ],
   "source": [
    "course.count('am')"
   ]
  },
  {
   "cell_type": "code",
   "execution_count": 11,
   "id": "0918dd58",
   "metadata": {},
   "outputs": [
    {
     "data": {
      "text/plain": [
       "2"
      ]
     },
     "execution_count": 11,
     "metadata": {},
     "output_type": "execute_result"
    }
   ],
   "source": [
    "course.count('p')"
   ]
  },
  {
   "cell_type": "code",
   "execution_count": 12,
   "id": "43d4374e",
   "metadata": {},
   "outputs": [
    {
     "data": {
      "text/plain": [
       "False"
      ]
     },
     "execution_count": 12,
     "metadata": {},
     "output_type": "execute_result"
    }
   ],
   "source": [
    "course.endswith(\"Z\")"
   ]
  },
  {
   "cell_type": "code",
   "execution_count": 13,
   "id": "98ec3426",
   "metadata": {},
   "outputs": [
    {
     "data": {
      "text/plain": [
       "True"
      ]
     },
     "execution_count": 13,
     "metadata": {},
     "output_type": "execute_result"
    }
   ],
   "source": [
    "course.endswith(\"s\")"
   ]
  },
  {
   "cell_type": "code",
   "execution_count": 14,
   "id": "dbde187f",
   "metadata": {},
   "outputs": [
    {
     "data": {
      "text/plain": [
       "False"
      ]
     },
     "execution_count": 14,
     "metadata": {},
     "output_type": "execute_result"
    }
   ],
   "source": [
    "course.startswith(\"P\")"
   ]
  },
  {
   "cell_type": "code",
   "execution_count": 15,
   "id": "802bffda",
   "metadata": {},
   "outputs": [
    {
     "data": {
      "text/plain": [
       "10"
      ]
     },
     "execution_count": 15,
     "metadata": {},
     "output_type": "execute_result"
    }
   ],
   "source": [
    "course.find(\"g\")"
   ]
  },
  {
   "cell_type": "code",
   "execution_count": 16,
   "id": "423c43db",
   "metadata": {},
   "outputs": [
    {
     "data": {
      "text/plain": [
       "-1"
      ]
     },
     "execution_count": 16,
     "metadata": {},
     "output_type": "execute_result"
    }
   ],
   "source": [
    "# if any character (substring) is not in string it will say -1\n",
    "course.find(\"hello\")"
   ]
  },
  {
   "cell_type": "code",
   "execution_count": 18,
   "id": "717a77d6",
   "metadata": {},
   "outputs": [],
   "source": [
    "# students = ['nasir', 'ali', 'aftab', 'faisal', 'Kashif']\n",
    "# for student in students:\n",
    "#     if student.endswith(\"b\"):\n",
    "#         print( \"email sent to \",student)\n",
    "#     else:\n",
    "#         print(\"email not sent to student\",student)"
   ]
  },
  {
   "cell_type": "markdown",
   "id": "e4c2e3f7",
   "metadata": {},
   "source": [
    "### String Concatenation"
   ]
  },
  {
   "cell_type": "code",
   "execution_count": 19,
   "id": "42cc11a4",
   "metadata": {},
   "outputs": [],
   "source": [
    "fname = \"Syed\"\n",
    "mname = \"Asif\"\n",
    "lname = 'Raza'"
   ]
  },
  {
   "cell_type": "code",
   "execution_count": 20,
   "id": "a3f8e3bc",
   "metadata": {},
   "outputs": [
    {
     "name": "stdout",
     "output_type": "stream",
     "text": [
      "SyedAsifRaza\n"
     ]
    },
    {
     "data": {
      "text/plain": [
       "12"
      ]
     },
     "execution_count": 20,
     "metadata": {},
     "output_type": "execute_result"
    }
   ],
   "source": [
    "fullname = fname + mname + lname \n",
    "print(fullname)\n",
    "len(fullname)"
   ]
  },
  {
   "cell_type": "code",
   "execution_count": 21,
   "id": "dd16f986",
   "metadata": {},
   "outputs": [
    {
     "name": "stdout",
     "output_type": "stream",
     "text": [
      "Syed Asif Raza\n"
     ]
    },
    {
     "data": {
      "text/plain": [
       "14"
      ]
     },
     "execution_count": 21,
     "metadata": {},
     "output_type": "execute_result"
    }
   ],
   "source": [
    "fullname = fname +\" \"+ mname +\" \"+ lname \n",
    "print(fullname)\n",
    "len(fullname)"
   ]
  },
  {
   "cell_type": "markdown",
   "id": "80d5b186",
   "metadata": {},
   "source": [
    "### String formation"
   ]
  },
  {
   "cell_type": "code",
   "execution_count": 22,
   "id": "c12cb0f4",
   "metadata": {},
   "outputs": [
    {
     "name": "stdout",
     "output_type": "stream",
     "text": [
      "My friends full name is Syed Asif Raza\n"
     ]
    }
   ],
   "source": [
    "print(\"My friends full name is {} {} {}\".format(fname,mname,lname))"
   ]
  },
  {
   "cell_type": "code",
   "execution_count": 23,
   "id": "c3bbc840",
   "metadata": {},
   "outputs": [
    {
     "name": "stdout",
     "output_type": "stream",
     "text": [
      "My friends full name is Syed Asif Raza\n"
     ]
    }
   ],
   "source": [
    "print(f\"My friends full name is {fname} {mname} {lname}\")"
   ]
  },
  {
   "cell_type": "markdown",
   "id": "ddcb39df",
   "metadata": {},
   "source": [
    "### User input"
   ]
  },
  {
   "cell_type": "code",
   "execution_count": 31,
   "id": "50115881",
   "metadata": {},
   "outputs": [
    {
     "name": "stdout",
     "output_type": "stream",
     "text": [
      "5\n"
     ]
    }
   ],
   "source": [
    "value  = input()\n",
    "# the value input via input function will \n",
    "#be stored in str type value"
   ]
  },
  {
   "cell_type": "code",
   "execution_count": 32,
   "id": "65ac4dbe",
   "metadata": {},
   "outputs": [
    {
     "data": {
      "text/plain": [
       "'5'"
      ]
     },
     "execution_count": 32,
     "metadata": {},
     "output_type": "execute_result"
    }
   ],
   "source": [
    "value"
   ]
  },
  {
   "cell_type": "code",
   "execution_count": 33,
   "id": "832c0ab8",
   "metadata": {},
   "outputs": [
    {
     "data": {
      "text/plain": [
       "str"
      ]
     },
     "execution_count": 33,
     "metadata": {},
     "output_type": "execute_result"
    }
   ],
   "source": [
    "type(value)"
   ]
  },
  {
   "cell_type": "code",
   "execution_count": 34,
   "id": "5ad9ff68",
   "metadata": {},
   "outputs": [
    {
     "data": {
      "text/plain": [
       "str"
      ]
     },
     "execution_count": 34,
     "metadata": {},
     "output_type": "execute_result"
    }
   ],
   "source": [
    "newValue = value\n",
    "type(newValue)"
   ]
  },
  {
   "cell_type": "code",
   "execution_count": 35,
   "id": "99fd7b1c",
   "metadata": {},
   "outputs": [
    {
     "data": {
      "text/plain": [
       "int"
      ]
     },
     "execution_count": 35,
     "metadata": {},
     "output_type": "execute_result"
    }
   ],
   "source": [
    "# Type casting > wrapping int on str\n",
    "newValue = int(value)\n",
    "type(newValue)"
   ]
  },
  {
   "cell_type": "code",
   "execution_count": 36,
   "id": "723a2baf",
   "metadata": {},
   "outputs": [
    {
     "name": "stdout",
     "output_type": "stream",
     "text": [
      "What is the price of item1?50\n",
      "What is the price of item12?100\n",
      "What is the price of item3?150\n",
      "What is the price of item4?200\n",
      "What is the price of item5?500\n",
      "50100150200500\n"
     ]
    }
   ],
   "source": [
    "item1_cost = input(\"What is the price of item1?\")\n",
    "item2_cost = input(\"What is the price of item12?\")\n",
    "item3_cost = input(\"What is the price of item3?\")\n",
    "item4_cost = input(\"What is the price of item4?\")\n",
    "item5_cost = input(\"What is the price of item5?\")\n",
    "\n",
    "total  = item1_cost+item2_cost+item3_cost+item4_cost+item5_cost\n",
    "print(total)"
   ]
  },
  {
   "cell_type": "code",
   "execution_count": 39,
   "id": "cdf35a21",
   "metadata": {},
   "outputs": [
    {
     "name": "stdout",
     "output_type": "stream",
     "text": [
      "What is the price of item1?100\n",
      "What is the price of item12?50\n",
      "What is the price of item3?150\n",
      "What is the price of item4?250\n",
      "What is the price of item5?22\n",
      "572\n"
     ]
    }
   ],
   "source": [
    "item1_cost = int(input(\"What is the price of item1?\"))\n",
    "item2_cost = int(input(\"What is the price of item12?\"))\n",
    "item3_cost = int(input(\"What is the price of item3?\"))\n",
    "item4_cost = int(input(\"What is the price of item4?\"))\n",
    "item5_cost = int(input(\"What is the price of item5?\"))\n",
    "\n",
    "total  = item1_cost+item2_cost+item3_cost+item4_cost+item5_cost\n",
    "print(total)"
   ]
  },
  {
   "cell_type": "code",
   "execution_count": 40,
   "id": "0507aee4",
   "metadata": {},
   "outputs": [],
   "source": [
    "name = 'Asad'\n",
    "age  = 20 "
   ]
  },
  {
   "cell_type": "code",
   "execution_count": 43,
   "id": "b9046b56",
   "metadata": {},
   "outputs": [
    {
     "ename": "TypeError",
     "evalue": "can only concatenate str (not \"int\") to str",
     "output_type": "error",
     "traceback": [
      "\u001b[1;31m---------------------------------------------------------------------------\u001b[0m",
      "\u001b[1;31mTypeError\u001b[0m                                 Traceback (most recent call last)",
      "Cell \u001b[1;32mIn[43], line 1\u001b[0m\n\u001b[1;32m----> 1\u001b[0m \u001b[38;5;28mprint\u001b[39m(\u001b[38;5;124;43m\"\u001b[39;49m\u001b[38;5;124;43mYour name is \u001b[39;49m\u001b[38;5;124;43m\"\u001b[39;49m\u001b[38;5;241;43m+\u001b[39;49m\u001b[43m \u001b[49m\u001b[43mname\u001b[49m\u001b[38;5;241;43m+\u001b[39;49m\u001b[43m \u001b[49m\u001b[38;5;124;43m\"\u001b[39;49m\u001b[38;5;124;43mand your age is \u001b[39;49m\u001b[38;5;124;43m\"\u001b[39;49m\u001b[38;5;241;43m+\u001b[39;49m\u001b[43m \u001b[49m\u001b[43m(\u001b[49m\u001b[43mage\u001b[49m\u001b[43m)\u001b[49m )\n",
      "\u001b[1;31mTypeError\u001b[0m: can only concatenate str (not \"int\") to str"
     ]
    }
   ],
   "source": [
    "print(\"Your name is \"+ name+ \"and your age is \"+ (age) )"
   ]
  },
  {
   "cell_type": "code",
   "execution_count": 44,
   "id": "a121fb98",
   "metadata": {},
   "outputs": [
    {
     "name": "stdout",
     "output_type": "stream",
     "text": [
      "Your name is Asadand your age is 20\n"
     ]
    }
   ],
   "source": [
    "print(\"Your name is \"+ name+ \"and your age is \"+ str(age) )"
   ]
  },
  {
   "cell_type": "markdown",
   "id": "2b997a20",
   "metadata": {},
   "source": [
    "# Conditions- Conditionals \n",
    "if statement"
   ]
  },
  {
   "cell_type": "code",
   "execution_count": 45,
   "id": "d82ec93f",
   "metadata": {},
   "outputs": [
    {
     "name": "stdout",
     "output_type": "stream",
     "text": [
      "B is greater than A\n",
      "B is greater than A\n",
      "B is greater than A\n",
      "B is greater than A\n",
      "B is greater than A\n",
      "B is greater than A\n",
      "B is greater than A\n",
      "B is greater than A\n"
     ]
    }
   ],
   "source": [
    "a  = 10 \n",
    "b = 20 \n",
    "\n",
    "if b > a:\n",
    "    # indenting\n",
    "    print('B is greater than A')\n",
    "    print('B is greater than A')\n",
    "    print('B is greater than A')\n",
    "    print('B is greater than A')\n",
    "    print('B is greater than A')\n",
    "    print('B is greater than A')\n",
    "    print('B is greater than A')\n",
    "    print('B is greater than A')\n",
    "    \n"
   ]
  },
  {
   "cell_type": "code",
   "execution_count": 47,
   "id": "c32aaf94",
   "metadata": {},
   "outputs": [
    {
     "name": "stdout",
     "output_type": "stream",
     "text": [
      "Enter your age: 29\n"
     ]
    }
   ],
   "source": [
    "user_age = int(input(\"Enter your age: \"))\n",
    "if user_age <=19:\n",
    "    print(\"You are a teenager you are not allowed\")"
   ]
  },
  {
   "cell_type": "markdown",
   "id": "302b780e",
   "metadata": {},
   "source": [
    "### Else"
   ]
  },
  {
   "cell_type": "code",
   "execution_count": 48,
   "id": "5a170b23",
   "metadata": {},
   "outputs": [
    {
     "name": "stdout",
     "output_type": "stream",
     "text": [
      "Enter your age: 29\n",
      "You are not a teenager you are allowed\n"
     ]
    }
   ],
   "source": [
    "user_age = int(input(\"Enter your age: \"))\n",
    "if user_age <=19:\n",
    "    print(\"You are a teenager you are not allowed\")\n",
    "else:\n",
    "    print(\"You are not a teenager you are allowed\")\n",
    "    "
   ]
  },
  {
   "cell_type": "code",
   "execution_count": 49,
   "id": "b7c61b51",
   "metadata": {},
   "outputs": [
    {
     "name": "stdout",
     "output_type": "stream",
     "text": [
      "What is the price per kg of Meat500\n",
      "Buy 5KG\n"
     ]
    }
   ],
   "source": [
    "price = int(input(\"What is the price per kg of Meat\"))\n",
    "if price <=1000:\n",
    "    print(\"Buy 5KG\")\n",
    "else:\n",
    "    print(\"Buy 3 KG\")"
   ]
  },
  {
   "cell_type": "code",
   "execution_count": 50,
   "id": "6e2d8f74",
   "metadata": {},
   "outputs": [
    {
     "name": "stdout",
     "output_type": "stream",
     "text": [
      "Do like black or white colorwhite\n",
      "You may be a doctor \n"
     ]
    }
   ],
   "source": [
    "color  = input(\"Do like black or white color\")\n",
    "if color == 'black':\n",
    "    print(\"You may be accountant\")\n",
    "else:\n",
    "    if color == \"white\":\n",
    "        print(\"You may be a doctor \")\n",
    "    else:\n",
    "        print(\"idont know what you are!\")\n",
    "    "
   ]
  },
  {
   "cell_type": "code",
   "execution_count": 51,
   "id": "53c11249",
   "metadata": {},
   "outputs": [
    {
     "name": "stdout",
     "output_type": "stream",
     "text": [
      "Do like black or white colorwhite\n",
      "You may be a doctor \n"
     ]
    }
   ],
   "source": [
    "color  = input(\"Do like black or white color\")\n",
    "if color == 'black':\n",
    "    print(\"You may be accountant\")\n",
    "elif color == \"white\":\n",
    "        print(\"You may be a doctor \")\n",
    "else:\n",
    "        print(\"idont know what you are!\")"
   ]
  },
  {
   "cell_type": "code",
   "execution_count": 52,
   "id": "acfad971",
   "metadata": {},
   "outputs": [
    {
     "name": "stdout",
     "output_type": "stream",
     "text": [
      "Do like black or white colorwhite\n",
      "You may be a doctor \n"
     ]
    }
   ],
   "source": [
    "color  = input(\"Do like black or white color\")\n",
    "if color == 'black':\n",
    "    print(\"You may be accountant\")\n",
    "elif color == \"white\":\n",
    "        print(\"You may be a doctor \")\n",
    "else:\n",
    "        print(\"idont know what you are!\")"
   ]
  },
  {
   "cell_type": "code",
   "execution_count": 53,
   "id": "e4ab7cbc",
   "metadata": {},
   "outputs": [
    {
     "name": "stdout",
     "output_type": "stream",
     "text": [
      "Do like black or white colorwhite\n",
      "You may be a doctor \n"
     ]
    }
   ],
   "source": [
    "color  = input(\"Do like black or white color\").lower()\n",
    "if color == 'black':\n",
    "    print(\"You may be accountant\")\n",
    "elif color == \"white\":\n",
    "        print(\"You may be a doctor \")\n",
    "else:\n",
    "        print(\"idont know what you are!\")"
   ]
  },
  {
   "cell_type": "code",
   "execution_count": 54,
   "id": "7446932b",
   "metadata": {},
   "outputs": [
    {
     "name": "stdout",
     "output_type": "stream",
     "text": [
      "Enter your python marks50\n",
      "Enter your data analytics marks50\n",
      "Enter your bi marks60\n",
      "Enter your excel marks70\n",
      "Enter your ml marks80\n",
      "Enter the total marks90\n",
      "Your grade is A*\n",
      "Your percentage is 344.44444444444446. \n"
     ]
    }
   ],
   "source": [
    "python = int(input(\"Enter your python marks\"))\n",
    "data = int(input(\"Enter your data analytics marks\"))\n",
    "bi =int(input(\"Enter your bi marks\"))\n",
    "excel =int(input(\"Enter your excel marks\"))\n",
    "ml =int(input(\"Enter your ml marks\"))\n",
    "total_obt = python+data+bi+excel+ml\n",
    "total = int(input(\"Enter the total marks\"))\n",
    "percentage  = total_obt/total*100\n",
    "if percentage >=90:\n",
    "    print(\"Your grade is A*\")\n",
    "elif percentage >=80:\n",
    "    print(\"Your grade is A\")\n",
    "elif percentage >=70:\n",
    "    print(\"Your grade is B\")\n",
    "elif percentage >=60:\n",
    "    print(\"Your grade is C\")\n",
    "elif percentage >=50:\n",
    "    print(\"Your grade is D\")\n",
    "else:\n",
    "    print(\"Fails\")\n",
    "print(f\"Your percentage is {percentage}. \")"
   ]
  },
  {
   "cell_type": "code",
   "execution_count": 55,
   "id": "c403b028",
   "metadata": {},
   "outputs": [],
   "source": [
    "a = 10 \n",
    "b= 20  # assignment "
   ]
  },
  {
   "cell_type": "code",
   "execution_count": 56,
   "id": "e486c8e6",
   "metadata": {},
   "outputs": [
    {
     "data": {
      "text/plain": [
       "20"
      ]
     },
     "execution_count": 56,
     "metadata": {},
     "output_type": "execute_result"
    }
   ],
   "source": [
    "a = b \n",
    "a"
   ]
  },
  {
   "cell_type": "code",
   "execution_count": 57,
   "id": "4dce9ccb",
   "metadata": {},
   "outputs": [
    {
     "data": {
      "text/plain": [
       "True"
      ]
     },
     "execution_count": 57,
     "metadata": {},
     "output_type": "execute_result"
    }
   ],
   "source": [
    "a==b  # equalto "
   ]
  },
  {
   "cell_type": "code",
   "execution_count": 58,
   "id": "3f37fff0",
   "metadata": {},
   "outputs": [
    {
     "name": "stdout",
     "output_type": "stream",
     "text": [
      "Enter students nameShoaib\n",
      "Enter courseData Analytics\n",
      "Enter institute nameSBIL\n",
      "Enter your python marks50\n",
      "Enter your data analytics marks40\n",
      "Enter your bi marks50\n",
      "Enter your excel marks60\n",
      "Enter your ml marks50\n",
      "Enter the total marks50\n",
      "\n",
      "                SBIL\n",
      "                =================================\n",
      "      Name of Student: Shoaib\n",
      "      Course attended: Data Analytics\n",
      "      \n",
      "      Percentage: 500.0\n",
      "      Grade Achieved: A*\n",
      "      \n",
      "      \n"
     ]
    }
   ],
   "source": [
    "name  = input(\"Enter students name\")\n",
    "course  = input(\"Enter course\")\n",
    "institute = input(\"Enter institute name\")\n",
    "\n",
    "python = int(input(\"Enter your python marks\"))\n",
    "data = int(input(\"Enter your data analytics marks\"))\n",
    "bi =int(input(\"Enter your bi marks\"))\n",
    "excel =int(input(\"Enter your excel marks\"))\n",
    "ml =int(input(\"Enter your ml marks\"))\n",
    "\n",
    "total_obt = python+data+bi+excel+ml\n",
    "total = int(input(\"Enter the total marks\"))\n",
    "percentage  = total_obt/total*100\n",
    "grade  = \"\"\n",
    "if percentage >=90:\n",
    "    grade = \"A*\"\n",
    "elif percentage >=80:\n",
    "    grade = \"A\"\n",
    "elif percentage >=70:\n",
    "    grade = \"B\"\n",
    "elif percentage >=60:\n",
    "    grade = \"C\"\n",
    "elif percentage >=50:\n",
    "    grade = \"D\"\n",
    "else:\n",
    "    grade = \"Fails\"\n",
    "\n",
    "print(f\"\"\"\n",
    "                {institute}\n",
    "                =================================\n",
    "      Name of Student: {name}\n",
    "      Course attended: {course}\n",
    "      \n",
    "      Percentage: {percentage}\n",
    "      Grade Achieved: {grade}\n",
    "      \n",
    "      \"\"\")  \n",
    "      "
   ]
  },
  {
   "cell_type": "code",
   "execution_count": 59,
   "id": "4cf33d3a",
   "metadata": {},
   "outputs": [
    {
     "name": "stdout",
     "output_type": "stream",
     "text": [
      "what is the age of your friend?29\n",
      "Where does your frined live?Mardan\n",
      "What do he do?Cashier\n",
      "My friends is 29 years old. He lives in Mardan. He is a qulaified Cashier.\n"
     ]
    }
   ],
   "source": [
    "age = (input(\"what is the age of your friend?\"))\n",
    "location = input(\"Where does your frined live?\")\n",
    "profession = input(\"What do he do?\")\n",
    "\n",
    "\n",
    "text  = f\"My friends is {age} years old. He lives in {location}. He is a qulaified {profession}.\"\n",
    "print(text)"
   ]
  },
  {
   "cell_type": "code",
   "execution_count": 60,
   "id": "42c4be20",
   "metadata": {},
   "outputs": [
    {
     "ename": "TypeError",
     "evalue": "can only concatenate str (not \"int\") to str",
     "output_type": "error",
     "traceback": [
      "\u001b[1;31m---------------------------------------------------------------------------\u001b[0m",
      "\u001b[1;31mTypeError\u001b[0m                                 Traceback (most recent call last)",
      "Cell \u001b[1;32mIn[60], line 1\u001b[0m\n\u001b[1;32m----> 1\u001b[0m \u001b[43mage\u001b[49m\u001b[43m \u001b[49m\u001b[38;5;241;43m+\u001b[39;49m\u001b[43m \u001b[49m\u001b[38;5;241;43m5\u001b[39;49m\n",
      "\u001b[1;31mTypeError\u001b[0m: can only concatenate str (not \"int\") to str"
     ]
    }
   ],
   "source": [
    "age + 5 "
   ]
  },
  {
   "cell_type": "code",
   "execution_count": 61,
   "id": "f8c7f3b0",
   "metadata": {},
   "outputs": [
    {
     "name": "stdout",
     "output_type": "stream",
     "text": [
      "what is the age of your friend?29\n",
      "Where does your frined live?Mardan\n",
      "What do he do?Cashier\n",
      "My friends is 29 years old. He lives in Mardan. He is a qulaified Cashier.\n"
     ]
    }
   ],
   "source": [
    "age = int(input(\"what is the age of your friend?\"))\n",
    "location = input(\"Where does your frined live?\")\n",
    "profession = input(\"What do he do?\")\n",
    "\n",
    "\n",
    "text  = f\"My friends is {age} years old. He lives in {location}. He is a qulaified {profession}.\"\n",
    "print(text)"
   ]
  },
  {
   "cell_type": "code",
   "execution_count": 62,
   "id": "2e32748c",
   "metadata": {},
   "outputs": [
    {
     "data": {
      "text/plain": [
       "39"
      ]
     },
     "execution_count": 62,
     "metadata": {},
     "output_type": "execute_result"
    }
   ],
   "source": [
    "age + 10 "
   ]
  },
  {
   "cell_type": "code",
   "execution_count": 63,
   "id": "84afa5c4",
   "metadata": {},
   "outputs": [
    {
     "name": "stdout",
     "output_type": "stream",
     "text": [
      "what is the age of your friend?29\n",
      "Where does your frined live?Mardan\n",
      "What do he do?Cashier\n",
      "            My friends is 29 years old. \n",
      "        \n",
      "        \n",
      "He lives in Mardan. \n",
      "        \n",
      "        \n",
      "        \n",
      "                                        He is a qulaified Cashier\n"
     ]
    }
   ],
   "source": [
    "age = int(input(\"what is the age of your friend?\"))\n",
    "location = input(\"Where does your frined live?\")\n",
    "profession = input(\"What do he do?\")\n",
    "\n",
    "\n",
    "text  = f\"\"\"            My friends is {age} years old. \n",
    "        \n",
    "        \n",
    "He lives in {location}. \n",
    "        \n",
    "        \n",
    "        \n",
    "                                        He is a qulaified {profession}\"\"\"\n",
    "print(text)"
   ]
  },
  {
   "cell_type": "markdown",
   "id": "21bc20dc",
   "metadata": {},
   "source": []
  }
 ],
 "metadata": {
  "kernelspec": {
   "display_name": "Python 3 (ipykernel)",
   "language": "python",
   "name": "python3"
  },
  "language_info": {
   "codemirror_mode": {
    "name": "ipython",
    "version": 3
   },
   "file_extension": ".py",
   "mimetype": "text/x-python",
   "name": "python",
   "nbconvert_exporter": "python",
   "pygments_lexer": "ipython3",
   "version": "3.10.9"
  }
 },
 "nbformat": 4,
 "nbformat_minor": 5
}
