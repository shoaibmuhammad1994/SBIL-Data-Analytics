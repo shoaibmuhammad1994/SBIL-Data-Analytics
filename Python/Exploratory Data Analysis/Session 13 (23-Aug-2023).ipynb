{
 "cells": [
  {
   "cell_type": "markdown",
   "id": "07d8059d",
   "metadata": {},
   "source": [
    "# Group By"
   ]
  },
  {
   "cell_type": "code",
   "execution_count": 1,
   "id": "220b746f",
   "metadata": {},
   "outputs": [],
   "source": [
    "import pandas as pd"
   ]
  },
  {
   "cell_type": "code",
   "execution_count": 2,
   "id": "ae22a587",
   "metadata": {},
   "outputs": [],
   "source": [
    "import matplotlib.pyplot as plt"
   ]
  },
  {
   "cell_type": "code",
   "execution_count": 3,
   "id": "b44c5051",
   "metadata": {},
   "outputs": [
    {
     "data": {
      "text/html": [
       "<div>\n",
       "<style scoped>\n",
       "    .dataframe tbody tr th:only-of-type {\n",
       "        vertical-align: middle;\n",
       "    }\n",
       "\n",
       "    .dataframe tbody tr th {\n",
       "        vertical-align: top;\n",
       "    }\n",
       "\n",
       "    .dataframe thead th {\n",
       "        text-align: right;\n",
       "    }\n",
       "</style>\n",
       "<table border=\"1\" class=\"dataframe\">\n",
       "  <thead>\n",
       "    <tr style=\"text-align: right;\">\n",
       "      <th></th>\n",
       "      <th>Region</th>\n",
       "      <th>Manager</th>\n",
       "      <th>SalesMan</th>\n",
       "      <th>Item</th>\n",
       "      <th>Units</th>\n",
       "      <th>Unit_price</th>\n",
       "      <th>Sale_amt</th>\n",
       "    </tr>\n",
       "    <tr>\n",
       "      <th>OrderDate</th>\n",
       "      <th></th>\n",
       "      <th></th>\n",
       "      <th></th>\n",
       "      <th></th>\n",
       "      <th></th>\n",
       "      <th></th>\n",
       "      <th></th>\n",
       "    </tr>\n",
       "  </thead>\n",
       "  <tbody>\n",
       "    <tr>\n",
       "      <th>2018-01-06</th>\n",
       "      <td>East</td>\n",
       "      <td>Martha</td>\n",
       "      <td>Alexander</td>\n",
       "      <td>Television</td>\n",
       "      <td>95.00</td>\n",
       "      <td>1198.000</td>\n",
       "      <td>113810.00</td>\n",
       "    </tr>\n",
       "    <tr>\n",
       "      <th>2018-01-23</th>\n",
       "      <td>Central</td>\n",
       "      <td>Hermann</td>\n",
       "      <td>Shelli</td>\n",
       "      <td>Home Theater</td>\n",
       "      <td>50.00</td>\n",
       "      <td>500.000</td>\n",
       "      <td>25000.00</td>\n",
       "    </tr>\n",
       "    <tr>\n",
       "      <th>2018-02-09</th>\n",
       "      <td>Central</td>\n",
       "      <td>Hermann</td>\n",
       "      <td>Luis</td>\n",
       "      <td>Television</td>\n",
       "      <td>36.00</td>\n",
       "      <td>1198.000</td>\n",
       "      <td>43128.00</td>\n",
       "    </tr>\n",
       "    <tr>\n",
       "      <th>2018-02-26</th>\n",
       "      <td>Central</td>\n",
       "      <td>Timothy</td>\n",
       "      <td>David</td>\n",
       "      <td>Cell Phone</td>\n",
       "      <td>27.00</td>\n",
       "      <td>225.000</td>\n",
       "      <td>6075.00</td>\n",
       "    </tr>\n",
       "    <tr>\n",
       "      <th>2018-03-15</th>\n",
       "      <td>West</td>\n",
       "      <td>Timothy</td>\n",
       "      <td>Stephen</td>\n",
       "      <td>Television</td>\n",
       "      <td>56.00</td>\n",
       "      <td>1198.000</td>\n",
       "      <td>67088.00</td>\n",
       "    </tr>\n",
       "    <tr>\n",
       "      <th>2018-04-01</th>\n",
       "      <td>East</td>\n",
       "      <td>Martha</td>\n",
       "      <td>Alexander</td>\n",
       "      <td>Home Theater</td>\n",
       "      <td>60.00</td>\n",
       "      <td>500.000</td>\n",
       "      <td>30000.00</td>\n",
       "    </tr>\n",
       "    <tr>\n",
       "      <th>2018-04-18</th>\n",
       "      <td>Central</td>\n",
       "      <td>Martha</td>\n",
       "      <td>Steven</td>\n",
       "      <td>Television</td>\n",
       "      <td>75.00</td>\n",
       "      <td>1198.000</td>\n",
       "      <td>89850.00</td>\n",
       "    </tr>\n",
       "    <tr>\n",
       "      <th>2018-05-05</th>\n",
       "      <td>Central</td>\n",
       "      <td>Hermann</td>\n",
       "      <td>Luis</td>\n",
       "      <td>Television</td>\n",
       "      <td>90.00</td>\n",
       "      <td>1198.000</td>\n",
       "      <td>107820.00</td>\n",
       "    </tr>\n",
       "    <tr>\n",
       "      <th>2018-05-22</th>\n",
       "      <td>West</td>\n",
       "      <td>Douglas</td>\n",
       "      <td>Michael</td>\n",
       "      <td>Television</td>\n",
       "      <td>32.00</td>\n",
       "      <td>1198.000</td>\n",
       "      <td>38336.00</td>\n",
       "    </tr>\n",
       "    <tr>\n",
       "      <th>2018-06-08</th>\n",
       "      <td>East</td>\n",
       "      <td>Martha</td>\n",
       "      <td>Alexander</td>\n",
       "      <td>Home Theater</td>\n",
       "      <td>60.00</td>\n",
       "      <td>500.000</td>\n",
       "      <td>30000.00</td>\n",
       "    </tr>\n",
       "    <tr>\n",
       "      <th>2018-06-25</th>\n",
       "      <td>Central</td>\n",
       "      <td>Hermann</td>\n",
       "      <td>Sigal</td>\n",
       "      <td>Television</td>\n",
       "      <td>90.00</td>\n",
       "      <td>1198.000</td>\n",
       "      <td>107820.00</td>\n",
       "    </tr>\n",
       "    <tr>\n",
       "      <th>2018-07-12</th>\n",
       "      <td>East</td>\n",
       "      <td>Martha</td>\n",
       "      <td>Diana</td>\n",
       "      <td>Home Theater</td>\n",
       "      <td>29.00</td>\n",
       "      <td>500.000</td>\n",
       "      <td>14500.00</td>\n",
       "    </tr>\n",
       "    <tr>\n",
       "      <th>2018-07-29</th>\n",
       "      <td>East</td>\n",
       "      <td>Douglas</td>\n",
       "      <td>Karen</td>\n",
       "      <td>Home Theater</td>\n",
       "      <td>81.00</td>\n",
       "      <td>500.000</td>\n",
       "      <td>40500.00</td>\n",
       "    </tr>\n",
       "    <tr>\n",
       "      <th>2018-08-15</th>\n",
       "      <td>East</td>\n",
       "      <td>Martha</td>\n",
       "      <td>Alexander</td>\n",
       "      <td>Television</td>\n",
       "      <td>35.00</td>\n",
       "      <td>1198.000</td>\n",
       "      <td>41930.00</td>\n",
       "    </tr>\n",
       "    <tr>\n",
       "      <th>2018-09-01</th>\n",
       "      <td>Central</td>\n",
       "      <td>Douglas</td>\n",
       "      <td>John</td>\n",
       "      <td>Desk</td>\n",
       "      <td>2.00</td>\n",
       "      <td>125.000</td>\n",
       "      <td>250.00</td>\n",
       "    </tr>\n",
       "    <tr>\n",
       "      <th>2018-09-18</th>\n",
       "      <td>East</td>\n",
       "      <td>Martha</td>\n",
       "      <td>Alexander</td>\n",
       "      <td>Video Games</td>\n",
       "      <td>16.00</td>\n",
       "      <td>58.500</td>\n",
       "      <td>936.00</td>\n",
       "    </tr>\n",
       "    <tr>\n",
       "      <th>2018-10-05</th>\n",
       "      <td>Central</td>\n",
       "      <td>Hermann</td>\n",
       "      <td>Sigal</td>\n",
       "      <td>Home Theater</td>\n",
       "      <td>28.00</td>\n",
       "      <td>500.000</td>\n",
       "      <td>14000.00</td>\n",
       "    </tr>\n",
       "    <tr>\n",
       "      <th>2018-10-22</th>\n",
       "      <td>East</td>\n",
       "      <td>Martha</td>\n",
       "      <td>Alexander</td>\n",
       "      <td>Cell Phone</td>\n",
       "      <td>64.00</td>\n",
       "      <td>225.000</td>\n",
       "      <td>14400.00</td>\n",
       "    </tr>\n",
       "    <tr>\n",
       "      <th>2018-11-08</th>\n",
       "      <td>East</td>\n",
       "      <td>Douglas</td>\n",
       "      <td>Karen</td>\n",
       "      <td>Cell Phone</td>\n",
       "      <td>15.00</td>\n",
       "      <td>225.000</td>\n",
       "      <td>3375.00</td>\n",
       "    </tr>\n",
       "    <tr>\n",
       "      <th>2018-11-25</th>\n",
       "      <td>Central</td>\n",
       "      <td>Hermann</td>\n",
       "      <td>Shelli</td>\n",
       "      <td>Video Games</td>\n",
       "      <td>96.00</td>\n",
       "      <td>58.500</td>\n",
       "      <td>5616.00</td>\n",
       "    </tr>\n",
       "    <tr>\n",
       "      <th>2018-12-12</th>\n",
       "      <td>Central</td>\n",
       "      <td>Douglas</td>\n",
       "      <td>John</td>\n",
       "      <td>Television</td>\n",
       "      <td>67.00</td>\n",
       "      <td>1198.000</td>\n",
       "      <td>80266.00</td>\n",
       "    </tr>\n",
       "    <tr>\n",
       "      <th>2018-12-29</th>\n",
       "      <td>East</td>\n",
       "      <td>Douglas</td>\n",
       "      <td>Karen</td>\n",
       "      <td>Video Games</td>\n",
       "      <td>74.00</td>\n",
       "      <td>58.500</td>\n",
       "      <td>4329.00</td>\n",
       "    </tr>\n",
       "    <tr>\n",
       "      <th>2019-01-15</th>\n",
       "      <td>Central</td>\n",
       "      <td>Timothy</td>\n",
       "      <td>David</td>\n",
       "      <td>Home Theater</td>\n",
       "      <td>46.00</td>\n",
       "      <td>500.000</td>\n",
       "      <td>23000.00</td>\n",
       "    </tr>\n",
       "    <tr>\n",
       "      <th>2019-02-01</th>\n",
       "      <td>Central</td>\n",
       "      <td>Douglas</td>\n",
       "      <td>John</td>\n",
       "      <td>Home Theater</td>\n",
       "      <td>87.00</td>\n",
       "      <td>500.000</td>\n",
       "      <td>43500.00</td>\n",
       "    </tr>\n",
       "    <tr>\n",
       "      <th>2019-02-18</th>\n",
       "      <td>East</td>\n",
       "      <td>Martha</td>\n",
       "      <td>Alexander</td>\n",
       "      <td>Home Theater</td>\n",
       "      <td>4.00</td>\n",
       "      <td>500.000</td>\n",
       "      <td>2000.00</td>\n",
       "    </tr>\n",
       "    <tr>\n",
       "      <th>2019-03-07</th>\n",
       "      <td>West</td>\n",
       "      <td>Timothy</td>\n",
       "      <td>Stephen</td>\n",
       "      <td>Home Theater</td>\n",
       "      <td>7.00</td>\n",
       "      <td>500.000</td>\n",
       "      <td>3500.00</td>\n",
       "    </tr>\n",
       "    <tr>\n",
       "      <th>2019-03-24</th>\n",
       "      <td>Central</td>\n",
       "      <td>Hermann</td>\n",
       "      <td>Luis</td>\n",
       "      <td>Video Games</td>\n",
       "      <td>50.00</td>\n",
       "      <td>58.500</td>\n",
       "      <td>2925.00</td>\n",
       "    </tr>\n",
       "    <tr>\n",
       "      <th>2019-04-10</th>\n",
       "      <td>Central</td>\n",
       "      <td>Martha</td>\n",
       "      <td>Steven</td>\n",
       "      <td>Television</td>\n",
       "      <td>66.00</td>\n",
       "      <td>1198.000</td>\n",
       "      <td>79068.00</td>\n",
       "    </tr>\n",
       "    <tr>\n",
       "      <th>2019-04-27</th>\n",
       "      <td>East</td>\n",
       "      <td>Martha</td>\n",
       "      <td>Diana</td>\n",
       "      <td>Cell Phone</td>\n",
       "      <td>96.00</td>\n",
       "      <td>225.000</td>\n",
       "      <td>21600.00</td>\n",
       "    </tr>\n",
       "    <tr>\n",
       "      <th>2019-05-14</th>\n",
       "      <td>Central</td>\n",
       "      <td>Timothy</td>\n",
       "      <td>David</td>\n",
       "      <td>Television</td>\n",
       "      <td>53.00</td>\n",
       "      <td>1198.000</td>\n",
       "      <td>63494.00</td>\n",
       "    </tr>\n",
       "    <tr>\n",
       "      <th>2019-05-31</th>\n",
       "      <td>Central</td>\n",
       "      <td>Timothy</td>\n",
       "      <td>David</td>\n",
       "      <td>Home Theater</td>\n",
       "      <td>80.00</td>\n",
       "      <td>500.000</td>\n",
       "      <td>40000.00</td>\n",
       "    </tr>\n",
       "    <tr>\n",
       "      <th>2019-06-17</th>\n",
       "      <td>Central</td>\n",
       "      <td>Hermann</td>\n",
       "      <td>Shelli</td>\n",
       "      <td>Desk</td>\n",
       "      <td>5.00</td>\n",
       "      <td>125.000</td>\n",
       "      <td>625.00</td>\n",
       "    </tr>\n",
       "    <tr>\n",
       "      <th>2019-07-04</th>\n",
       "      <td>East</td>\n",
       "      <td>Martha</td>\n",
       "      <td>Alexander</td>\n",
       "      <td>Video Games</td>\n",
       "      <td>62.00</td>\n",
       "      <td>58.500</td>\n",
       "      <td>3627.00</td>\n",
       "    </tr>\n",
       "    <tr>\n",
       "      <th>2019-07-21</th>\n",
       "      <td>Central</td>\n",
       "      <td>Hermann</td>\n",
       "      <td>Sigal</td>\n",
       "      <td>Video Games</td>\n",
       "      <td>55.00</td>\n",
       "      <td>58.500</td>\n",
       "      <td>3217.50</td>\n",
       "    </tr>\n",
       "    <tr>\n",
       "      <th>2019-08-07</th>\n",
       "      <td>Central</td>\n",
       "      <td>Hermann</td>\n",
       "      <td>Shelli</td>\n",
       "      <td>Video Games</td>\n",
       "      <td>42.00</td>\n",
       "      <td>58.500</td>\n",
       "      <td>2457.00</td>\n",
       "    </tr>\n",
       "    <tr>\n",
       "      <th>2019-08-24</th>\n",
       "      <td>West</td>\n",
       "      <td>Timothy</td>\n",
       "      <td>Stephen</td>\n",
       "      <td>Desk</td>\n",
       "      <td>3.00</td>\n",
       "      <td>125.000</td>\n",
       "      <td>375.00</td>\n",
       "    </tr>\n",
       "    <tr>\n",
       "      <th>2019-09-10</th>\n",
       "      <td>Central</td>\n",
       "      <td>Timothy</td>\n",
       "      <td>David</td>\n",
       "      <td>Television</td>\n",
       "      <td>7.00</td>\n",
       "      <td>1198.000</td>\n",
       "      <td>8386.00</td>\n",
       "    </tr>\n",
       "    <tr>\n",
       "      <th>2019-09-27</th>\n",
       "      <td>West</td>\n",
       "      <td>Timothy</td>\n",
       "      <td>Stephen</td>\n",
       "      <td>Cell Phone</td>\n",
       "      <td>76.00</td>\n",
       "      <td>225.000</td>\n",
       "      <td>17100.00</td>\n",
       "    </tr>\n",
       "    <tr>\n",
       "      <th>2019-10-14</th>\n",
       "      <td>West</td>\n",
       "      <td>Douglas</td>\n",
       "      <td>Michael</td>\n",
       "      <td>Home Theater</td>\n",
       "      <td>57.00</td>\n",
       "      <td>500.000</td>\n",
       "      <td>28500.00</td>\n",
       "    </tr>\n",
       "    <tr>\n",
       "      <th>2019-10-31</th>\n",
       "      <td>Central</td>\n",
       "      <td>Martha</td>\n",
       "      <td>Steven</td>\n",
       "      <td>Television</td>\n",
       "      <td>14.00</td>\n",
       "      <td>1198.000</td>\n",
       "      <td>16772.00</td>\n",
       "    </tr>\n",
       "    <tr>\n",
       "      <th>2019-11-17</th>\n",
       "      <td>Central</td>\n",
       "      <td>Hermann</td>\n",
       "      <td>Luis</td>\n",
       "      <td>Home Theater</td>\n",
       "      <td>11.00</td>\n",
       "      <td>500.000</td>\n",
       "      <td>5500.00</td>\n",
       "    </tr>\n",
       "    <tr>\n",
       "      <th>2019-12-04</th>\n",
       "      <td>Central</td>\n",
       "      <td>Hermann</td>\n",
       "      <td>Luis</td>\n",
       "      <td>Home Theater</td>\n",
       "      <td>94.00</td>\n",
       "      <td>500.000</td>\n",
       "      <td>47000.00</td>\n",
       "    </tr>\n",
       "    <tr>\n",
       "      <th>2019-12-21</th>\n",
       "      <td>Central</td>\n",
       "      <td>Martha</td>\n",
       "      <td>Steven</td>\n",
       "      <td>Home Theater</td>\n",
       "      <td>28.00</td>\n",
       "      <td>500.000</td>\n",
       "      <td>14000.00</td>\n",
       "    </tr>\n",
       "    <tr>\n",
       "      <th>NaT</th>\n",
       "      <td>NaN</td>\n",
       "      <td>NaN</td>\n",
       "      <td>NaN</td>\n",
       "      <td>NaN</td>\n",
       "      <td>278.00</td>\n",
       "      <td>1125.000</td>\n",
       "      <td>62550.00</td>\n",
       "    </tr>\n",
       "    <tr>\n",
       "      <th>NaT</th>\n",
       "      <td>NaN</td>\n",
       "      <td>NaN</td>\n",
       "      <td>NaN</td>\n",
       "      <td>NaN</td>\n",
       "      <td>34.75</td>\n",
       "      <td>140.625</td>\n",
       "      <td>7818.75</td>\n",
       "    </tr>\n",
       "  </tbody>\n",
       "</table>\n",
       "</div>"
      ],
      "text/plain": [
       "             Region  Manager   SalesMan          Item   Units  Unit_price  \\\n",
       "OrderDate                                                                   \n",
       "2018-01-06     East   Martha  Alexander    Television   95.00    1198.000   \n",
       "2018-01-23  Central  Hermann     Shelli  Home Theater   50.00     500.000   \n",
       "2018-02-09  Central  Hermann       Luis    Television   36.00    1198.000   \n",
       "2018-02-26  Central  Timothy      David    Cell Phone   27.00     225.000   \n",
       "2018-03-15     West  Timothy    Stephen    Television   56.00    1198.000   \n",
       "2018-04-01     East   Martha  Alexander  Home Theater   60.00     500.000   \n",
       "2018-04-18  Central   Martha     Steven    Television   75.00    1198.000   \n",
       "2018-05-05  Central  Hermann       Luis    Television   90.00    1198.000   \n",
       "2018-05-22     West  Douglas    Michael    Television   32.00    1198.000   \n",
       "2018-06-08     East   Martha  Alexander  Home Theater   60.00     500.000   \n",
       "2018-06-25  Central  Hermann      Sigal    Television   90.00    1198.000   \n",
       "2018-07-12     East   Martha      Diana  Home Theater   29.00     500.000   \n",
       "2018-07-29     East  Douglas      Karen  Home Theater   81.00     500.000   \n",
       "2018-08-15     East   Martha  Alexander    Television   35.00    1198.000   \n",
       "2018-09-01  Central  Douglas       John          Desk    2.00     125.000   \n",
       "2018-09-18     East   Martha  Alexander   Video Games   16.00      58.500   \n",
       "2018-10-05  Central  Hermann      Sigal  Home Theater   28.00     500.000   \n",
       "2018-10-22     East   Martha  Alexander    Cell Phone   64.00     225.000   \n",
       "2018-11-08     East  Douglas      Karen    Cell Phone   15.00     225.000   \n",
       "2018-11-25  Central  Hermann     Shelli   Video Games   96.00      58.500   \n",
       "2018-12-12  Central  Douglas       John    Television   67.00    1198.000   \n",
       "2018-12-29     East  Douglas      Karen   Video Games   74.00      58.500   \n",
       "2019-01-15  Central  Timothy      David  Home Theater   46.00     500.000   \n",
       "2019-02-01  Central  Douglas       John  Home Theater   87.00     500.000   \n",
       "2019-02-18     East   Martha  Alexander  Home Theater    4.00     500.000   \n",
       "2019-03-07     West  Timothy    Stephen  Home Theater    7.00     500.000   \n",
       "2019-03-24  Central  Hermann       Luis   Video Games   50.00      58.500   \n",
       "2019-04-10  Central   Martha     Steven    Television   66.00    1198.000   \n",
       "2019-04-27     East   Martha      Diana    Cell Phone   96.00     225.000   \n",
       "2019-05-14  Central  Timothy      David    Television   53.00    1198.000   \n",
       "2019-05-31  Central  Timothy      David  Home Theater   80.00     500.000   \n",
       "2019-06-17  Central  Hermann     Shelli          Desk    5.00     125.000   \n",
       "2019-07-04     East   Martha  Alexander   Video Games   62.00      58.500   \n",
       "2019-07-21  Central  Hermann      Sigal   Video Games   55.00      58.500   \n",
       "2019-08-07  Central  Hermann     Shelli   Video Games   42.00      58.500   \n",
       "2019-08-24     West  Timothy    Stephen          Desk    3.00     125.000   \n",
       "2019-09-10  Central  Timothy      David    Television    7.00    1198.000   \n",
       "2019-09-27     West  Timothy    Stephen    Cell Phone   76.00     225.000   \n",
       "2019-10-14     West  Douglas    Michael  Home Theater   57.00     500.000   \n",
       "2019-10-31  Central   Martha     Steven    Television   14.00    1198.000   \n",
       "2019-11-17  Central  Hermann       Luis  Home Theater   11.00     500.000   \n",
       "2019-12-04  Central  Hermann       Luis  Home Theater   94.00     500.000   \n",
       "2019-12-21  Central   Martha     Steven  Home Theater   28.00     500.000   \n",
       "NaT             NaN      NaN        NaN           NaN  278.00    1125.000   \n",
       "NaT             NaN      NaN        NaN           NaN   34.75     140.625   \n",
       "\n",
       "             Sale_amt  \n",
       "OrderDate              \n",
       "2018-01-06  113810.00  \n",
       "2018-01-23   25000.00  \n",
       "2018-02-09   43128.00  \n",
       "2018-02-26    6075.00  \n",
       "2018-03-15   67088.00  \n",
       "2018-04-01   30000.00  \n",
       "2018-04-18   89850.00  \n",
       "2018-05-05  107820.00  \n",
       "2018-05-22   38336.00  \n",
       "2018-06-08   30000.00  \n",
       "2018-06-25  107820.00  \n",
       "2018-07-12   14500.00  \n",
       "2018-07-29   40500.00  \n",
       "2018-08-15   41930.00  \n",
       "2018-09-01     250.00  \n",
       "2018-09-18     936.00  \n",
       "2018-10-05   14000.00  \n",
       "2018-10-22   14400.00  \n",
       "2018-11-08    3375.00  \n",
       "2018-11-25    5616.00  \n",
       "2018-12-12   80266.00  \n",
       "2018-12-29    4329.00  \n",
       "2019-01-15   23000.00  \n",
       "2019-02-01   43500.00  \n",
       "2019-02-18    2000.00  \n",
       "2019-03-07    3500.00  \n",
       "2019-03-24    2925.00  \n",
       "2019-04-10   79068.00  \n",
       "2019-04-27   21600.00  \n",
       "2019-05-14   63494.00  \n",
       "2019-05-31   40000.00  \n",
       "2019-06-17     625.00  \n",
       "2019-07-04    3627.00  \n",
       "2019-07-21    3217.50  \n",
       "2019-08-07    2457.00  \n",
       "2019-08-24     375.00  \n",
       "2019-09-10    8386.00  \n",
       "2019-09-27   17100.00  \n",
       "2019-10-14   28500.00  \n",
       "2019-10-31   16772.00  \n",
       "2019-11-17    5500.00  \n",
       "2019-12-04   47000.00  \n",
       "2019-12-21   14000.00  \n",
       "NaT          62550.00  \n",
       "NaT           7818.75  "
      ]
     },
     "execution_count": 3,
     "metadata": {},
     "output_type": "execute_result"
    }
   ],
   "source": [
    "data = pd.read_excel('data/SaleData.xlsx')\n",
    "data.head(10)\n",
    "data.set_index('OrderDate')"
   ]
  },
  {
   "cell_type": "code",
   "execution_count": 4,
   "id": "7d8df8ba",
   "metadata": {},
   "outputs": [
    {
     "data": {
      "text/plain": [
       "0       January\n",
       "1       January\n",
       "2      February\n",
       "3      February\n",
       "4         March\n",
       "5         April\n",
       "6         April\n",
       "7           May\n",
       "8           May\n",
       "9          June\n",
       "10         June\n",
       "11         July\n",
       "12         July\n",
       "13       August\n",
       "14    September\n",
       "15    September\n",
       "16      October\n",
       "17      October\n",
       "18     November\n",
       "19     November\n",
       "20     December\n",
       "21     December\n",
       "22      January\n",
       "23     February\n",
       "24     February\n",
       "25        March\n",
       "26        March\n",
       "27        April\n",
       "28        April\n",
       "29          May\n",
       "30          May\n",
       "31         June\n",
       "32         July\n",
       "33         July\n",
       "34       August\n",
       "35       August\n",
       "36    September\n",
       "37    September\n",
       "38      October\n",
       "39      October\n",
       "40     November\n",
       "41     December\n",
       "42     December\n",
       "43          NaN\n",
       "44          NaN\n",
       "Name: OrderDate, dtype: object"
      ]
     },
     "execution_count": 4,
     "metadata": {},
     "output_type": "execute_result"
    }
   ],
   "source": [
    "# data.info()\n",
    "data.OrderDate.dt.month_name()"
   ]
  },
  {
   "cell_type": "code",
   "execution_count": 5,
   "id": "ed6595fd",
   "metadata": {},
   "outputs": [
    {
     "data": {
      "text/html": [
       "<div>\n",
       "<style scoped>\n",
       "    .dataframe tbody tr th:only-of-type {\n",
       "        vertical-align: middle;\n",
       "    }\n",
       "\n",
       "    .dataframe tbody tr th {\n",
       "        vertical-align: top;\n",
       "    }\n",
       "\n",
       "    .dataframe thead th {\n",
       "        text-align: right;\n",
       "    }\n",
       "</style>\n",
       "<table border=\"1\" class=\"dataframe\">\n",
       "  <thead>\n",
       "    <tr style=\"text-align: right;\">\n",
       "      <th></th>\n",
       "      <th>OrderDate</th>\n",
       "      <th>Region</th>\n",
       "      <th>Manager</th>\n",
       "      <th>SalesMan</th>\n",
       "      <th>Item</th>\n",
       "      <th>Units</th>\n",
       "      <th>Unit_price</th>\n",
       "      <th>Sale_amt</th>\n",
       "    </tr>\n",
       "  </thead>\n",
       "  <tbody>\n",
       "    <tr>\n",
       "      <th>0</th>\n",
       "      <td>2018-01-06</td>\n",
       "      <td>East</td>\n",
       "      <td>Martha</td>\n",
       "      <td>Alexander</td>\n",
       "      <td>Television</td>\n",
       "      <td>95.0</td>\n",
       "      <td>1198.0</td>\n",
       "      <td>113810.0</td>\n",
       "    </tr>\n",
       "    <tr>\n",
       "      <th>1</th>\n",
       "      <td>2018-01-23</td>\n",
       "      <td>Central</td>\n",
       "      <td>Hermann</td>\n",
       "      <td>Shelli</td>\n",
       "      <td>Home Theater</td>\n",
       "      <td>50.0</td>\n",
       "      <td>500.0</td>\n",
       "      <td>25000.0</td>\n",
       "    </tr>\n",
       "    <tr>\n",
       "      <th>2</th>\n",
       "      <td>2018-02-09</td>\n",
       "      <td>Central</td>\n",
       "      <td>Hermann</td>\n",
       "      <td>Luis</td>\n",
       "      <td>Television</td>\n",
       "      <td>36.0</td>\n",
       "      <td>1198.0</td>\n",
       "      <td>43128.0</td>\n",
       "    </tr>\n",
       "  </tbody>\n",
       "</table>\n",
       "</div>"
      ],
      "text/plain": [
       "   OrderDate   Region  Manager   SalesMan          Item  Units  Unit_price  \\\n",
       "0 2018-01-06     East   Martha  Alexander    Television   95.0      1198.0   \n",
       "1 2018-01-23  Central  Hermann     Shelli  Home Theater   50.0       500.0   \n",
       "2 2018-02-09  Central  Hermann       Luis    Television   36.0      1198.0   \n",
       "\n",
       "   Sale_amt  \n",
       "0  113810.0  \n",
       "1   25000.0  \n",
       "2   43128.0  "
      ]
     },
     "execution_count": 5,
     "metadata": {},
     "output_type": "execute_result"
    }
   ],
   "source": [
    "data.head(3)"
   ]
  },
  {
   "cell_type": "code",
   "execution_count": 6,
   "id": "129572f9",
   "metadata": {},
   "outputs": [
    {
     "data": {
      "text/plain": [
       "array(['East', 'Central', 'West', nan], dtype=object)"
      ]
     },
     "execution_count": 6,
     "metadata": {},
     "output_type": "execute_result"
    }
   ],
   "source": [
    "data.Region.unique()"
   ]
  },
  {
   "cell_type": "code",
   "execution_count": 7,
   "id": "47473bcd",
   "metadata": {},
   "outputs": [],
   "source": [
    "data.dropna(inplace=True)"
   ]
  },
  {
   "cell_type": "code",
   "execution_count": 8,
   "id": "3793408c",
   "metadata": {},
   "outputs": [
    {
     "data": {
      "text/plain": [
       "array(['East', 'Central', 'West'], dtype=object)"
      ]
     },
     "execution_count": 8,
     "metadata": {},
     "output_type": "execute_result"
    }
   ],
   "source": [
    "data.Region.unique()"
   ]
  },
  {
   "cell_type": "code",
   "execution_count": 9,
   "id": "73aac550",
   "metadata": {},
   "outputs": [
    {
     "data": {
      "text/plain": [
       "array(['Martha', 'Hermann', 'Timothy', 'Douglas'], dtype=object)"
      ]
     },
     "execution_count": 9,
     "metadata": {},
     "output_type": "execute_result"
    }
   ],
   "source": [
    "data.Manager.unique()"
   ]
  },
  {
   "cell_type": "code",
   "execution_count": 10,
   "id": "c82a164b",
   "metadata": {},
   "outputs": [
    {
     "data": {
      "text/plain": [
       "array(['Alexander', 'Shelli', 'Luis', 'David', 'Stephen', 'Steven',\n",
       "       'Michael', 'Sigal', 'Diana', 'Karen', 'John'], dtype=object)"
      ]
     },
     "execution_count": 10,
     "metadata": {},
     "output_type": "execute_result"
    }
   ],
   "source": [
    "data.SalesMan.unique()"
   ]
  },
  {
   "cell_type": "code",
   "execution_count": 11,
   "id": "703b8d4d",
   "metadata": {},
   "outputs": [
    {
     "data": {
      "text/plain": [
       "array(['Television', 'Home Theater', 'Cell Phone', 'Desk', 'Video Games'],\n",
       "      dtype=object)"
      ]
     },
     "execution_count": 11,
     "metadata": {},
     "output_type": "execute_result"
    }
   ],
   "source": [
    "data.Item.unique()"
   ]
  },
  {
   "cell_type": "code",
   "execution_count": 12,
   "id": "272b0cb5",
   "metadata": {},
   "outputs": [],
   "source": [
    "region_gp = data.groupby('Region')"
   ]
  },
  {
   "cell_type": "code",
   "execution_count": 13,
   "id": "9c9c75df",
   "metadata": {},
   "outputs": [
    {
     "data": {
      "text/plain": [
       "{'Central': [1, 2, 3, 6, 7, 10, 14, 16, 19, 20, 22, 23, 26, 27, 29, 30, 31, 33, 34, 36, 39, 40, 41, 42], 'East': [0, 5, 9, 11, 12, 13, 15, 17, 18, 21, 24, 28, 32], 'West': [4, 8, 25, 35, 37, 38]}"
      ]
     },
     "execution_count": 13,
     "metadata": {},
     "output_type": "execute_result"
    }
   ],
   "source": [
    "region_gp.groups"
   ]
  },
  {
   "cell_type": "code",
   "execution_count": 14,
   "id": "fb7b0745",
   "metadata": {},
   "outputs": [
    {
     "data": {
      "text/plain": [
       "829769.5"
      ]
     },
     "execution_count": 14,
     "metadata": {},
     "output_type": "execute_result"
    }
   ],
   "source": [
    "region_central = region_gp.get_group('Central')\n",
    "region_central['Sale_amt'].sum()"
   ]
  },
  {
   "cell_type": "code",
   "execution_count": 15,
   "id": "10f7d909",
   "metadata": {},
   "outputs": [],
   "source": [
    "# data[data.Region =='Central']"
   ]
  },
  {
   "cell_type": "code",
   "execution_count": 16,
   "id": "431949b9",
   "metadata": {},
   "outputs": [
    {
     "data": {
      "text/plain": [
       "array([829769.5, 321007. , 154899. ])"
      ]
     },
     "execution_count": 16,
     "metadata": {},
     "output_type": "execute_result"
    }
   ],
   "source": [
    "sums = data.groupby('Region')['Sale_amt'].sum()\n",
    "sums.values"
   ]
  },
  {
   "cell_type": "code",
   "execution_count": 17,
   "id": "53bba958",
   "metadata": {},
   "outputs": [
    {
     "data": {
      "text/plain": [
       "<BarContainer object of 3 artists>"
      ]
     },
     "execution_count": 17,
     "metadata": {},
     "output_type": "execute_result"
    },
    {
     "data": {
      "image/png": "[encoded data removed]",
      "text/plain": [
       "<Figure size 640x480 with 1 Axes>"
      ]
     },
     "metadata": {},
     "output_type": "display_data"
    }
   ],
   "source": [
    "plt.bar(sums.index,sums.values )"
   ]
  },
  {
   "cell_type": "code",
   "execution_count": 18,
   "id": "8fea4418",
   "metadata": {},
   "outputs": [
    {
     "data": {
      "text/plain": [
       "Region\n",
       "Central    34573.729167\n",
       "East       24692.846154\n",
       "West       25816.500000\n",
       "Name: Sale_amt, dtype: float64"
      ]
     },
     "execution_count": 18,
     "metadata": {},
     "output_type": "execute_result"
    }
   ],
   "source": [
    "avg_sales = data.groupby('Region')['Sale_amt'].mean()\n",
    "avg_sales"
   ]
  },
  {
   "cell_type": "code",
   "execution_count": 19,
   "id": "8a23a3dc",
   "metadata": {},
   "outputs": [
    {
     "data": {
      "text/plain": [
       "<BarContainer object of 3 artists>"
      ]
     },
     "execution_count": 19,
     "metadata": {},
     "output_type": "execute_result"
    },
    {
     "data": {
      "image/png": "[encoded data removed]",
      "text/plain": [
       "<Figure size 640x480 with 1 Axes>"
      ]
     },
     "metadata": {},
     "output_type": "display_data"
    }
   ],
   "source": [
    "plt.bar(avg_sales.index,avg_sales.values )"
   ]
  },
  {
   "cell_type": "code",
   "execution_count": null,
   "id": "2b570b19",
   "metadata": {},
   "outputs": [],
   "source": []
  },
  {
   "cell_type": "code",
   "execution_count": 20,
   "id": "f5bb0998",
   "metadata": {},
   "outputs": [
    {
     "data": {
      "text/html": [
       "<div>\n",
       "<style scoped>\n",
       "    .dataframe tbody tr th:only-of-type {\n",
       "        vertical-align: middle;\n",
       "    }\n",
       "\n",
       "    .dataframe tbody tr th {\n",
       "        vertical-align: top;\n",
       "    }\n",
       "\n",
       "    .dataframe thead th {\n",
       "        text-align: right;\n",
       "    }\n",
       "</style>\n",
       "<table border=\"1\" class=\"dataframe\">\n",
       "  <thead>\n",
       "    <tr style=\"text-align: right;\">\n",
       "      <th></th>\n",
       "      <th>count</th>\n",
       "      <th>max</th>\n",
       "      <th>min</th>\n",
       "      <th>mean</th>\n",
       "      <th>sum</th>\n",
       "    </tr>\n",
       "    <tr>\n",
       "      <th>Region</th>\n",
       "      <th></th>\n",
       "      <th></th>\n",
       "      <th></th>\n",
       "      <th></th>\n",
       "      <th></th>\n",
       "    </tr>\n",
       "  </thead>\n",
       "  <tbody>\n",
       "    <tr>\n",
       "      <th>Central</th>\n",
       "      <td>24</td>\n",
       "      <td>107820.0</td>\n",
       "      <td>250.0</td>\n",
       "      <td>34573.729167</td>\n",
       "      <td>829769.5</td>\n",
       "    </tr>\n",
       "    <tr>\n",
       "      <th>East</th>\n",
       "      <td>13</td>\n",
       "      <td>113810.0</td>\n",
       "      <td>936.0</td>\n",
       "      <td>24692.846154</td>\n",
       "      <td>321007.0</td>\n",
       "    </tr>\n",
       "    <tr>\n",
       "      <th>West</th>\n",
       "      <td>6</td>\n",
       "      <td>67088.0</td>\n",
       "      <td>375.0</td>\n",
       "      <td>25816.500000</td>\n",
       "      <td>154899.0</td>\n",
       "    </tr>\n",
       "  </tbody>\n",
       "</table>\n",
       "</div>"
      ],
      "text/plain": [
       "         count       max    min          mean       sum\n",
       "Region                                                 \n",
       "Central     24  107820.0  250.0  34573.729167  829769.5\n",
       "East        13  113810.0  936.0  24692.846154  321007.0\n",
       "West         6   67088.0  375.0  25816.500000  154899.0"
      ]
     },
     "execution_count": 20,
     "metadata": {},
     "output_type": "execute_result"
    }
   ],
   "source": [
    "sums = data.groupby('Region')['Sale_amt'].aggregate(['count','max','min','mean','sum'])\n",
    "sums"
   ]
  },
  {
   "cell_type": "code",
   "execution_count": 21,
   "id": "73638c86",
   "metadata": {},
   "outputs": [],
   "source": [
    "# Top manager on sales amount\n",
    "\n",
    "top_managers= data.groupby('Manager')['Sale_amt'].sum().sort_values(ascending=False)"
   ]
  },
  {
   "cell_type": "code",
   "execution_count": 22,
   "id": "8c8c5ce3",
   "metadata": {},
   "outputs": [
    {
     "data": {
      "text/plain": [
       "<BarContainer object of 4 artists>"
      ]
     },
     "execution_count": 22,
     "metadata": {},
     "output_type": "execute_result"
    },
    {
     "data": {
      "image/png": "[encoded data removed]",
      "text/plain": [
       "<Figure size 640x480 with 1 Axes>"
      ]
     },
     "metadata": {},
     "output_type": "display_data"
    }
   ],
   "source": [
    "plt.bar(top_managers.index,top_managers.values)"
   ]
  },
  {
   "cell_type": "code",
   "execution_count": 23,
   "id": "8cc1d968",
   "metadata": {},
   "outputs": [],
   "source": [
    "top_items_sales_amt = data.groupby('Item')['Sale_amt'].sum().sort_values(ascending=False)"
   ]
  },
  {
   "cell_type": "code",
   "execution_count": 24,
   "id": "bdcc2cd1",
   "metadata": {},
   "outputs": [
    {
     "data": {
      "text/plain": [
       "<BarContainer object of 5 artists>"
      ]
     },
     "execution_count": 24,
     "metadata": {},
     "output_type": "execute_result"
    },
    {
     "data": {
      "image/png": "[encoded data removed]",
      "text/plain": [
       "<Figure size 640x480 with 1 Axes>"
      ]
     },
     "metadata": {},
     "output_type": "display_data"
    }
   ],
   "source": [
    "plt.bar(top_items_sales_amt.index,top_items_sales_amt.values)"
   ]
  },
  {
   "cell_type": "code",
   "execution_count": 25,
   "id": "404a4576",
   "metadata": {},
   "outputs": [
    {
     "data": {
      "text/html": [
       "<div>\n",
       "<style scoped>\n",
       "    .dataframe tbody tr th:only-of-type {\n",
       "        vertical-align: middle;\n",
       "    }\n",
       "\n",
       "    .dataframe tbody tr th {\n",
       "        vertical-align: top;\n",
       "    }\n",
       "\n",
       "    .dataframe thead th {\n",
       "        text-align: right;\n",
       "    }\n",
       "</style>\n",
       "<table border=\"1\" class=\"dataframe\">\n",
       "  <thead>\n",
       "    <tr style=\"text-align: right;\">\n",
       "      <th></th>\n",
       "      <th>OrderDate</th>\n",
       "      <th>Region</th>\n",
       "      <th>Manager</th>\n",
       "      <th>SalesMan</th>\n",
       "      <th>Item</th>\n",
       "      <th>Units</th>\n",
       "      <th>Unit_price</th>\n",
       "      <th>Sale_amt</th>\n",
       "    </tr>\n",
       "  </thead>\n",
       "  <tbody>\n",
       "    <tr>\n",
       "      <th>0</th>\n",
       "      <td>2018-01-06</td>\n",
       "      <td>East</td>\n",
       "      <td>Martha</td>\n",
       "      <td>Alexander</td>\n",
       "      <td>Television</td>\n",
       "      <td>95.0</td>\n",
       "      <td>1198.0</td>\n",
       "      <td>113810.0</td>\n",
       "    </tr>\n",
       "  </tbody>\n",
       "</table>\n",
       "</div>"
      ],
      "text/plain": [
       "   OrderDate Region Manager   SalesMan        Item  Units  Unit_price  \\\n",
       "0 2018-01-06   East  Martha  Alexander  Television   95.0      1198.0   \n",
       "\n",
       "   Sale_amt  \n",
       "0  113810.0  "
      ]
     },
     "execution_count": 25,
     "metadata": {},
     "output_type": "execute_result"
    }
   ],
   "source": [
    "data.head(1)"
   ]
  },
  {
   "cell_type": "code",
   "execution_count": 26,
   "id": "349421bb",
   "metadata": {},
   "outputs": [
    {
     "data": {
      "text/plain": [
       "Region   Item        \n",
       "Central  Cell Phone      1\n",
       "         Desk            2\n",
       "         Home Theater    8\n",
       "         Television      9\n",
       "         Video Games     4\n",
       "East     Cell Phone      3\n",
       "         Home Theater    5\n",
       "         Television      2\n",
       "         Video Games     3\n",
       "West     Cell Phone      1\n",
       "         Desk            1\n",
       "         Home Theater    2\n",
       "         Television      2\n",
       "Name: Item, dtype: int64"
      ]
     },
     "execution_count": 26,
     "metadata": {},
     "output_type": "execute_result"
    }
   ],
   "source": [
    "# Region wise item sale count\n",
    "# data.groupby('Region')['Item'].count()\n",
    "data.groupby(['Region','Item'])['Item'].count()"
   ]
  },
  {
   "cell_type": "markdown",
   "id": "4101309d",
   "metadata": {},
   "source": [
    "# Time Series  Data"
   ]
  },
  {
   "cell_type": "raw",
   "id": "78a7fb54",
   "metadata": {},
   "source": [
    "Creating time series with specific frequencies\n",
    "• Date offsets\n",
    "• Representation of differences in time with timedelta\n",
    "• Durations of time with Period objects\n",
    "• Calendars\n",
    "• Time zones\n",
    "• Shifting and lagging\n",
    "• Up and down sampling\n",
    "• Time series moving-window operations"
   ]
  },
  {
   "cell_type": "code",
   "execution_count": 27,
   "id": "287341b0",
   "metadata": {},
   "outputs": [],
   "source": [
    "import datetime\n",
    "from datetime import datetime as dt"
   ]
  },
  {
   "cell_type": "code",
   "execution_count": 28,
   "id": "9a17aeec",
   "metadata": {},
   "outputs": [],
   "source": [
    "date = dt(2014, 12, 15)"
   ]
  },
  {
   "cell_type": "code",
   "execution_count": 29,
   "id": "480a46fb",
   "metadata": {},
   "outputs": [
    {
     "data": {
      "text/plain": [
       "datetime.datetime(2014, 12, 15, 0, 0)"
      ]
     },
     "execution_count": 29,
     "metadata": {},
     "output_type": "execute_result"
    }
   ],
   "source": [
    "date"
   ]
  },
  {
   "cell_type": "code",
   "execution_count": 30,
   "id": "e36af910",
   "metadata": {},
   "outputs": [
    {
     "data": {
      "text/plain": [
       "2014"
      ]
     },
     "execution_count": 30,
     "metadata": {},
     "output_type": "execute_result"
    }
   ],
   "source": [
    "date.year"
   ]
  },
  {
   "cell_type": "code",
   "execution_count": 31,
   "id": "52364c8d",
   "metadata": {},
   "outputs": [
    {
     "data": {
      "text/plain": [
       "12"
      ]
     },
     "execution_count": 31,
     "metadata": {},
     "output_type": "execute_result"
    }
   ],
   "source": [
    "date.month"
   ]
  },
  {
   "cell_type": "code",
   "execution_count": 32,
   "id": "694fef63",
   "metadata": {},
   "outputs": [
    {
     "data": {
      "text/plain": [
       "15"
      ]
     },
     "execution_count": 32,
     "metadata": {},
     "output_type": "execute_result"
    }
   ],
   "source": [
    "date.day"
   ]
  },
  {
   "cell_type": "code",
   "execution_count": 33,
   "id": "5abef562",
   "metadata": {},
   "outputs": [],
   "source": [
    "new_date = dt(2014, 12, 15, 17, 30)"
   ]
  },
  {
   "cell_type": "code",
   "execution_count": 34,
   "id": "6e32db1f",
   "metadata": {},
   "outputs": [
    {
     "data": {
      "text/plain": [
       "datetime.datetime(2014, 12, 15, 17, 30)"
      ]
     },
     "execution_count": 34,
     "metadata": {},
     "output_type": "execute_result"
    }
   ],
   "source": [
    "new_date"
   ]
  },
  {
   "cell_type": "code",
   "execution_count": 35,
   "id": "c3b26544",
   "metadata": {},
   "outputs": [
    {
     "data": {
      "text/plain": [
       "17"
      ]
     },
     "execution_count": 35,
     "metadata": {},
     "output_type": "execute_result"
    }
   ],
   "source": [
    "new_date.hour"
   ]
  },
  {
   "cell_type": "code",
   "execution_count": 36,
   "id": "6baeae52",
   "metadata": {},
   "outputs": [
    {
     "data": {
      "text/plain": [
       "30"
      ]
     },
     "execution_count": 36,
     "metadata": {},
     "output_type": "execute_result"
    }
   ],
   "source": [
    "new_date.minute"
   ]
  },
  {
   "cell_type": "code",
   "execution_count": 37,
   "id": "e70961d5",
   "metadata": {},
   "outputs": [],
   "source": [
    "today = dt.now()"
   ]
  },
  {
   "cell_type": "code",
   "execution_count": 38,
   "id": "9018a9df",
   "metadata": {},
   "outputs": [
    {
     "data": {
      "text/plain": [
       "datetime.datetime(2023, 10, 9, 11, 34, 24, 254787)"
      ]
     },
     "execution_count": 38,
     "metadata": {},
     "output_type": "execute_result"
    }
   ],
   "source": [
    "today"
   ]
  },
  {
   "cell_type": "code",
   "execution_count": 39,
   "id": "51d4b5eb",
   "metadata": {},
   "outputs": [
    {
     "data": {
      "text/plain": [
       "datetime.date(2023, 10, 9)"
      ]
     },
     "execution_count": 39,
     "metadata": {},
     "output_type": "execute_result"
    }
   ],
   "source": [
    "today.date()"
   ]
  },
  {
   "cell_type": "code",
   "execution_count": 40,
   "id": "104259d9",
   "metadata": {},
   "outputs": [
    {
     "data": {
      "text/plain": [
       "datetime.time(11, 34, 24, 254787)"
      ]
     },
     "execution_count": 40,
     "metadata": {},
     "output_type": "execute_result"
    }
   ],
   "source": [
    "today.time()"
   ]
  },
  {
   "cell_type": "markdown",
   "id": "d296905e",
   "metadata": {},
   "source": [
    "# Timestamp objects"
   ]
  },
  {
   "cell_type": "code",
   "execution_count": 41,
   "id": "b42c6d64",
   "metadata": {},
   "outputs": [
    {
     "data": {
      "text/plain": [
       "Timestamp('2014-11-30 00:00:00')"
      ]
     },
     "execution_count": 41,
     "metadata": {},
     "output_type": "execute_result"
    }
   ],
   "source": [
    "pd.Timestamp('2014-11-30')"
   ]
  },
  {
   "cell_type": "code",
   "execution_count": 42,
   "id": "183684c5",
   "metadata": {},
   "outputs": [
    {
     "data": {
      "text/plain": [
       "Timestamp('2014-12-15 17:30:00')"
      ]
     },
     "execution_count": 42,
     "metadata": {},
     "output_type": "execute_result"
    }
   ],
   "source": [
    "pd.Timestamp('2014-12-15 17:30')"
   ]
  },
  {
   "cell_type": "code",
   "execution_count": 43,
   "id": "c769fd0e",
   "metadata": {},
   "outputs": [
    {
     "data": {
      "text/plain": [
       "Timestamp('2023-10-09 17:30:00')"
      ]
     },
     "execution_count": 43,
     "metadata": {},
     "output_type": "execute_result"
    }
   ],
   "source": [
    "pd.Timestamp('17:30')"
   ]
  },
  {
   "cell_type": "code",
   "execution_count": 44,
   "id": "9e8fa13c",
   "metadata": {},
   "outputs": [
    {
     "data": {
      "text/plain": [
       "Timestamp('2023-10-09 11:34:25.805916')"
      ]
     },
     "execution_count": 44,
     "metadata": {},
     "output_type": "execute_result"
    }
   ],
   "source": [
    "pd.Timestamp(\"now\")"
   ]
  },
  {
   "cell_type": "markdown",
   "id": "d19b2020",
   "metadata": {},
   "source": [
    "# Timedelta\n",
    "- A difference between two pandas Timestamp objects is represented by a timedelta\n",
    "  object, which is a representation of an exact difference in time. \n",
    "- These are common as results of determining the duration between two dates or to calculate the date at a\n",
    "  specific interval of time from another date and/or time."
   ]
  },
  {
   "cell_type": "code",
   "execution_count": 45,
   "id": "f9ac7881",
   "metadata": {},
   "outputs": [
    {
     "data": {
      "text/plain": [
       "datetime.datetime(2014, 11, 30, 0, 0)"
      ]
     },
     "execution_count": 45,
     "metadata": {},
     "output_type": "execute_result"
    }
   ],
   "source": [
    "today = dt(2014, 11, 30)\n",
    "today"
   ]
  },
  {
   "cell_type": "code",
   "execution_count": 46,
   "id": "fbc6cd59",
   "metadata": {},
   "outputs": [
    {
     "data": {
      "text/plain": [
       "datetime.datetime(2014, 12, 1, 0, 0)"
      ]
     },
     "execution_count": 46,
     "metadata": {},
     "output_type": "execute_result"
    }
   ],
   "source": [
    "tomorrow = today + pd.Timedelta(days=1)\n",
    "tomorrow"
   ]
  },
  {
   "cell_type": "code",
   "execution_count": 47,
   "id": "53e6285f",
   "metadata": {},
   "outputs": [
    {
     "data": {
      "text/plain": [
       "datetime.datetime(2014, 12, 10, 0, 0)"
      ]
     },
     "execution_count": 47,
     "metadata": {},
     "output_type": "execute_result"
    }
   ],
   "source": [
    "nextmonth_today = today + pd.Timedelta(days=10)\n",
    "nextmonth_today"
   ]
  },
  {
   "cell_type": "code",
   "execution_count": 48,
   "id": "bddc2e38",
   "metadata": {},
   "outputs": [
    {
     "data": {
      "text/plain": [
       "datetime.timedelta(days=4)"
      ]
     },
     "execution_count": 48,
     "metadata": {},
     "output_type": "execute_result"
    }
   ],
   "source": [
    "date1 = dt(2014, 12, 2)\n",
    "date2 = dt(2014, 11, 28)\n",
    "\n",
    "date1 - date2"
   ]
  },
  {
   "cell_type": "markdown",
   "id": "8e0d7912",
   "metadata": {},
   "source": [
    "# Introducing time-series data"
   ]
  },
  {
   "cell_type": "markdown",
   "id": "903ae464",
   "metadata": {},
   "source": [
    "## DatetimeIndex"
   ]
  },
  {
   "cell_type": "code",
   "execution_count": 49,
   "id": "4164b19f",
   "metadata": {},
   "outputs": [],
   "source": [
    "import numpy as np"
   ]
  },
  {
   "cell_type": "code",
   "execution_count": 50,
   "id": "0bb023cc",
   "metadata": {},
   "outputs": [],
   "source": [
    "series = pd.Series([1,2,3,4], index=[\"Apple\",\"Bat\",\"Cat\",\"Dog\"])"
   ]
  },
  {
   "cell_type": "code",
   "execution_count": 51,
   "id": "f5cd1af0",
   "metadata": {},
   "outputs": [
    {
     "data": {
      "text/plain": [
       "[datetime.datetime(2014, 8, 1, 0, 0), datetime.datetime(2014, 8, 2, 0, 0)]"
      ]
     },
     "execution_count": 51,
     "metadata": {},
     "output_type": "execute_result"
    }
   ],
   "source": [
    "dates = [dt(2014, 8, 1), dt(2014, 8, 2)]\n",
    "dates"
   ]
  },
  {
   "cell_type": "code",
   "execution_count": 52,
   "id": "b1790358",
   "metadata": {},
   "outputs": [
    {
     "data": {
      "text/plain": [
       "2014-08-01    10000\n",
       "2014-08-02    25000\n",
       "dtype: int64"
      ]
     },
     "execution_count": 52,
     "metadata": {},
     "output_type": "execute_result"
    }
   ],
   "source": [
    "ts = pd.Series([10000, 25000], dates)\n",
    "ts"
   ]
  },
  {
   "cell_type": "code",
   "execution_count": 53,
   "id": "aae042ef",
   "metadata": {},
   "outputs": [
    {
     "data": {
      "text/plain": [
       "DatetimeIndex(['2014-08-01', '2014-08-02'], dtype='datetime64[ns]', freq=None)"
      ]
     },
     "execution_count": 53,
     "metadata": {},
     "output_type": "execute_result"
    }
   ],
   "source": [
    "ts.index"
   ]
  },
  {
   "cell_type": "code",
   "execution_count": 54,
   "id": "db7c67b9",
   "metadata": {},
   "outputs": [
    {
     "data": {
      "text/plain": [
       "array([10000, 25000], dtype=int64)"
      ]
     },
     "execution_count": 54,
     "metadata": {},
     "output_type": "execute_result"
    }
   ],
   "source": [
    "ts.values"
   ]
  },
  {
   "cell_type": "code",
   "execution_count": 55,
   "id": "5e4c8cbb",
   "metadata": {},
   "outputs": [
    {
     "data": {
      "text/plain": [
       "Index(['Apple', 'Bat', 'Cat', 'Dog'], dtype='object')"
      ]
     },
     "execution_count": 55,
     "metadata": {},
     "output_type": "execute_result"
    }
   ],
   "source": [
    "series.index"
   ]
  },
  {
   "cell_type": "code",
   "execution_count": 56,
   "id": "215add00",
   "metadata": {},
   "outputs": [
    {
     "data": {
      "text/plain": [
       "array([1, 2, 3, 4], dtype=int64)"
      ]
     },
     "execution_count": 56,
     "metadata": {},
     "output_type": "execute_result"
    }
   ],
   "source": [
    "series.values"
   ]
  },
  {
   "cell_type": "code",
   "execution_count": null,
   "id": "ea76dabd",
   "metadata": {},
   "outputs": [],
   "source": []
  }
 ],
 "metadata": {
  "kernelspec": {
   "display_name": "Python 3 (ipykernel)",
   "language": "python",
   "name": "python3"
  },
  "language_info": {
   "codemirror_mode": {
    "name": "ipython",
    "version": 3
   },
   "file_extension": ".py",
   "mimetype": "text/x-python",
   "name": "python",
   "nbconvert_exporter": "python",
   "pygments_lexer": "ipython3",
   "version": "3.10.9"
  }
 },
 "nbformat": 4,
 "nbformat_minor": 5
}
