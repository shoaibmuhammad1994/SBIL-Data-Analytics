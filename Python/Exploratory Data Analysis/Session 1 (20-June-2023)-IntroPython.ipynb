{
 "cells": [
  {
   "cell_type": "markdown",
   "id": "c0120466",
   "metadata": {},
   "source": [
    "# Introduction to Python for Data Analytics\n",
    "    - Python is an open source programming language\n",
    "    - we will use anaconda distribution for running python\n",
    "    - Jupyter notebook will be out IDE from anaconda to do data analytics \n",
    "    - Python is a case sensitive langauge \n",
    "    - Python is a high level language \n",
    "    "
   ]
  },
  {
   "cell_type": "markdown",
   "id": "301fa8c3",
   "metadata": {},
   "source": [
    "# Todays Topics :\n",
    "     - Print function\n",
    "     - Data types\n",
    "     - Variables \n",
    "     - Operator"
   ]
  },
  {
   "cell_type": "markdown",
   "id": "204495a1",
   "metadata": {},
   "source": [
    "### print"
   ]
  },
  {
   "cell_type": "code",
   "execution_count": 1,
   "id": "b90d0ebb",
   "metadata": {},
   "outputs": [
    {
     "name": "stdout",
     "output_type": "stream",
     "text": [
      "100\n"
     ]
    }
   ],
   "source": [
    "print(100)"
   ]
  },
  {
   "cell_type": "code",
   "execution_count": 2,
   "id": "a5b93cf3",
   "metadata": {},
   "outputs": [
    {
     "ename": "SyntaxError",
     "evalue": "invalid syntax. Perhaps you forgot a comma? (738487954.py, line 1)",
     "output_type": "error",
     "traceback": [
      "\u001b[1;36m  Cell \u001b[1;32mIn[2], line 1\u001b[1;36m\u001b[0m\n\u001b[1;33m    print( Syed Asif Raza )\u001b[0m\n\u001b[1;37m           ^\u001b[0m\n\u001b[1;31mSyntaxError\u001b[0m\u001b[1;31m:\u001b[0m invalid syntax. Perhaps you forgot a comma?\n"
     ]
    }
   ],
   "source": [
    "print( Syed Asif Raza )"
   ]
  },
  {
   "cell_type": "code",
   "execution_count": 3,
   "id": "527f48cc",
   "metadata": {},
   "outputs": [
    {
     "name": "stdout",
     "output_type": "stream",
     "text": [
      "Syed Asif Raza\n"
     ]
    }
   ],
   "source": [
    "print( \"Syed Asif Raza\" )"
   ]
  },
  {
   "cell_type": "code",
   "execution_count": 4,
   "id": "1a920430",
   "metadata": {},
   "outputs": [
    {
     "name": "stdout",
     "output_type": "stream",
     "text": [
      "Syed Asif Raza Saqib Ali Zeeshan Ameer Ali\n"
     ]
    }
   ],
   "source": [
    "print( \"Syed Asif Raza\", \"Saqib Ali\", \"Zeeshan Ameer Ali\" )"
   ]
  },
  {
   "cell_type": "code",
   "execution_count": 5,
   "id": "dbdc2b48",
   "metadata": {},
   "outputs": [
    {
     "name": "stdout",
     "output_type": "stream",
     "text": [
      "Syed Asif Raza 500\n"
     ]
    }
   ],
   "source": [
    "print(\"Syed Asif Raza\", 500)"
   ]
  },
  {
   "cell_type": "markdown",
   "id": "536b9739",
   "metadata": {},
   "source": [
    "Value refers to data \n",
    "\n",
    "Data > text , numbers , \n",
    "\n",
    "       Boolean (True /False ) >> bool\n",
    "\n",
    "Text data in python >>>> String (str)\n",
    "\n",
    "\"Hassan\" , \"100\", 'Nasir', '''Python '''\n",
    "\n",
    "Numbers data >>> numeric data \n",
    "\n",
    "                    whole numbers    >>> integers (int)\n",
    "                    \n",
    "                    decimal numbers  >>> float (float)\n"
   ]
  },
  {
   "cell_type": "code",
   "execution_count": 6,
   "id": "8e905cd7",
   "metadata": {},
   "outputs": [
    {
     "name": "stdout",
     "output_type": "stream",
     "text": [
      "Pakistan True False 1200 98.56\n"
     ]
    }
   ],
   "source": [
    "print(\"Pakistan\", True,False, 1200, 98.56)"
   ]
  },
  {
   "cell_type": "markdown",
   "id": "53f1c9ee",
   "metadata": {},
   "source": [
    "##### Making String using single double and triple quotes\n",
    "     \"Pakistan\"\n",
    "     'Pakistan'\n",
    "     '''Pakistan'''"
   ]
  },
  {
   "cell_type": "code",
   "execution_count": 7,
   "id": "92497e3c",
   "metadata": {},
   "outputs": [
    {
     "name": "stdout",
     "output_type": "stream",
     "text": [
      "I am a python leaner\n"
     ]
    }
   ],
   "source": [
    "print(\"I am a python leaner\")"
   ]
  },
  {
   "cell_type": "code",
   "execution_count": 8,
   "id": "5a1458af",
   "metadata": {},
   "outputs": [
    {
     "name": "stdout",
     "output_type": "stream",
     "text": [
      "We are learning Data Analytics at SBIL\n"
     ]
    }
   ],
   "source": [
    "print('We are learning Data Analytics at SBIL')"
   ]
  },
  {
   "cell_type": "markdown",
   "id": "e8e4f1f1",
   "metadata": {},
   "source": [
    "We can not make a string with more than one lines using single or double quoatatons\n",
    "\n",
    "But we can make a multiline string using a tripple qouates"
   ]
  },
  {
   "cell_type": "code",
   "execution_count": 9,
   "id": "18fa0447",
   "metadata": {},
   "outputs": [
    {
     "ename": "SyntaxError",
     "evalue": "unterminated string literal (detected at line 1) (2385851710.py, line 1)",
     "output_type": "error",
     "traceback": [
      "\u001b[1;36m  Cell \u001b[1;32mIn[9], line 1\u001b[1;36m\u001b[0m\n\u001b[1;33m    print('I am a python leaner\u001b[0m\n\u001b[1;37m          ^\u001b[0m\n\u001b[1;31mSyntaxError\u001b[0m\u001b[1;31m:\u001b[0m unterminated string literal (detected at line 1)\n"
     ]
    }
   ],
   "source": [
    "print('I am a python leaner\n",
    "      We are learning Data Analytics at SBIL')"
   ]
  },
  {
   "cell_type": "code",
   "execution_count": 10,
   "id": "c3e5d2bf",
   "metadata": {},
   "outputs": [
    {
     "name": "stdout",
     "output_type": "stream",
     "text": [
      "I am a python leaner \n",
      "We are learning       \n",
      "Data Analytics       \n",
      "at SBIL\n"
     ]
    }
   ],
   "source": [
    "print('''I am a python leaner \n",
    "We are learning       \n",
    "Data Analytics       \n",
    "at SBIL''')"
   ]
  },
  {
   "cell_type": "markdown",
   "id": "bd38a076",
   "metadata": {},
   "source": [
    "# type()\n",
    "     to check the type of data of any given value"
   ]
  },
  {
   "cell_type": "code",
   "execution_count": 11,
   "id": "dfc5adeb",
   "metadata": {},
   "outputs": [
    {
     "data": {
      "text/plain": [
       "str"
      ]
     },
     "execution_count": 11,
     "metadata": {},
     "output_type": "execute_result"
    }
   ],
   "source": [
    "type(\"SBIL\")"
   ]
  },
  {
   "cell_type": "code",
   "execution_count": 12,
   "id": "28bb5cea",
   "metadata": {},
   "outputs": [
    {
     "data": {
      "text/plain": [
       "int"
      ]
     },
     "execution_count": 12,
     "metadata": {},
     "output_type": "execute_result"
    }
   ],
   "source": [
    "type(890)"
   ]
  },
  {
   "cell_type": "code",
   "execution_count": 13,
   "id": "9615c46b",
   "metadata": {},
   "outputs": [
    {
     "data": {
      "text/plain": [
       "float"
      ]
     },
     "execution_count": 13,
     "metadata": {},
     "output_type": "execute_result"
    }
   ],
   "source": [
    "type(45.45)"
   ]
  },
  {
   "cell_type": "code",
   "execution_count": 14,
   "id": "11f891d3",
   "metadata": {},
   "outputs": [
    {
     "data": {
      "text/plain": [
       "bool"
      ]
     },
     "execution_count": 14,
     "metadata": {},
     "output_type": "execute_result"
    }
   ],
   "source": [
    "type(True)"
   ]
  },
  {
   "cell_type": "markdown",
   "id": "a24a114c",
   "metadata": {},
   "source": [
    "# Variables\n",
    "      - variable is identifier of any data\n",
    "      - variable holds data and acts as a container\n",
    "      - variables stores data on RAM."
   ]
  },
  {
   "cell_type": "code",
   "execution_count": 15,
   "id": "30b63eda",
   "metadata": {},
   "outputs": [],
   "source": [
    "student = \"Aftab Mohiuddin\""
   ]
  },
  {
   "cell_type": "markdown",
   "id": "4586131b",
   "metadata": {},
   "source": [
    "A value \"Aftab Mohiuddin\" of type string is assigned to a variable student using assignment operator ="
   ]
  },
  {
   "cell_type": "code",
   "execution_count": 16,
   "id": "2748698d",
   "metadata": {},
   "outputs": [
    {
     "name": "stdout",
     "output_type": "stream",
     "text": [
      "Aftab Mohiuddin\n"
     ]
    }
   ],
   "source": [
    "print(student)"
   ]
  },
  {
   "cell_type": "code",
   "execution_count": 17,
   "id": "cb09b1b3",
   "metadata": {},
   "outputs": [
    {
     "data": {
      "text/plain": [
       "2337924796912"
      ]
     },
     "execution_count": 17,
     "metadata": {},
     "output_type": "execute_result"
    }
   ],
   "source": [
    "id(student)"
   ]
  },
  {
   "cell_type": "code",
   "execution_count": 18,
   "id": "cad742b5",
   "metadata": {},
   "outputs": [],
   "source": [
    "number = 123"
   ]
  },
  {
   "cell_type": "code",
   "execution_count": 19,
   "id": "457e53a2",
   "metadata": {},
   "outputs": [
    {
     "data": {
      "text/plain": [
       "123"
      ]
     },
     "execution_count": 19,
     "metadata": {},
     "output_type": "execute_result"
    }
   ],
   "source": [
    "number"
   ]
  },
  {
   "cell_type": "code",
   "execution_count": 20,
   "id": "cda78407",
   "metadata": {},
   "outputs": [],
   "source": [
    "marks = 89"
   ]
  },
  {
   "cell_type": "code",
   "execution_count": 21,
   "id": "4f787522",
   "metadata": {},
   "outputs": [
    {
     "data": {
      "text/plain": [
       "89"
      ]
     },
     "execution_count": 21,
     "metadata": {},
     "output_type": "execute_result"
    }
   ],
   "source": [
    "marks"
   ]
  },
  {
   "cell_type": "code",
   "execution_count": 22,
   "id": "cbf9849a",
   "metadata": {},
   "outputs": [
    {
     "data": {
      "text/plain": [
       "212"
      ]
     },
     "execution_count": 22,
     "metadata": {},
     "output_type": "execute_result"
    }
   ],
   "source": [
    "number + marks"
   ]
  },
  {
   "cell_type": "code",
   "execution_count": 23,
   "id": "4ed2e699",
   "metadata": {},
   "outputs": [],
   "source": [
    "firstname = 'Nasir'\n",
    "lastname = 'Hussain'"
   ]
  },
  {
   "cell_type": "code",
   "execution_count": 24,
   "id": "0c8d9b64",
   "metadata": {},
   "outputs": [
    {
     "data": {
      "text/plain": [
       "'NasirHussain'"
      ]
     },
     "execution_count": 24,
     "metadata": {},
     "output_type": "execute_result"
    }
   ],
   "source": [
    "firstname + lastname"
   ]
  },
  {
   "cell_type": "markdown",
   "id": "27789334",
   "metadata": {},
   "source": [
    "# Illegal Variable Names\n",
    "      - python keywords (if else break continue open close for while   in not etc...\n",
    "      - space in varaible \n",
    "      - starting with a number \n",
    "      - Use of Special character !@#$%^&*(){}\"<>? "
   ]
  },
  {
   "cell_type": "code",
   "execution_count": 25,
   "id": "f40218b6",
   "metadata": {},
   "outputs": [],
   "source": [
    "fathername  = \"Abdul Rasheed\""
   ]
  },
  {
   "cell_type": "code",
   "execution_count": 26,
   "id": "f20e3865",
   "metadata": {},
   "outputs": [],
   "source": [
    "father_name = \"Abdul Rasheed\""
   ]
  },
  {
   "cell_type": "code",
   "execution_count": 27,
   "id": "9082dfa7",
   "metadata": {},
   "outputs": [],
   "source": [
    "fatherName = \"Abdul Rasheed\""
   ]
  },
  {
   "cell_type": "code",
   "execution_count": 28,
   "id": "b4e3fdd4",
   "metadata": {},
   "outputs": [],
   "source": [
    "my_first_book_on_programming = \"Programming for kids\""
   ]
  },
  {
   "cell_type": "code",
   "execution_count": 29,
   "id": "0911ba6b",
   "metadata": {},
   "outputs": [],
   "source": [
    "my_1st_BookOnProgramming = \"Programming for kids\""
   ]
  },
  {
   "cell_type": "code",
   "execution_count": 30,
   "id": "1810669d",
   "metadata": {},
   "outputs": [
    {
     "ename": "SyntaxError",
     "evalue": "invalid decimal literal (3922863921.py, line 1)",
     "output_type": "error",
     "traceback": [
      "\u001b[1;36m  Cell \u001b[1;32mIn[30], line 1\u001b[1;36m\u001b[0m\n\u001b[1;33m    my(1st)BookOnProgramming = \"Programming for kids\"\u001b[0m\n\u001b[1;37m       ^\u001b[0m\n\u001b[1;31mSyntaxError\u001b[0m\u001b[1;31m:\u001b[0m invalid decimal literal\n"
     ]
    }
   ],
   "source": [
    "my(1st)BookOnProgramming = \"Programming for kids\""
   ]
  },
  {
   "cell_type": "code",
   "execution_count": 31,
   "id": "b9e41232",
   "metadata": {},
   "outputs": [
    {
     "data": {
      "text/plain": [
       "int"
      ]
     },
     "execution_count": 31,
     "metadata": {},
     "output_type": "execute_result"
    }
   ],
   "source": [
    "type(marks)"
   ]
  },
  {
   "cell_type": "code",
   "execution_count": 32,
   "id": "91ab6370",
   "metadata": {},
   "outputs": [
    {
     "data": {
      "text/plain": [
       "int"
      ]
     },
     "execution_count": 32,
     "metadata": {},
     "output_type": "execute_result"
    }
   ],
   "source": [
    "type(number)"
   ]
  },
  {
   "cell_type": "code",
   "execution_count": 33,
   "id": "1158129b",
   "metadata": {},
   "outputs": [
    {
     "data": {
      "text/plain": [
       "str"
      ]
     },
     "execution_count": 33,
     "metadata": {},
     "output_type": "execute_result"
    }
   ],
   "source": [
    "type(fathername)"
   ]
  },
  {
   "cell_type": "markdown",
   "id": "f5fd1f5a",
   "metadata": {},
   "source": [
    "# Operators \n",
    "       +, -, *, /, //, **, %, >, <, >=, <=, ==, !="
   ]
  },
  {
   "cell_type": "code",
   "execution_count": 34,
   "id": "72650039",
   "metadata": {},
   "outputs": [],
   "source": [
    "val1 = 45\n",
    "val2 = 78"
   ]
  },
  {
   "cell_type": "code",
   "execution_count": 35,
   "id": "7321e373",
   "metadata": {},
   "outputs": [
    {
     "data": {
      "text/plain": [
       "123"
      ]
     },
     "execution_count": 35,
     "metadata": {},
     "output_type": "execute_result"
    }
   ],
   "source": [
    "val2 + val1"
   ]
  },
  {
   "cell_type": "code",
   "execution_count": 36,
   "id": "516769c8",
   "metadata": {},
   "outputs": [
    {
     "data": {
      "text/plain": [
       "33"
      ]
     },
     "execution_count": 36,
     "metadata": {},
     "output_type": "execute_result"
    }
   ],
   "source": [
    "val2 - val1"
   ]
  },
  {
   "cell_type": "code",
   "execution_count": 37,
   "id": "fddf114e",
   "metadata": {},
   "outputs": [
    {
     "data": {
      "text/plain": [
       "3510"
      ]
     },
     "execution_count": 37,
     "metadata": {},
     "output_type": "execute_result"
    }
   ],
   "source": [
    "val2 * val1"
   ]
  },
  {
   "cell_type": "markdown",
   "id": "83d55b66",
   "metadata": {},
   "source": [
    "#### Float Division\n",
    "when both values are integers "
   ]
  },
  {
   "cell_type": "code",
   "execution_count": 38,
   "id": "797aee38",
   "metadata": {},
   "outputs": [
    {
     "data": {
      "text/plain": [
       "1.7333333333333334"
      ]
     },
     "execution_count": 38,
     "metadata": {},
     "output_type": "execute_result"
    }
   ],
   "source": [
    "val2 / val1    "
   ]
  },
  {
   "cell_type": "markdown",
   "id": "99210297",
   "metadata": {},
   "source": [
    "#### Integer Division\n",
    "when both values are integers "
   ]
  },
  {
   "cell_type": "code",
   "execution_count": 39,
   "id": "79c3a711",
   "metadata": {},
   "outputs": [
    {
     "data": {
      "text/plain": [
       "1"
      ]
     },
     "execution_count": 39,
     "metadata": {},
     "output_type": "execute_result"
    }
   ],
   "source": [
    "val2 // val1   "
   ]
  },
  {
   "cell_type": "code",
   "execution_count": 40,
   "id": "f138e48c",
   "metadata": {},
   "outputs": [
    {
     "name": "stdout",
     "output_type": "stream",
     "text": [
      "8 9 64\n"
     ]
    }
   ],
   "source": [
    "print(2**3, 3**2,4**3)"
   ]
  },
  {
   "cell_type": "code",
   "execution_count": 41,
   "id": "3be9eb26",
   "metadata": {},
   "outputs": [
    {
     "data": {
      "text/plain": [
       "2.0"
      ]
     },
     "execution_count": 41,
     "metadata": {},
     "output_type": "execute_result"
    }
   ],
   "source": [
    "10/5   #it returns quoatient"
   ]
  },
  {
   "cell_type": "code",
   "execution_count": 42,
   "id": "c869fe5d",
   "metadata": {},
   "outputs": [
    {
     "data": {
      "text/plain": [
       "0"
      ]
     },
     "execution_count": 42,
     "metadata": {},
     "output_type": "execute_result"
    }
   ],
   "source": [
    "10%5  # it return remainder of the divsion"
   ]
  },
  {
   "cell_type": "code",
   "execution_count": 43,
   "id": "25c22f49",
   "metadata": {},
   "outputs": [
    {
     "data": {
      "text/plain": [
       "2"
      ]
     },
     "execution_count": 43,
     "metadata": {},
     "output_type": "execute_result"
    }
   ],
   "source": [
    "20%6"
   ]
  },
  {
   "cell_type": "code",
   "execution_count": 44,
   "id": "2680c760",
   "metadata": {},
   "outputs": [
    {
     "data": {
      "text/plain": [
       "3"
      ]
     },
     "execution_count": 44,
     "metadata": {},
     "output_type": "execute_result"
    }
   ],
   "source": [
    "30%9"
   ]
  },
  {
   "cell_type": "markdown",
   "id": "358fb4f1",
   "metadata": {},
   "source": [
    "#### Boolean operators"
   ]
  },
  {
   "cell_type": "code",
   "execution_count": 45,
   "id": "14e7d9dd",
   "metadata": {},
   "outputs": [
    {
     "data": {
      "text/plain": [
       "True"
      ]
     },
     "execution_count": 45,
     "metadata": {},
     "output_type": "execute_result"
    }
   ],
   "source": [
    "500 > 400"
   ]
  },
  {
   "cell_type": "code",
   "execution_count": 46,
   "id": "de25b56e",
   "metadata": {},
   "outputs": [
    {
     "data": {
      "text/plain": [
       "False"
      ]
     },
     "execution_count": 46,
     "metadata": {},
     "output_type": "execute_result"
    }
   ],
   "source": [
    "500 < 400"
   ]
  },
  {
   "cell_type": "code",
   "execution_count": 47,
   "id": "4acc838d",
   "metadata": {},
   "outputs": [
    {
     "data": {
      "text/plain": [
       "False"
      ]
     },
     "execution_count": 47,
     "metadata": {},
     "output_type": "execute_result"
    }
   ],
   "source": [
    "500 == 400"
   ]
  },
  {
   "cell_type": "code",
   "execution_count": 48,
   "id": "1e3b80a7",
   "metadata": {},
   "outputs": [
    {
     "data": {
      "text/plain": [
       "True"
      ]
     },
     "execution_count": 48,
     "metadata": {},
     "output_type": "execute_result"
    }
   ],
   "source": [
    "500 == 1000/2"
   ]
  },
  {
   "cell_type": "code",
   "execution_count": 49,
   "id": "766708bd",
   "metadata": {},
   "outputs": [
    {
     "data": {
      "text/plain": [
       "True"
      ]
     },
     "execution_count": 49,
     "metadata": {},
     "output_type": "execute_result"
    }
   ],
   "source": [
    "2 >=2"
   ]
  },
  {
   "cell_type": "code",
   "execution_count": 50,
   "id": "c6e6a1d7",
   "metadata": {},
   "outputs": [
    {
     "data": {
      "text/plain": [
       "True"
      ]
     },
     "execution_count": 50,
     "metadata": {},
     "output_type": "execute_result"
    }
   ],
   "source": [
    "2 <= 2"
   ]
  },
  {
   "cell_type": "code",
   "execution_count": 51,
   "id": "1ff26c5f",
   "metadata": {},
   "outputs": [
    {
     "data": {
      "text/plain": [
       "True"
      ]
     },
     "execution_count": 51,
     "metadata": {},
     "output_type": "execute_result"
    }
   ],
   "source": [
    "5 != 6"
   ]
  },
  {
   "cell_type": "markdown",
   "id": "219e843d",
   "metadata": {},
   "source": [
    "# Operator Precedence"
   ]
  },
  {
   "cell_type": "code",
   "execution_count": 52,
   "id": "128e5446",
   "metadata": {},
   "outputs": [
    {
     "data": {
      "text/plain": [
       "2"
      ]
     },
     "execution_count": 52,
     "metadata": {},
     "output_type": "execute_result"
    }
   ],
   "source": [
    "10 - 4 * 2"
   ]
  },
  {
   "cell_type": "code",
   "execution_count": 53,
   "id": "5cc56a5f",
   "metadata": {},
   "outputs": [
    {
     "data": {
      "text/plain": [
       "12"
      ]
     },
     "execution_count": 53,
     "metadata": {},
     "output_type": "execute_result"
    }
   ],
   "source": [
    "(10 - 4) * 2"
   ]
  },
  {
   "cell_type": "raw",
   "id": "3d4d8e71",
   "metadata": {},
   "source": [
    "Operators           Meaning\n",
    "()\t                Parentheses\n",
    "**\t                Exponent\n",
    "+x, -x, ~x\t        Unary plus, Unary minus,\n",
    "*, /, //, %\t        Multiplication, Division, Floor division, Modulus\n",
    "+, -\t            Addition, Subtraction\n"
   ]
  },
  {
   "cell_type": "markdown",
   "id": "006c7cfc",
   "metadata": {},
   "source": [
    "# Increment Operator / Decrement Operator"
   ]
  },
  {
   "cell_type": "code",
   "execution_count": 54,
   "id": "dbe173cc",
   "metadata": {},
   "outputs": [],
   "source": [
    "num = 100"
   ]
  },
  {
   "cell_type": "code",
   "execution_count": 55,
   "id": "8eca3960",
   "metadata": {},
   "outputs": [
    {
     "name": "stdout",
     "output_type": "stream",
     "text": [
      "101\n"
     ]
    }
   ],
   "source": [
    "print(num+1)"
   ]
  },
  {
   "cell_type": "code",
   "execution_count": 56,
   "id": "1602e17c",
   "metadata": {},
   "outputs": [],
   "source": [
    "num = num + 1 #101"
   ]
  },
  {
   "cell_type": "code",
   "execution_count": 57,
   "id": "03e92d0c",
   "metadata": {},
   "outputs": [
    {
     "data": {
      "text/plain": [
       "101"
      ]
     },
     "execution_count": 57,
     "metadata": {},
     "output_type": "execute_result"
    }
   ],
   "source": [
    "num"
   ]
  },
  {
   "cell_type": "code",
   "execution_count": 58,
   "id": "32b5e867",
   "metadata": {},
   "outputs": [
    {
     "name": "stdout",
     "output_type": "stream",
     "text": [
      "102\n"
     ]
    }
   ],
   "source": [
    "num +=1\n",
    "print(num)"
   ]
  },
  {
   "cell_type": "code",
   "execution_count": 59,
   "id": "08291d66",
   "metadata": {},
   "outputs": [
    {
     "name": "stdout",
     "output_type": "stream",
     "text": [
      "101\n"
     ]
    }
   ],
   "source": [
    "num -=1\n",
    "print(num)"
   ]
  },
  {
   "cell_type": "code",
   "execution_count": 60,
   "id": "65e0d259",
   "metadata": {},
   "outputs": [
    {
     "name": "stdout",
     "output_type": "stream",
     "text": [
      "106\n"
     ]
    }
   ],
   "source": [
    "num +=5\n",
    "print(num)"
   ]
  },
  {
   "cell_type": "code",
   "execution_count": 61,
   "id": "3581cd98",
   "metadata": {},
   "outputs": [
    {
     "name": "stdout",
     "output_type": "stream",
     "text": [
      "3\n"
     ]
    }
   ],
   "source": [
    " print(5 * 2 // 3)"
   ]
  },
  {
   "cell_type": "code",
   "execution_count": 62,
   "id": "1e054987",
   "metadata": {},
   "outputs": [
    {
     "name": "stdout",
     "output_type": "stream",
     "text": [
      "3.3333333333333335\n"
     ]
    }
   ],
   "source": [
    "print(5 * 2 / 3)"
   ]
  },
  {
   "cell_type": "code",
   "execution_count": 63,
   "id": "5482d197",
   "metadata": {},
   "outputs": [
    {
     "name": "stdout",
     "output_type": "stream",
     "text": [
      "512\n"
     ]
    }
   ],
   "source": [
    "print(2 ** 3 ** 2)"
   ]
  },
  {
   "cell_type": "code",
   "execution_count": 65,
   "id": "852a84ca",
   "metadata": {},
   "outputs": [
    {
     "name": "stdout",
     "output_type": "stream",
     "text": [
      "Enter a number of your choice: 25\n",
      "You have supplied an odd number\n"
     ]
    }
   ],
   "source": [
    "num  = int(input(\"Enter a number of your choice: \"))\n",
    "\n",
    "if num %2 == 0:\n",
    "    print(\"You have supplied an even number\")\n",
    "else:\n",
    "     print(\"You have supplied an odd number\")"
   ]
  },
  {
   "cell_type": "code",
   "execution_count": null,
   "id": "63016220",
   "metadata": {},
   "outputs": [],
   "source": []
  },
  {
   "cell_type": "code",
   "execution_count": null,
   "id": "9b70b98c",
   "metadata": {},
   "outputs": [],
   "source": []
  },
  {
   "cell_type": "code",
   "execution_count": null,
   "id": "62fad23f",
   "metadata": {},
   "outputs": [],
   "source": []
  }
 ],
 "metadata": {
  "kernelspec": {
   "display_name": "Python 3 (ipykernel)",
   "language": "python",
   "name": "python3"
  },
  "language_info": {
   "codemirror_mode": {
    "name": "ipython",
    "version": 3
   },
   "file_extension": ".py",
   "mimetype": "text/x-python",
   "name": "python",
   "nbconvert_exporter": "python",
   "pygments_lexer": "ipython3",
   "version": "3.10.9"
  }
 },
 "nbformat": 4,
 "nbformat_minor": 5
}
