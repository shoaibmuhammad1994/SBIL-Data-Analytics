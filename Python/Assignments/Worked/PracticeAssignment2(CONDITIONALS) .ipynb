{
 "cells": [
  {
   "cell_type": "raw",
   "metadata": {
    "id": "8rksu2_jMVjQ"
   },
   "source": [
    "1) A company decided to give bonus of 5% to employee if his/her year of service is more than 5 years.\n",
    "Ask user for their salary and year of service and print the net bonus amount."
   ]
  },
  {
   "cell_type": "code",
   "execution_count": 1,
   "metadata": {
    "id": "_GRPHPiLMVjX"
   },
   "outputs": [
    {
     "name": "stdout",
     "output_type": "stream",
     "text": [
      "Enter your years of service: 5\n",
      "Enter your salary: 60000\n",
      "I am sorry to say that you are not eligible for bonus\n"
     ]
    }
   ],
   "source": [
    "#Type your code here\n",
    "yearsOfService = int(input(\"Enter your years of service: \"))\n",
    "salary = int(input(\"Enter your salary: \"))\n",
    "\n",
    "if(yearsOfService > 5):\n",
    "    bonus = salary * 0.05\n",
    "    newSalary = salary + bonus\n",
    "    print(\"Your bonus amount is\", bonus, \"and your new Salary amount is\", newSalary)\n",
    "else:\n",
    "    print(\"I am sorry to say that you are not eligible for bonus\")"
   ]
  },
  {
   "cell_type": "markdown",
   "metadata": {
    "id": "iXt5RVcjMVja"
   },
   "source": [
    "2) Write a program to check whether a person is eligible for voting or not. (accept age from user)"
   ]
  },
  {
   "cell_type": "code",
   "execution_count": 2,
   "metadata": {
    "id": "jXVCvia3MVjh"
   },
   "outputs": [
    {
     "name": "stdout",
     "output_type": "stream",
     "text": [
      "Ented your age: 29\n",
      "You are eligible for voting\n"
     ]
    }
   ],
   "source": [
    "#Type your code here\n",
    "age = int(input(\"Ented your age: \"))\n",
    "if age >= 18:\n",
    "    print(\"You are eligible for voting\")\n",
    "else:\n",
    "    print(\"You are not eligible for voting\")"
   ]
  },
  {
   "cell_type": "markdown",
   "metadata": {
    "id": "IkNM7QpCMVjj"
   },
   "source": [
    "3) Write a program to check whether a number entered by user is even or odd."
   ]
  },
  {
   "cell_type": "code",
   "execution_count": 3,
   "metadata": {
    "id": "-GxviwByMVjl"
   },
   "outputs": [
    {
     "name": "stdout",
     "output_type": "stream",
     "text": [
      "Enter any number: 20\n",
      "20 is an even number\n"
     ]
    }
   ],
   "source": [
    "number = int(input(\"Enter any number: \"))\n",
    "if (number % 2) == 0:\n",
    "    print(f\"{number} is an even number\")\n",
    "else: \n",
    "    print(f\"{number} is an odd number\")"
   ]
  },
  {
   "cell_type": "markdown",
   "metadata": {
    "id": "_jEHjkfdMVjm"
   },
   "source": [
    "4) Write a program to check whether a number is divisible by 7 or not.\n",
    "Show Answer"
   ]
  },
  {
   "cell_type": "code",
   "execution_count": 4,
   "metadata": {
    "id": "IRNXyG1GMVjo"
   },
   "outputs": [
    {
     "name": "stdout",
     "output_type": "stream",
     "text": [
      "Enter any number: 56\n",
      "The given number 56 is divisible by 7\n"
     ]
    }
   ],
   "source": [
    "#Type your code here\n",
    "number = int(input(\"Enter any number: \"))\n",
    "if (number % 7) == 0:\n",
    "    print(f\"The given number {number} is divisible by 7\")\n",
    "else:\n",
    "    print(f\"The given number {number} is not divisible by 7\")"
   ]
  },
  {
   "cell_type": "raw",
   "metadata": {
    "id": "XxfyVe4kMVjp"
   },
   "source": [
    "5) Write a program to display \"Hello\" if a number entered by user is a multiple of five , otherwise print \"Bye\"."
   ]
  },
  {
   "cell_type": "code",
   "execution_count": 5,
   "metadata": {
    "id": "Ixnz4R4TMVjr"
   },
   "outputs": [
    {
     "name": "stdout",
     "output_type": "stream",
     "text": [
      "Enter any number: 25\n",
      "Hello\n"
     ]
    }
   ],
   "source": [
    "#Type your code here\n",
    "number = int(input(\"Enter any number: \"))\n",
    "if (number % 5) == 0:\n",
    "    print(\"Hello\")\n",
    "else:\n",
    "    print(\"Bye\")"
   ]
  },
  {
   "cell_type": "raw",
   "metadata": {
    "id": "qfzRUUwOMVjs"
   },
   "source": [
    "6) Write a program to calculate the electricity bill \n",
    "(accept number of unit from user) according to the following criteria :\n",
    "     Unit                                                     Price  \n",
    "upto 100 units                                             no charge\n",
    "Next 200 units                                              Rs 5 per unit\n",
    "After 300 units                                             Rs 10 per unit\n",
    "(For example if input unit is 350 than total bill amount is Rs.2000\n",
    "(For example if input unit is 97 than total bill amount is Rs.0\n",
    "(For example if input unit is 150 than total bill amount is Rs.250"
   ]
  },
  {
   "cell_type": "code",
   "execution_count": 6,
   "metadata": {},
   "outputs": [
    {
     "name": "stdout",
     "output_type": "stream",
     "text": [
      "Enter the number of units: 350\n",
      "The total bill amount is Rs. 2000\n"
     ]
    }
   ],
   "source": [
    "units = int(input(\"Enter the number of units: \"))\n",
    "\n",
    "total_bill = 0\n",
    "\n",
    "if units <= 100:\n",
    "    total_bill = 0\n",
    "elif units <= 200:\n",
    "    total_bill = (units - 100) * 5\n",
    "else:\n",
    "    total_bill = 500 + (units - 200) * 10\n",
    "\n",
    "print(f\"The total bill amount is Rs. {total_bill}\")"
   ]
  },
  {
   "cell_type": "raw",
   "metadata": {
    "id": "msAIDMRDMVjv"
   },
   "source": [
    "7) Write a program to display the last digit of a number."
   ]
  },
  {
   "cell_type": "code",
   "execution_count": 7,
   "metadata": {
    "id": "VQwLuGzbMVjv"
   },
   "outputs": [
    {
     "name": "stdout",
     "output_type": "stream",
     "text": [
      "Enter a number: 4329\n",
      "The last digit of 4329 is 9\n"
     ]
    }
   ],
   "source": [
    "#Type your code here\n",
    "number = int(input(\"Enter a number: \"))\n",
    "last_digit = number % 10\n",
    "print(f\"The last digit of {number} is {last_digit}\")"
   ]
  },
  {
   "cell_type": "code",
   "execution_count": 8,
   "metadata": {},
   "outputs": [
    {
     "name": "stdout",
     "output_type": "stream",
     "text": [
      "Enter a Number: 4329\n",
      "The last digit of 4329 is 9\n"
     ]
    }
   ],
   "source": [
    "number = input(\"Enter a Number: \")\n",
    "last_digit = int(str(number)[-1])\n",
    "print(f\"The last digit of {number} is {last_digit}\")"
   ]
  },
  {
   "cell_type": "raw",
   "metadata": {
    "id": "UeLHzVZ_MVjw"
   },
   "source": [
    "Q8. Write a program to check whether the last digit of a number( entered by user ) is \n",
    "divisible by 3 or not."
   ]
  },
  {
   "cell_type": "code",
   "execution_count": 9,
   "metadata": {
    "id": "KiQ5wnc6MVjx"
   },
   "outputs": [
    {
     "name": "stdout",
     "output_type": "stream",
     "text": [
      "Enter a number: 4329\n",
      "The last digit of 4329 is divisible by 3\n"
     ]
    }
   ],
   "source": [
    "#Type your code here\n",
    "number = int(input(\"Enter a number: \"))\n",
    "last_digit = number % 10\n",
    "\n",
    "if (last_digit % 3 ) == 0:\n",
    "    print(f\"The last digit of {number} is divisible by 3\")\n",
    "else:\n",
    "    print(f\"The last digit of {number} is not divisible by 3\")"
   ]
  },
  {
   "cell_type": "raw",
   "metadata": {
    "id": "CR4sMmRgMVjy"
   },
   "source": [
    "9) Take values of length and breadth of a rectangle from user and check if it is square or not."
   ]
  },
  {
   "cell_type": "code",
   "execution_count": 10,
   "metadata": {
    "id": "Oj1MT5fCMVjy"
   },
   "outputs": [
    {
     "name": "stdout",
     "output_type": "stream",
     "text": [
      "Enter the length of the rectangle: 25\n",
      "Enter the breadth of the rectangle: 25\n",
      "It is a square.\n"
     ]
    }
   ],
   "source": [
    "#Type your code here \n",
    "length = float(input(\"Enter the length of the rectangle: \"))\n",
    "breadth = float(input(\"Enter the breadth of the rectangle: \"))\n",
    "\n",
    "if length == breadth:\n",
    "    print(\"It is a square.\")\n",
    "else:\n",
    "    print(\"It is not a square.\")\n"
   ]
  },
  {
   "cell_type": "raw",
   "metadata": {
    "id": "B2e5VYbiMVjz"
   },
   "source": [
    "10) Take two int values from user and print greatest among them."
   ]
  },
  {
   "cell_type": "code",
   "execution_count": 11,
   "metadata": {
    "id": "LyYYL78HMVj0"
   },
   "outputs": [
    {
     "name": "stdout",
     "output_type": "stream",
     "text": [
      "Enter first number: 29\n",
      "Enter second number: 30\n",
      "The greatest number is 30.\n"
     ]
    }
   ],
   "source": [
    "# Type your code here\n",
    "num1 = int(input(\"Enter first number: \"))\n",
    "num2 = int(input(\"Enter second number: \"))\n",
    "\n",
    "if num1 > num2:\n",
    "    print(f\"The greatest number is {num1}.\")\n",
    "elif num2 > num1:\n",
    "    print(f\"The greatest number is {num2}.\")\n",
    "else:\n",
    "    print(\"Both numbers are equal.\")"
   ]
  },
  {
   "cell_type": "raw",
   "metadata": {
    "id": "R9gMEjdQMVj1"
   },
   "source": [
    "11) A shop will give discount of 10% if the cost of purchased quantity is more than 1000.\n",
    "Ask user for quantity\n",
    "Suppose, one unit will cost 100.\n",
    "Judge and print total cost for user."
   ]
  },
  {
   "cell_type": "code",
   "execution_count": 12,
   "metadata": {
    "id": "hjvEnOzxMVj2"
   },
   "outputs": [
    {
     "name": "stdout",
     "output_type": "stream",
     "text": [
      "Enter the number of units to purchase: 15\n",
      "The 10% discount amount is:  150.0\n",
      "Bill after discount is:  1350.0\n"
     ]
    }
   ],
   "source": [
    "#Type your code here\n",
    "units = int(input(\"Enter the number of units to purchase: \"))\n",
    "total_cost = units * 100\n",
    "\n",
    "if (total_cost >= 1000):\n",
    "    cost = total_cost * 0.1\n",
    "    print(\"The 10% discount amount is: \", cost)\n",
    "    print(\"Bill after discount is: \", total_cost - cost)\n",
    "else:\n",
    "    print(\"Your bill is: \", total_cost)"
   ]
  },
  {
   "cell_type": "raw",
   "metadata": {
    "id": "yqYL7FZeMVj3"
   },
   "source": [
    "12) A school has following rules for grading system:\n",
    "\n",
    "a. Below 25 - F\n",
    "\n",
    "b. 25 to 45 - E\n",
    "\n",
    "c. 45 to 50 - D\n",
    "\n",
    "d. 50 to 60 - C\n",
    "\n",
    "e. 60 to 80 - B\n",
    "\n",
    "f. Above 80 - A\n",
    "\n",
    "Ask user to enter marks and print the corresponding grade."
   ]
  },
  {
   "cell_type": "code",
   "execution_count": 13,
   "metadata": {
    "id": "he_r-bpOMVj4"
   },
   "outputs": [
    {
     "name": "stdout",
     "output_type": "stream",
     "text": [
      "Enter Data Analytics subject marks: 95\n",
      "Enter Statistics subject marks: 70\n",
      "Enter Python subject marks: 85\n",
      "Enter Power BI subject marks: 90\n",
      "Percentage is: 85.0 and Grade is: A\n"
     ]
    }
   ],
   "source": [
    "#Type your code here\n",
    "totalMarks = 400\n",
    "\n",
    "dataAnalytics = int(input(\"Enter Data Analytics subject marks: \"))\n",
    "statistics = int(input(\"Enter Statistics subject marks: \"))\n",
    "python = int(input(\"Enter Python subject marks: \"))\n",
    "powerBI = int(input(\"Enter Power BI subject marks: \"))\n",
    "\n",
    "obtainedMarks = dataAnalytics + statistics + python + powerBI\n",
    "percentage = (obtainedMarks / totalMarks) * 100\n",
    "percentage = round(percentage, 2)\n",
    "\n",
    "if percentage >= 80:\n",
    "    print(f\"Percentage is: {percentage} and Grade is: A\")\n",
    "elif percentage >=60:\n",
    "    print(f\"Percentage is: {percentage} and Grade is: B\")\n",
    "elif percentage >=50:\n",
    "    print(f\"Percentage is: {percentage} and Grade is: C\")\n",
    "elif percentage >=45:\n",
    "    print(f\"Percentage is: {percentage} and Grade is: D\")\n",
    "elif percentage >=25:\n",
    "    print(f\"Percentage is: {percentage} and Grade is: E\")\n",
    "else:\n",
    "    print(f\"Percentage is: {percentage} and Grade is: F\")"
   ]
  },
  {
   "cell_type": "raw",
   "metadata": {
    "id": "IUJjt9NbMVj4"
   },
   "source": [
    "13) Take input of age of 3 people by user and determine oldest and youngest among them."
   ]
  },
  {
   "cell_type": "code",
   "execution_count": 14,
   "metadata": {
    "id": "vlre5Ck0MVj4"
   },
   "outputs": [
    {
     "name": "stdout",
     "output_type": "stream",
     "text": [
      "Enter the name of person 1: Nazir\n",
      "\n",
      "Enter the age of person 1: 35\n",
      "\n",
      "Enter the name of person 2: Ali\n",
      "\n",
      "Enter the age of person 2: 29\n",
      "\n",
      "Enter the name of person 3: Bilal\n",
      "\n",
      "Enter the age of person 3: 23\n",
      "\n",
      "Bilal of 23 is the youngest\n",
      "\n",
      "Nazir of 35 is the oldest\n"
     ]
    }
   ],
   "source": [
    "#Type your code here\n",
    "person1 = input(\"Enter the name of person 1: \")\n",
    "age1 = int(input(\"\\nEnter the age of person 1: \"))\n",
    "person2 = input(\"\\nEnter the name of person 2: \")\n",
    "age2 = int(input(\"\\nEnter the age of person 2: \"))\n",
    "person3 = input(\"\\nEnter the name of person 3: \")\n",
    "age3 = int(input(\"\\nEnter the age of person 3: \"))\n",
    "\n",
    "youngest = min(age1, age2, age3)\n",
    "oldest = max(age1, age2, age3)\n",
    "\n",
    "#*********** Yougest ************\n",
    "\n",
    "if (age1 == youngest):\n",
    "    print(f\"\\n{person1} of {age1} is the youngest\")\n",
    "elif (age2 == youngest):\n",
    "    print(f\"\\n{person2} of {age2} is the youngest\")\n",
    "else:\n",
    "    print(f\"\\n{person3} of {age3} is the youngest\")\n",
    "\n",
    "#*********** Oldest ************\n",
    "\n",
    "if (age1 == oldest):\n",
    "    print(f\"\\n{person1} of {age1} is the oldest\")\n",
    "elif (age2 == oldest):\n",
    "    print(f\"\\n{person2} of {age2} is the oldest\")\n",
    "else:\n",
    "    print(f\"\\n{person3} of {age3} is the oldest\")\n",
    "\n",
    "\n",
    "# print(\"The oldest person is {} who is {} years old.\".format(name1 if age1 == oldest_age else name2 \n",
    "#                                                             if age2 == oldest_age else name3, oldest_age))\n",
    "\n",
    "# print(\"The youngest person is {} who is {} years old.\".format(name1 if age1 == youngest_age else name2 \n",
    "#                                                               if age2 == youngest_age else name3, youngest_age))\n"
   ]
  },
  {
   "cell_type": "raw",
   "metadata": {
    "id": "Zc9ovDhsMVj5"
   },
   "source": [
    "14)A student will not be allowed to sit in exam if his/her attendence is less than 75%.\n",
    "\n",
    "Take following input from user\n",
    "\n",
    "Number of classes held\n",
    "\n",
    "Number of classes attended.\n",
    "\n",
    "And print\n",
    "\n",
    "percentage of class attended\n",
    "\n",
    "Is student is allowed to sit in exam or not.\n"
   ]
  },
  {
   "cell_type": "code",
   "execution_count": 15,
   "metadata": {
    "id": "rseYum2_MVj6"
   },
   "outputs": [
    {
     "name": "stdout",
     "output_type": "stream",
     "text": [
      "Enter name of the student: Shoaib\n",
      "Enter the number of classes held: 48\n",
      "Enter the number of classes attended: 41\n",
      "Shoaib with attendance percentage of 85.42 is allowed to sit in the exam\n"
     ]
    }
   ],
   "source": [
    "#Type your code here\n",
    "studentName = input(\"Enter name of the student: \")\n",
    "numberOfClassessHeld = int(input(\"Enter the number of classes held: \"))\n",
    "numberOfClassessAttended = int(input(\"Enter the number of classes attended: \"))\n",
    "\n",
    "\n",
    "attendancePercentage = (numberOfClassessAttended / numberOfClassessHeld) * 100\n",
    "attendancePercentage = round(attendancePercentage, 2)\n",
    "\n",
    "if (attendancePercentage >= 75):\n",
    "    print(f\"{studentName} with attendance percentage of {attendancePercentage} is allowed to sit in the exam\")\n",
    "else:\n",
    "    print(f\"{studentName} with attendance percentage of {attendancePercentage} is not allowed to sit in the exam\")"
   ]
  },
  {
   "cell_type": "raw",
   "metadata": {
    "id": "58UPPHAOMVj6"
   },
   "source": [
    "15) Modify the above question to allow student to sit if he/she has medical cause. Ask user if he/she has medical cause or not ( 'Y' or 'N' ) and print accordingly."
   ]
  },
  {
   "cell_type": "code",
   "execution_count": 16,
   "metadata": {
    "id": "lDi-xLzTMVj7"
   },
   "outputs": [
    {
     "name": "stdout",
     "output_type": "stream",
     "text": [
      "Enter name of the student: Anwar\n",
      "Enter the number of classes held: 48\n",
      "Enter the number of classes attended: 24\n",
      "Do you have a medical cause (Y/N): y\n",
      "Anwar is allowed to sit in the exam due to medical cause\n"
     ]
    }
   ],
   "source": [
    "#Type your code here\n",
    "studentName = input(\"Enter name of the student: \")\n",
    "numberOfClassessHeld = int(input(\"Enter the number of classes held: \"))\n",
    "numberOfClassessAttended = int(input(\"Enter the number of classes attended: \"))\n",
    "medicalCause = input(\"Do you have a medical cause (Y/N): \")[0].upper()\n",
    "\n",
    "\n",
    "attendancePercentage = (numberOfClassessAttended / numberOfClassessHeld) * 100\n",
    "attendancePercentage = round(attendancePercentage, 2)\n",
    "\n",
    "\n",
    "if (attendancePercentage >= 75):\n",
    "    print(f\"{studentName} with attendance percentage of {attendancePercentage} is allowed to sit in the exam\")\n",
    "elif (medicalCause == 'Y'):\n",
    "    print(f\"{studentName} is allowed to sit in the exam due to medical cause\")\n",
    "else:\n",
    "    print(f\"{studentName} with attendance percentage of {attendancePercentage} is not allowed to sit in the exam\")"
   ]
  },
  {
   "cell_type": "raw",
   "metadata": {
    "id": "kJtSy1EoMVj7"
   },
   "source": [
    "16) Write a program to check if a year is leap year or not.\n",
    "\n",
    "If a year is divisible by 4 then it is leap year but if the year is century year like 2000, 1900, 2100 then it must be divisible by 400."
   ]
  },
  {
   "cell_type": "code",
   "execution_count": 17,
   "metadata": {},
   "outputs": [
    {
     "name": "stdout",
     "output_type": "stream",
     "text": [
      "Enter a year: 2022\n",
      "2022 is not a leap year\n"
     ]
    }
   ],
   "source": [
    "#Type your code here\n",
    "year = int(input(\"Enter a year: \"))\n",
    "\n",
    "if (year % 400 == 0) and (year % 100 == 0):\n",
    "    print(f\"{year} is a leap year\")\n",
    "elif (year % 4 ==0) and (year % 100 != 0):\n",
    "    print(f\"{year} is a leap year\") \n",
    "else:\n",
    "    print(f\"{year} is not a leap year\")"
   ]
  },
  {
   "cell_type": "raw",
   "metadata": {
    "id": "CCNg4yDDMVj8"
   },
   "source": [
    "17) Ask user to enter age, gender ( M or F ), marital status ( Y or N ) and then using following rules print their place of service.\n",
    "\n",
    "if employee is female, then she will work only in urban areas.\n",
    "\n",
    "if employee is a male and age is in between 20 to 40 then he may work in anywhere\n",
    "\n",
    "if employee is male and age is in between 40 t0 60 then he will work in urban areas only.\n",
    "\n",
    "And any other input of age should print \"ERROR\""
   ]
  },
  {
   "cell_type": "code",
   "execution_count": 18,
   "metadata": {
    "id": "RDWMB0CZMVj8"
   },
   "outputs": [
    {
     "name": "stdout",
     "output_type": "stream",
     "text": [
      "Enter employee age: 45\n",
      "Enter employee gender: m\n",
      "Enter employee marial status: m\n",
      "Employee is a senior person and must be posted in Urban Areas only\n"
     ]
    }
   ],
   "source": [
    "#Type your code here\n",
    "age = int(input(\"Enter employee age: \"))\n",
    "gender = input(\"Enter employee gender: \")[0].upper()\n",
    "maritalStatus = input(\"Enter employee marial status: \")[0].upper()\n",
    "\n",
    "if gender == \"F\":\n",
    "    print(\"Employee is a female and must be posted in Urban Areas only\")\n",
    "elif (gender == \"M\" and age >= 40 and age <=60):\n",
    "    print(\"Employee is a senior person and must be posted in Urban Areas only\")\n",
    "elif (gender == \"M\" and age >= 20 and age <=39):\n",
    "    print(\"Employee is a young and energetic person and can be posted anywhere\")\n",
    "else:\n",
    "    print(\"ERROR\")"
   ]
  },
  {
   "cell_type": "code",
   "execution_count": null,
   "metadata": {
    "id": "-TG-QI8TMVj9"
   },
   "outputs": [],
   "source": []
  }
 ],
 "metadata": {
  "colab": {
   "name": "If then Else &Elif Practice Task .ipynb",
   "provenance": []
  },
  "kernelspec": {
   "display_name": "Python 3 (ipykernel)",
   "language": "python",
   "name": "python3"
  },
  "language_info": {
   "codemirror_mode": {
    "name": "ipython",
    "version": 3
   },
   "file_extension": ".py",
   "mimetype": "text/x-python",
   "name": "python",
   "nbconvert_exporter": "python",
   "pygments_lexer": "ipython3",
   "version": "3.10.9"
  }
 },
 "nbformat": 4,
 "nbformat_minor": 1
}
